{
 "cells": [
  {
   "cell_type": "markdown",
   "metadata": {
    "id": "GsccfSDERjBo"
   },
   "source": [
    "# ĐỀ KIỂM TRA GIỮA KỲ\n",
    "## Môn: Đại số tuyến tính tính toán\n",
    "## Ngày: 20/03/2024\n",
    "## Lớp: DHKHDL18A (nhóm TH3). Thời gian: 60 phút"
   ]
  },
  {
   "cell_type": "markdown",
   "metadata": {},
   "source": [
    "**Câu 1.** (2 điểm) Trong lĩnh vực xử lý ngôn ngữ tự nhiên $NLP$, với danh sách từ vựng $\\mathcal{L}$ độ dài $\\ell$, mỗi câu văn có thể được mô tả bởi 1 vector $v\\in\\mathbb{R}^{\\ell}$ mà thành phần thứ $i$ cho biết số lần mà từ $d_i \\in \\mathcal{L}$ xuất hiện trong câu, còn được gọi là tọa độ của câu văn trong $\\mathcal{L}$. Xét các câu văn sau đây:\n",
    "> * $D_1$: *tôi là nền tảng của AI, Python là tên tôi*.\n",
    "> * $D_2$: *AI thích chạy Python*.\n",
    "> * $D_3$: *tôi thích AI*.\n",
    "> * $D_4$: *tôi là Python*.\n",
    "\n",
    "Giả sử rằng $\\mathcal{L} =$ (*AI, Python, nền, của, là, tôi, tên, thích, chạy, tảng*) với $|\\mathcal{L}| = 10$ thì chẳng hạn câu văn $D_0$ = **Python là nền tảng của tôi tên tôi là AI** sẽ có tọa độ là $$d_0 = (1,1,1,1,2,2,1,0,0,1).$$\n",
    "**a)** Xác định $d_1,d_2,d_3,d_4$ với $d_1,d_2,d_3,d_4$ lần lượt là toạ độ của các câu văn $D_1,D_2,D_3,D_4$ ở dạng vector trong không gian $10$ chiều ứng với từ vựng $\\mathcal{L}$.\n",
    "\n",
    "**b)** Tính khoảng cách Euclid đôi một giữa các câu văn trên."
   ]
  },
  {
   "cell_type": "markdown",
   "metadata": {},
   "source": [
    "**Câu 2.** (4 điểm) Một cửa hàng bán 3 loại vải: len, kaki và lụa. Ngày đầu bán được 5m vải len, 3m vải kaki và 4m vải lụa thu được 1 triệu 440 ngàn VND. Ngày thứ hai bán được 8m vải len, 10m vải kaki và 9m vải lụa thu được 3 triệu 110 ngàn VND. Ngày thứ ba bán được 15m vải len, 22m vải kaki và 18m vải lụa thu được 6 triệu 260 ngàn VND. Giả sử giá của 3 loại vải trên không thay đổi theo ngày.\n",
    "\n",
    "a) Gọi $x_1,x_2,x_3$ là giá tiền mỗi mét vải lần lượt của len, kaki và lụa. Đặt $X=\\begin{bmatrix} x_1 & x_2 & x_3 \\end{bmatrix}^T$. Mô hình hoá bài toán trên dưới dạng hệ phương trình tuyến tính $AX=b$, bằng cách tìm $A$ và $b$.\n",
    "\n",
    "b) Hãy tính giá tiền mỗi mét vải của từng loại vải trên.\n"
   ]
  },
  {
   "cell_type": "markdown",
   "metadata": {},
   "source": [
    "**Câu 3.** (4 điểm) Trong một chu trình sản xuất, đặt $N$ là \"không có sự cố\" và $Y$ là \"có sự cố\". Cho xác suất chuyển từ ngày này sang ngày tiếp theo là $0.8$ để $N\\to N$, do vậy xác suất là $0.2$ để $N\\to Y$; xác suất này là $0.6$ để $Y\\to N$, như vậy là $0.4$ để $Y\\to Y$.\n",
    "\n",
    "a) Tìm ma trận chuyển trạng thái của quy trình sản xuất trên.\n",
    "\n",
    "b) Xác định tỉ lệ cân bằng dừng.\n",
    "\n",
    "c) Giả sử hôm nay có sự cố thì xác suất $N$ sau $2$ ngày là bao nhiêu?\n",
    "\n",
    "d) Giả sử hôm nay không có sự cố thì xác suất $Y$ sau $1$ tháng ($30$ ngày) là bao nhiêu?   "
   ]
  },
  {
   "cell_type": "markdown",
   "metadata": {},
   "source": [
    "## --------------------------------------- Hết --------------------------------------"
   ]
  },
  {
   "cell_type": "markdown",
   "metadata": {},
   "source": [
    "### Lưu ý: sinh viên không được sử dụng internet. Giám thị không giải thích gì thêm."
   ]
  }
 ],
 "metadata": {
  "colab": {
   "provenance": []
  },
  "kernelspec": {
   "display_name": "Python 3 (ipykernel)",
   "language": "python",
   "name": "python3"
  },
  "language_info": {
   "codemirror_mode": {
    "name": "ipython",
    "version": 3
   },
   "file_extension": ".py",
   "mimetype": "text/x-python",
   "name": "python",
   "nbconvert_exporter": "python",
   "pygments_lexer": "ipython3",
   "version": "3.11.5"
  }
 },
 "nbformat": 4,
 "nbformat_minor": 1
}

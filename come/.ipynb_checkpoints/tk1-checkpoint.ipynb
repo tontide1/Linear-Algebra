{
 "cells": [
  {
   "cell_type": "markdown",
   "metadata": {},
   "source": [
    "**Câu 1.** (3 điểm) Cho hai ma trận $A$ và $B$ xác định như sau $$A=\\begin{bmatrix} 1 & 2 & -1\\\\0 & 1 & 0\\\\-2&0&-1 \\end{bmatrix}, B = \\begin{bmatrix} 0 & 3 & -2\\\\-1 & 1 & 0\\\\0&1&1 \\end{bmatrix}.$$"
   ]
  },
  {
   "cell_type": "markdown",
   "metadata": {},
   "source": [
    "a) Tính $AB$ và $BA^T$.\n",
    "\n",
    "b) Ma trận $AB$ là ma trận suy biến hay không? Tại sao?\n",
    "\n",
    "c) Tìm tìm ma trận đối xứng $C$ thoả mãn $ABC=B+C^T$."
   ]
  },
  {
   "cell_type": "code",
   "execution_count": 12,
   "metadata": {},
   "outputs": [
    {
     "name": "stdout",
     "output_type": "stream",
     "text": [
      "Ma tran A va B: \n",
      "A =\n",
      "[[ 1  2 -1]\n",
      " [ 0  1  0]\n",
      " [-2  0 -1]]\n",
      "\n",
      "B =\n",
      "[[ 0  3 -2]\n",
      " [-1  1  0]\n",
      " [ 0  1  1]]\n",
      "\n",
      "a)\n",
      "AB =\n",
      "[[-2  4 -3]\n",
      " [-1  1  0]\n",
      " [ 0 -7  3]]\n",
      "BA_T =\n",
      "[[ 8  3  2]\n",
      " [ 1  1  2]\n",
      " [ 1  1 -1]]\n",
      "\n",
      "b) Dinh thuc cua ma tran AB = -14.999999999999993\n",
      "Vay ma tran AB khong phai la ma tran suy bien. Boi vi det(AB) != 0\n"
     ]
    }
   ],
   "source": [
    "import numpy as np\n",
    "\n",
    "A = np.array([[1, 2, -1], [0, 1, 0], [-2, 0, -1]])\n",
    "B = np.array([[0, 3, -2], [-1, 1, 0], [0, 1, 1]])\n",
    "\n",
    "print(\"Ma tran A va B: \")\n",
    "print(f\"A =\\n{A}\")\n",
    "print(f\"\\nB =\\n{B}\")\n",
    "\n",
    "AB = np.dot(A, B) # có thể sử dụng \"@\"\n",
    "print(\"\\na)\")\n",
    "print(f\"AB =\\n{AB}\")\n",
    "\n",
    "A_T = np.transpose(A)\n",
    "BA_T = np.dot(B, A_T)\n",
    "print(f\"BA_T =\\n{BA_T}\")\n",
    "\n",
    "det_AB = np.linalg.det(AB)\n",
    "print(f\"\\nb) Dinh thuc cua ma tran AB = {det_AB}\")\n",
    "print(\"Vay ma tran AB khong phai la ma tran suy bien. Boi vi det(AB) != 0\")"
   ]
  },
  {
   "cell_type": "markdown",
   "metadata": {},
   "source": [
    "**Câu 2.** (2 điểm) Để mở rộng sản suất, một công ty đã vay $800$ triệu đồng từ ba ngân hàng $D, E$ và $F$, với lãi suất cho vay theo năm lần lượt là $6\\%, 8\\%$ và $9\\%$. Biết rằng tổng số tiền lãi năm đầu tiên công ty phải trả cho ba ngân hàng là $60$ triệu đồng và số tiền lãi công ty trả cho hai ngân hàng $D$ và $F$ là bằng nhau.\n",
    "\n",
    "a) Gọi $x_1,x_2,x_3$ là số tiền mà công ty đã vay từ 3 ngân hàng $D,E,F$ và đặt $X=\\begin{bmatrix} x_1 & x_2 & x_3 \\end{bmatrix}^T$. Mô hình hoá bài toán trên dưới dạng hệ phương trình tuyến tính $AX=b$, bằng cách tìm $A$ và $b$.\n",
    "\n",
    "b) Tính số tiền mà công ty đã vay từ $3$ ngân hàng bằng ít nhất hai cách.\n"
   ]
  },
  {
   "cell_type": "code",
   "execution_count": null,
   "metadata": {},
   "outputs": [],
   "source": [
    "import numpy as np"
   ]
  },
  {
   "cell_type": "code",
   "execution_count": 20,
   "metadata": {},
   "outputs": [
    {
     "name": "stdout",
     "output_type": "stream",
     "text": [
      "Vậy các hệ số của phương trình là: (300000000.0, 300000000.0, 200000000.0)\n"
     ]
    }
   ],
   "source": [
    "import numpy as np\n",
    "\n",
    "def tien(a1, b1, c1, d1, a2, b2, c2, d2, a3, b3, c3, d3):\n",
    "    A = np.array([[a1, b1, c1], [a2, b2, c2], [a3, b3, c3]])\n",
    "    B = np.array([d1, d2, d3])\n",
    "    try:\n",
    "        Tien = np.linalg.solve(A, B)\n",
    "        return tuple(Tien)\n",
    "    except np.linalg.LinAlgError:\n",
    "        return None\n",
    "a1, b1, c1, d1 =1,1,1,800000000\n",
    "a2, b2, c2, d2 =0.06,0.08,0.09,60000000\n",
    "a3, b3, c3, d3 =0.06,0,-0.09,0\n",
    "\n",
    "TIENNO=tien(a1, b1, c1, d1, a2, b2, c2, d2, a3, b3, c3, d3)\n",
    "\n",
    "if TIENNO:\n",
    "    print(f\"Vậy các hệ số của phương trình là: {TIENNO}\")\n",
    "else:\n",
    "    print(\"Không tìm thấy hệ số.\")\n"
   ]
  },
  {
   "cell_type": "markdown",
   "metadata": {},
   "source": [
    "**Câu 3.** (3 điểm) Cho ma trận $A$ được xác định bởi $$A=\\begin{bmatrix} \n",
    "1 & 1 & -1\\\\\n",
    "0 & 1 & 2\\\\\n",
    "1 & 1 & 1\n",
    "\\end{bmatrix}.$$\n",
    "Tìm hai ma trận $Q$ và $R$ thoả mãn $A=QR$, biết $Q$ là ma trận gồm các vector cột trực chuẩn và $R$ là ma trận tam giác trên khả nghịch. Sinh viên tính toán theo từng bước dưới đây và sau đó dùng thư viện thích hợp để kiểm tra lại."
   ]
  },
  {
   "cell_type": "markdown",
   "metadata": {},
   "source": [
    "**Bước 1.** Các vector cột của $A$ là:\n",
    "$$u_1 = [.,.,. ]^T, \\, u_2 = [ ., .,. ]^T, \\, u_3 = [ .,. ,. ]^T.$$"
   ]
  },
  {
   "cell_type": "markdown",
   "metadata": {},
   "source": [
    "**Bước 2.** Trực giao hóa họ các vector bằng thuật giải Gram-Schmidt (để thuận tiện, ta viết vector theo dòng)\n",
    "\n",
    "$$v_1 = u_1 = (., ., .),$$\n",
    "$$\\left\\| v_1 \\right\\|^2 = \\ldots, $$\n",
    "$$\\left\\langle u_2,v_1 \\right\\rangle = \\ldots,$$\n",
    "$$v_2 = u_2 - \\frac{\\left\\langle u_2,v_1 \\right\\rangle}{\\left\\| v_1 \\right\\|^2} v_1 = \\ldots,$$\n",
    "$$\\left\\| v_2 \\right\\|^2 = \\ldots, $$\n",
    "$$\\left\\langle u_3,v_1 \\right\\rangle = \\ldots,$$\n",
    "$$\\left\\langle u_3,v_2 \\right\\rangle = \\ldots,$$\n",
    "$$v_3 = u_3 - \\frac{\\left\\langle u_3,v_1 \\right\\rangle}{\\left\\| v_1 \\right\\|^2} v_1 - \\frac{\\left\\langle u_3,v_2 \\right\\rangle}{\\left\\| v_2 \\right\\|^2} v_2 = \\ldots,$$\n",
    "$$\\left\\| v_3 \\right\\|^2 = \\ldots, $$\n",
    "Kết luận họ trực giao là:\n",
    "$$v_1 = (\\ldots), v_2 = (\\ldots), v_3 = (\\ldots).$$"
   ]
  },
  {
   "cell_type": "markdown",
   "metadata": {},
   "source": [
    "**Bước 3.** Tìm ma trận $Q$: chuẩn hóa họ các vector ở trên, ta được\n",
    "$$q_1 = \\frac{v_1}{\\left\\| v_1 \\right\\|} = \\ldots,$$\n",
    "$$q_2 = \\frac{v_2}{\\left\\| v_2 \\right\\|} = \\ldots,$$\n",
    "$$q_3 = \\frac{v_3}{\\left\\| v_3 \\right\\|} = \\ldots.$$\n",
    "Từ đó có ma trận $Q$ là:\n",
    "$$Q=\\left[ \\begin{matrix}\n",
    "   {{q}_{1}} & {{q}_{2}} & {{q}_{3}}  \\\\\n",
    "\\end{matrix} \\right]=\\left[ \\begin{matrix}\n",
    "   {} & {} & {}  \\\\\n",
    "   {} & {} & {}  \\\\\n",
    "   {} & {} & {}  \\\\\n",
    "\\end{matrix} \\right]$$"
   ]
  },
  {
   "cell_type": "markdown",
   "metadata": {},
   "source": [
    "**Bước 4.** Tìm ma trận $R$: ta tính các tích vô hướng sau đây\n",
    "$$\\left\\langle {{u}_{1}},{{q}_{1}} \\right\\rangle = \\ldots, $$\n",
    "$$\\left\\langle {{u}_{2}},{{q}_{1}} \\right\\rangle = \\ldots, $$\n",
    "$$\\left\\langle {{u}_{3}},{{q}_{1}} \\right\\rangle = \\ldots, $$\n",
    "$$\\left\\langle {{u}_{2}},{{q}_{2}} \\right\\rangle = \\ldots, $$\n",
    "$$\\left\\langle {{u}_{3}},{{q}_{2}} \\right\\rangle = \\ldots, $$\n",
    "$$\\left\\langle {{u}_{3}},{{q}_{3}} \\right\\rangle = \\ldots, $$\n",
    "Từ đó ta có ma trận $R$ là:\n",
    "\n",
    "$$R=\\left[ \\begin{matrix}\n",
    "   \\left\\langle {{u}_{1}},{{q}_{1}} \\right\\rangle  & \\left\\langle {{u}_{2}},{{q}_{1}} \\right\\rangle  & \\left\\langle {{u}_{3}},{{q}_{1}} \\right\\rangle   \\\\\n",
    "   0 & \\left\\langle {{u}_{2}},{{q}_{2}} \\right\\rangle  & \\left\\langle {{u}_{3}},{{q}_{2}} \\right\\rangle   \\\\\n",
    "   0 & 0 & \\left\\langle {{u}_{3}},{{q}_{3}} \\right\\rangle   \\\\\n",
    "\\end{matrix} \\right]=\\left[ \\begin{matrix}\n",
    "   {} & {} & {}  \\\\\n",
    "   {} & {} & {}  \\\\\n",
    "   {} & {} & {}  \\\\\n",
    "\\end{matrix} \\right]$$"
   ]
  },
  {
   "cell_type": "code",
   "execution_count": null,
   "metadata": {},
   "outputs": [],
   "source": [
    "# Dùng thư viên thích hợp kiểm tra\n",
    "import numpy as np\n",
    "A = np.array(...)  \n",
    "Q, R = ...\n",
    "(Q, R)"
   ]
  },
  {
   "cell_type": "markdown",
   "metadata": {},
   "source": [
    "**Câu 4.** (2 điểm) Cho $A$ là ma trận vuông cấp $2024$ và cho $x=\\begin{bmatrix}0 & 1 & 2 & 3& \\ldots & 2023 \\end{bmatrix}^T$ là một vector riêng của $A$ ứng với giá trị riêng là $\\lambda =1$.\t\n",
    "\n",
    "a) Tính $Ax$\n",
    "\n",
    "b) Tìm một giá trị riêng của ma trận $A^{2024}$"
   ]
  },
  {
   "cell_type": "markdown",
   "metadata": {},
   "source": [
    "## --------------------------------------- Hết --------------------------------------"
   ]
  },
  {
   "cell_type": "markdown",
   "metadata": {},
   "source": [
    "### Lưu ý: sinh viên không được sử dụng internet. Giám thị không giải thích gì thêm."
   ]
  }
 ],
 "metadata": {
  "colab": {
   "provenance": []
  },
  "kernelspec": {
   "display_name": "Python 3 (ipykernel)",
   "language": "python",
   "name": "python3"
  },
  "language_info": {
   "codemirror_mode": {
    "name": "ipython",
    "version": 3
   },
   "file_extension": ".py",
   "mimetype": "text/x-python",
   "name": "python",
   "nbconvert_exporter": "python",
   "pygments_lexer": "ipython3",
   "version": "3.11.7"
  }
 },
 "nbformat": 4,
 "nbformat_minor": 4
}

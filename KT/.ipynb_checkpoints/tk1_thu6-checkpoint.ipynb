{
 "cells": [
  {
   "cell_type": "markdown",
   "metadata": {
    "id": "GsccfSDERjBo"
   },
   "source": [
    "# ĐỀ KIỂM TRA THƯỜNG KỲ 1\n",
    "## Môn: Đại số tuyến tính tính toán\n",
    "## Ngày: 01/03/2024\n",
    "## Lớp: DHKHDL18A - Nhóm TH1 & TH2. Thời gian: 90 phút"
   ]
  },
  {
   "cell_type": "markdown",
   "metadata": {},
   "source": [
    "**Câu 1.** (3 điểm) Cho hai ma trận $A$ và $B$ xác định như sau $$A=\\begin{bmatrix} 2 & 3 & -1\\\\0 & -3 & 1\\\\1&1&-1 \\end{bmatrix}, B = \\begin{bmatrix} 0 & 3 & -3\\\\-1 & 2 & 0\\\\-4&4&1 \\end{bmatrix}.$$"
   ]
  },
  {
   "cell_type": "markdown",
   "metadata": {},
   "source": [
    "a) Tính $AB$, $BA^T$ và $rank(AB)$.\n",
    "\n",
    "b) Ma trận $BA$ là ma trận suy biến hay không? Tại sao?\n",
    "\n",
    "c) Tìm tất cả các ma trận xác định dương $C$ cấp $3$ thoả mãn $BC=BAC^{2024}+C^T$."
   ]
  },
  {
   "cell_type": "markdown",
   "metadata": {},
   "source": [
    "**Câu 2.** (2 điểm) Một đoàn xe tải chở $290$ tấn xi măng cho một công trình xây đập thuỷ điện. Đoàn xe gồm $57$ chiếc gồm $3$ loại: xe chở $3$ tấn, xe chở $5$ tấn và xe chở $7.5$ tấn. Nếu dùng tất cả xe chở $7.5$ tấn chở ba chuyến thì được số xi măng bằng tổng số xi măng do xe $5$ tấn chở ba chuyến và xe $3$ tấn chở hai chuyến. \n",
    "\n",
    "a) Gọi $x_1,x_2,x_3$ lần lượt là số xe tải chở $3$, $5$ và $7.5$ tấn và đặt $X=\\begin{bmatrix} x_1 & x_2 & x_3 \\end{bmatrix}^T$. Mô hình hoá bài toán trên dưới dạng hệ phương trình tuyến tính $AX=b$, bằng cách tìm $A$ và $b$.\n",
    "\n",
    "b) Tính số xe mỗi loại bằng ít nhất hai cách.\n"
   ]
  },
  {
   "cell_type": "markdown",
   "metadata": {},
   "source": [
    "**Câu 3.** (3 điểm) Cho ma trận $A$ được xác định bởi $$A=\\begin{bmatrix} \n",
    "1 & 1 & 2\\\\\n",
    "2 & -1 & 1\\\\\n",
    "-2 & 4 & 1\n",
    "\\end{bmatrix}.$$\n",
    "Tìm hai ma trận $Q$ và $R$ thoả mãn $A=QR$, biết $Q$ là ma trận gồm các vector cột trực chuẩn và $R$ là ma trận tam giác trên khả nghịch. Sinh viên tính toán theo từng bước dưới đây và sau đó dùng thư viện thích hợp để kiểm tra lại."
   ]
  },
  {
   "cell_type": "markdown",
   "metadata": {},
   "source": [
    "**Bước 1.** Các vector cột của $A$ là:\n",
    "$$u_1 = [.,.,. ]^T, \\, u_2 = [ ., .,. ]^T, \\, u_3 = [ .,. ,. ]^T.$$"
   ]
  },
  {
   "cell_type": "markdown",
   "metadata": {},
   "source": [
    "**Bước 2.** Trực giao hóa họ các vector bằng thuật giải Gram-Schmidt (để thuận tiện, ta viết vector theo dòng)\n",
    "\n",
    "$$v_1 = u_1 = (., ., .),$$\n",
    "$$\\left\\| v_1 \\right\\|^2 = \\ldots, $$\n",
    "$$\\left\\langle u_2,v_1 \\right\\rangle = \\ldots,$$\n",
    "$$v_2 = u_2 - \\frac{\\left\\langle u_2,v_1 \\right\\rangle}{\\left\\| v_1 \\right\\|^2} v_1 = \\ldots,$$\n",
    "$$\\left\\| v_2 \\right\\|^2 = \\ldots, $$\n",
    "$$\\left\\langle u_3,v_1 \\right\\rangle = \\ldots,$$\n",
    "$$\\left\\langle u_3,v_2 \\right\\rangle = \\ldots,$$\n",
    "$$v_3 = u_3 - \\frac{\\left\\langle u_3,v_1 \\right\\rangle}{\\left\\| v_1 \\right\\|^2} v_1 - \\frac{\\left\\langle u_3,v_2 \\right\\rangle}{\\left\\| v_2 \\right\\|^2} v_2 = \\ldots,$$\n",
    "$$\\left\\| v_3 \\right\\|^2 = \\ldots, $$\n",
    "Kết luận họ trực giao là:\n",
    "$$v_1 = (\\ldots), v_2 = (\\ldots), v_3 = (\\ldots).$$"
   ]
  },
  {
   "cell_type": "markdown",
   "metadata": {},
   "source": [
    "**Bước 3.** Tìm ma trận $Q$: chuẩn hóa họ các vector ở trên, ta được\n",
    "$$q_1 = \\frac{v_1}{\\left\\| v_1 \\right\\|} = \\ldots,$$\n",
    "$$q_2 = \\frac{v_2}{\\left\\| v_2 \\right\\|} = \\ldots,$$\n",
    "$$q_3 = \\frac{v_3}{\\left\\| v_3 \\right\\|} = \\ldots.$$\n",
    "Từ đó có ma trận $Q$ là:\n",
    "$$Q=\\left[ \\begin{matrix}\n",
    "   {{q}_{1}} & {{q}_{2}} & {{q}_{3}}  \\\\\n",
    "\\end{matrix} \\right]=\\left[ \\begin{matrix}\n",
    "   {} & {} & {}  \\\\\n",
    "   {} & {} & {}  \\\\\n",
    "   {} & {} & {}  \\\\\n",
    "\\end{matrix} \\right]$$"
   ]
  },
  {
   "cell_type": "markdown",
   "metadata": {},
   "source": [
    "**Bước 4.** Tìm ma trận $R$: ta tính các tích vô hướng sau đây\n",
    "$$\\left\\langle {{u}_{1}},{{q}_{1}} \\right\\rangle = \\ldots, $$\n",
    "$$\\left\\langle {{u}_{2}},{{q}_{1}} \\right\\rangle = \\ldots, $$\n",
    "$$\\left\\langle {{u}_{3}},{{q}_{1}} \\right\\rangle = \\ldots, $$\n",
    "$$\\left\\langle {{u}_{2}},{{q}_{2}} \\right\\rangle = \\ldots, $$\n",
    "$$\\left\\langle {{u}_{3}},{{q}_{2}} \\right\\rangle = \\ldots, $$\n",
    "$$\\left\\langle {{u}_{3}},{{q}_{3}} \\right\\rangle = \\ldots, $$\n",
    "Từ đó ta có ma trận $R$ là:\n",
    "\n",
    "$$R=\\left[ \\begin{matrix}\n",
    "   \\left\\langle {{u}_{1}},{{q}_{1}} \\right\\rangle  & \\left\\langle {{u}_{2}},{{q}_{1}} \\right\\rangle  & \\left\\langle {{u}_{3}},{{q}_{1}} \\right\\rangle   \\\\\n",
    "   0 & \\left\\langle {{u}_{2}},{{q}_{2}} \\right\\rangle  & \\left\\langle {{u}_{3}},{{q}_{2}} \\right\\rangle   \\\\\n",
    "   0 & 0 & \\left\\langle {{u}_{3}},{{q}_{3}} \\right\\rangle   \\\\\n",
    "\\end{matrix} \\right]=\\left[ \\begin{matrix}\n",
    "   {} & {} & {}  \\\\\n",
    "   {} & {} & {}  \\\\\n",
    "   {} & {} & {}  \\\\\n",
    "\\end{matrix} \\right]$$"
   ]
  },
  {
   "cell_type": "code",
   "execution_count": null,
   "metadata": {},
   "outputs": [],
   "source": [
    "# Dùng thư viên thích hợp kiểm tra\n",
    "import numpy as np\n",
    "A = np.array(...)  \n",
    "Q, R = ...\n",
    "(Q, R)"
   ]
  },
  {
   "cell_type": "markdown",
   "metadata": {},
   "source": [
    "**Câu 4.** (2 điểm) Cho $A$ là ma trận vuông cấp $2$ có hai giá trị riêng là $1$ và $-2$, với hai vector riêng tương ứng là $(1,0)$ và $(1,-1)$.\n",
    "\n",
    "a) Tìm $A^{2024}$.\n",
    "\n",
    "b) Tìm các giá trị riêng của $A^{2024}$."
   ]
  },
  {
   "cell_type": "markdown",
   "metadata": {},
   "source": [
    "## --------------------------------------- Hết --------------------------------------"
   ]
  },
  {
   "cell_type": "markdown",
   "metadata": {},
   "source": [
    "### Lưu ý: sinh viên không được sử dụng internet. Giám thị không giải thích gì thêm."
   ]
  }
 ],
 "metadata": {
  "colab": {
   "provenance": []
  },
  "kernelspec": {
   "display_name": "Python 3 (ipykernel)",
   "language": "python",
   "name": "python3"
  },
  "language_info": {
   "codemirror_mode": {
    "name": "ipython",
    "version": 3
   },
   "file_extension": ".py",
   "mimetype": "text/x-python",
   "name": "python",
   "nbconvert_exporter": "python",
   "pygments_lexer": "ipython3",
   "version": "3.11.5"
  }
 },
 "nbformat": 4,
 "nbformat_minor": 1
}

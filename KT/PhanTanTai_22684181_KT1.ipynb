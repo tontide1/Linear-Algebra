{
 "cells": [
  {
   "cell_type": "markdown",
   "metadata": {
    "id": "GsccfSDERjBo"
   },
   "source": [
    "# ĐỀ KIỂM TRA THƯỜNG KỲ 1\n",
    "## Môn: Đại số tuyến tính tính toán\n",
    "## Ngày: 01/03/2024\n",
    "## Lớp: DHKHDL18A - Nhóm TH1 & TH2. Thời gian: 90 phút\n",
    "## Họ tên: Phan Tấn Tài - MSSV: 22684181"
   ]
  },
  {
   "cell_type": "markdown",
   "metadata": {},
   "source": [
    "**Câu 1.** (3 điểm) Cho hai ma trận $A$ và $B$ xác định như sau $$A=\\begin{bmatrix} 2 & 3 & -1\\\\0 & -3 & 1\\\\1&1&-1 \\end{bmatrix}, B = \\begin{bmatrix} 0 & 3 & -3\\\\-1 & 2 & 0\\\\-4&4&1 \\end{bmatrix}.$$"
   ]
  },
  {
   "cell_type": "markdown",
   "metadata": {},
   "source": [
    "a) Tính $AB$, $BA^T$ và $rank(AB)$.\n",
    "\n",
    "b) Ma trận $BA$ là ma trận suy biến hay không? Tại sao?\n",
    "\n",
    "c) Tìm tất cả các ma trận xác định dương $C$ cấp $3$ thoả mãn $BC=BAC^{2024}+C^T$."
   ]
  },
  {
   "cell_type": "code",
   "execution_count": 17,
   "metadata": {},
   "outputs": [
    {
     "name": "stdout",
     "output_type": "stream",
     "text": [
      "[[ 2  3 -1]\n",
      " [ 0 -3  1]\n",
      " [ 1  1 -1]]\n",
      "\n",
      "[[ 0  3 -3]\n",
      " [-1  2  0]\n",
      " [-4  4  1]]\n",
      "Câu a)\n",
      "AB = [[ 1  8 -7]\n",
      " [-1 -2  1]\n",
      " [ 3  1 -4]]\n",
      "B(A^T) = [[ 12 -12   6]\n",
      " [  4  -6   1]\n",
      " [  3 -11  -1]]\n",
      "Hạng của ma trận AB = 3\n"
     ]
    }
   ],
   "source": [
    "import numpy as np\n",
    "\n",
    "A = np.array([[2, 3, -1], [0, -3, 1],[1, 1, -1]])\n",
    "B = np.array([[0, 3, -3], [-1, 2, 0], [-4, 4, 1]])\n",
    "\n",
    "print(A,B, sep = '\\n\\n')\n",
    "\n",
    "print(\"Câu a)\")\n",
    "AB = np.dot(A,B)\n",
    "print(f\"AB = {AB}\")\n",
    "A_T = np.transpose(A)\n",
    "BA_T = np.dot(B, A_T)\n",
    "print(f\"B(A^T) = {BA_T}\")\n",
    "\n",
    "rank_of_AB = np.linalg.matrix_rank(AB)\n",
    "\n",
    "print(f\"Hạng của ma trận AB = {rank_of_AB}\")"
   ]
  },
  {
   "cell_type": "code",
   "execution_count": 18,
   "metadata": {},
   "outputs": [
    {
     "name": "stdout",
     "output_type": "stream",
     "text": [
      "Câu b)\n",
      "Giá trị của định thức ma trận BA = -36.0\n"
     ]
    }
   ],
   "source": [
    "print(\"Câu b)\")\n",
    "\n",
    "BA = np.dot(B,A)\n",
    "det_BA = np.linalg.det(BA)\n",
    "print(f\"Giá trị của định thức ma trận BA = {det_BA}\")"
   ]
  },
  {
   "cell_type": "markdown",
   "metadata": {},
   "source": [
    "Ma trận BA không là một ma trận suy biến bởi vì giá trị định thức DET(BA) = -36 khác 0 nên không thể là một ma trận suy biến"
   ]
  },
  {
   "cell_type": "code",
   "execution_count": null,
   "metadata": {},
   "outputs": [],
   "source": [
    "print(\"Câu c)\")"
   ]
  },
  {
   "cell_type": "markdown",
   "metadata": {},
   "source": [
    "**Câu 2.** (2 điểm) Một đoàn xe tải chở $290$ tấn xi măng cho một công trình xây đập thuỷ điện. Đoàn xe gồm $57$ chiếc gồm $3$ loại: xe chở $3$ tấn, xe chở $5$ tấn và xe chở $7.5$ tấn. Nếu dùng tất cả xe chở $7.5$ tấn chở ba chuyến thì được số xi măng bằng tổng số xi măng do xe $5$ tấn chở ba chuyến và xe $3$ tấn chở hai chuyến. \n",
    "\n",
    "a) Gọi $x_1,x_2,x_3$ lần lượt là số xe tải chở $3$, $5$ và $7.5$ tấn và đặt $X=\\begin{bmatrix} x_1 & x_2 & x_3 \\end{bmatrix}^T$. Mô hình hoá bài toán trên dưới dạng hệ phương trình tuyến tính $AX=b$, bằng cách tìm $A$ và $b$.\n",
    "\n",
    "b) Tính số xe mỗi loại bằng ít nhất hai cách.\n"
   ]
  },
  {
   "cell_type": "markdown",
   "metadata": {},
   "source": [
    "### Lời giải\n",
    "***a)***\n",
    "ta có tổng số xi măng mà 3 xe phải chở là: $$3x_1 + 5x_2 + 7.5x_3 = 290 ~~~(1)$$ \n",
    "Tổng số xe cần sử dụng cho để chở hàng là : $$x_1 + x_2 + x_3 = 57 ~~~(2)$$\n",
    "Nếu dùng tất cả xe chở $7.5$ tấn chở ba chuyến thì được số xi măng bằng tổng số xi măng do xe $5$ tấn chở ba chuyến và xe $3$ tấn chở hai chuyến  là: $$6x_1 + 15x_2 = 22.5x_3 ~~~(3)$$\n",
    "từ $(1),(2)$ và $(3)$ ta có hệ phương trình : \n",
    "\n",
    "\\begin{cases}\n",
    "3x_1 + 5x_2 + 7.5x_3 = 290 \\\\\n",
    "x_1 + x_2 + x_3 = 57 \\\\\n",
    "6x_1 + 15x_2 - 22.5x_3 = 0\n",
    "\\end{cases} \n",
    "vậy phương trình tuyến tính có dạng $Ax = b$ là :\n",
    "\n",
    "$$\\begin{bmatrix}\n",
    "3& 5& 7.5\\\\\n",
    "1  &1  &1\\\\\n",
    "6  &15  &-22.5\\\\\n",
    "\\end{bmatrix} \\begin{bmatrix} x_1\\\\x_2\\\\x_3 \\end{bmatrix}\n",
    "= \\begin{bmatrix} 290\\\\57\\\\0 \\end{bmatrix}$$"
   ]
  },
  {
   "cell_type": "code",
   "execution_count": 19,
   "metadata": {},
   "outputs": [
    {
     "name": "stdout",
     "output_type": "stream",
     "text": [
      "Câu b)\n",
      "Kết quả tính số xe theo cách số 1\n",
      "Số xe 1: 20.0\n",
      "Số xe 2: 19.0\n",
      "Số xe 3: 18.0\n",
      "Kết quả tính số xe theo cách số 2\n",
      "Số xe 1: 20\n",
      "Số xe 2: 19\n",
      "Số xe 3: 18\n"
     ]
    }
   ],
   "source": [
    "import numpy as np\n",
    "\n",
    "A = np.array([[3, 5, 7.5], [1, 1, 1], [6, 15, -22.5]])\n",
    "b = np.array([290, 57, 0])\n",
    "res1 = np.linalg.solve(A, b)\n",
    "res2 = np.linalg.inv(A)@b\n",
    "print(\"Câu b)\")\n",
    "print(f\"Kết quả tính số xe theo cách số 1\")\n",
    "print(f\"Số xe 1: {res1[0]}\")\n",
    "print(f\"Số xe 2: {res1[1]}\")\n",
    "print(f\"Số xe 3: {res1[2]}\")\n",
    "\n",
    "print(f\"Kết quả tính số xe theo cách số 2\")\n",
    "print(f\"Số xe 1: {round(res2[0])}\")\n",
    "print(f\"Số xe 2: {round(res2[1])}\")\n",
    "print(f\"Số xe 3: {round(res2[2])}\")"
   ]
  },
  {
   "cell_type": "markdown",
   "metadata": {},
   "source": [
    "### Giải thích các cách tính ở ý b câu 2\n",
    "**Cách 1**\n",
    "Em sử dụng phương thức có sẵn trong numpy là np.linalg.solve() để giải hệ phương trình trên\n",
    "\n",
    "**Cách 2**\n",
    "Em sử dung phương thức np.linalg.inv() để tìm ma trận nghịch đảo của A. Sau đó em biến đổi lại công thức $Ax=B$ $=>$ $x = A^-1 * b$ và tính kết quả dựa theo phương trình đã biến đổi"
   ]
  },
  {
   "cell_type": "markdown",
   "metadata": {},
   "source": [
    "**Câu 3.** (3 điểm) Cho ma trận $A$ được xác định bởi $$A=\\begin{bmatrix} \n",
    "1 & 1 & 2\\\\\n",
    "2 & -1 & 1\\\\\n",
    "-2 & 4 & 1\n",
    "\\end{bmatrix}.$$\n",
    "Tìm hai ma trận $Q$ và $R$ thoả mãn $A=QR$, biết $Q$ là ma trận gồm các vector cột trực chuẩn và $R$ là ma trận tam giác trên khả nghịch. Sinh viên tính toán theo từng bước dưới đây và sau đó dùng thư viện thích hợp để kiểm tra lại."
   ]
  },
  {
   "cell_type": "markdown",
   "metadata": {},
   "source": [
    "**Bước 1.** Các vector cột của $A$ là:\n",
    "$$u_1 = [1,2,-2 ]^T, \\, u_2 = [ 1, -1, 4]^T, \\, u_3 = [ 2,1 ,1 ]^T.$$"
   ]
  },
  {
   "cell_type": "markdown",
   "metadata": {},
   "source": [
    "**Bước 2.** Trực giao hóa họ các vector bằng thuật giải Gram-Schmidt (để thuận tiện, ta viết vector theo dòng)\n",
    "\n",
    "$$v_1 = u_1 = (1, 2, -2),$$\n",
    "$$\\left\\| v_1 \\right\\|^2 = 9, $$\n",
    "$$\\left\\langle u_2,v_1 \\right\\rangle = -9,$$\n",
    "$$v_2 = u_2 - \\frac{\\left\\langle u_2,v_1 \\right\\rangle}{\\left\\| v_1 \\right\\|^2} v_1 = (2, 1, 2)$$\n",
    "$$\\left\\| v_2 \\right\\|^2 = 9, $$\n",
    "$$\\left\\langle u_3,v_1 \\right\\rangle = 2,$$\n",
    "$$\\left\\langle u_3,v_2 \\right\\rangle = 7,$$\n",
    "$$v_3 = u_3 - \\frac{\\left\\langle u_3,v_1 \\right\\rangle}{\\left\\| v_1 \\right\\|^2} v_1 - \\frac{\\left\\langle u_3,v_2 \\right\\rangle}{\\left\\| v_2 \\right\\|^2} v_2 = (\\frac{2}{9} \\frac{-2}{9}, \\frac{1}{9}),$$\n",
    "$$\\left\\| v_3 \\right\\|^2 = \\frac{-2}{9}, $$\n",
    "Kết luận họ trực giao là:\n",
    "$$v_1 = (1, 2, -2), v_2 = (2, 1, 2), v_3 = (\\frac{2}{9} \\frac{-2}{9}, \\frac{1}{9}).$$"
   ]
  },
  {
   "cell_type": "markdown",
   "metadata": {},
   "source": [
    "**Bước 3.** Tìm ma trận $Q$: chuẩn hóa họ các vector ở trên, ta được\n",
    "$$q_1 = \\frac{v_1}{\\left\\| v_1 \\right\\|} = \\frac{1}{3}(1, 2, -2),$$\n",
    "$$q_2 = \\frac{v_2}{\\left\\| v_2 \\right\\|} = \\frac{1}{3}(2, 1, 2),$$\n",
    "$$q_3 = \\frac{v_3}{\\left\\| v_3 \\right\\|} = \\frac{1}{3}(2, -2, 1).$$\n",
    "Từ đó có ma trận $Q$ là:\n",
    "$$Q=\\left[ \\begin{matrix}\n",
    "   {{q}_{1}} & {{q}_{2}} & {{q}_{3}}  \\\\\n",
    "\\end{matrix} \\right]=\\frac{1}{3} \\left[ \\begin{matrix}\n",
    "   {1} & {2} & {2}  \\\\\n",
    "   {2} & {1} & {-2}  \\\\\n",
    "   {-2} & {2} & {1}  \\\\\n",
    "\\end{matrix} \\right]$$"
   ]
  },
  {
   "cell_type": "markdown",
   "metadata": {},
   "source": [
    "**Bước 4.** Tìm ma trận $R$: ta tính các tích vô hướng sau đây\n",
    "$$\\left\\langle {{u}_{1}},{{q}_{1}} \\right\\rangle = -3, $$\n",
    "$$\\left\\langle {{u}_{2}},{{q}_{1}} \\right\\rangle = 3, $$\n",
    "$$\\left\\langle {{u}_{3}},{{q}_{1}} \\right\\rangle = \\frac{-2}{3}, $$\n",
    "$$\\left\\langle {{u}_{2}},{{q}_{2}} \\right\\rangle = -3$$\n",
    "$$\\left\\langle {{u}_{3}},{{q}_{2}} \\right\\rangle = \\frac{-7}{3}, $$\n",
    "$$\\left\\langle {{u}_{3}},{{q}_{3}} \\right\\rangle = \\frac{1}{3} $$\n",
    "Từ đó ta có ma trận $R$ là:\n",
    "\n",
    "$$R=\\left[ \\begin{matrix}\n",
    "   \\left\\langle {{u}_{1}},{{q}_{1}} \\right\\rangle  & \\left\\langle {{u}_{2}},{{q}_{1}} \\right\\rangle  & \\left\\langle {{u}_{3}},{{q}_{1}} \\right\\rangle   \\\\\n",
    "   0 & \\left\\langle {{u}_{2}},{{q}_{2}} \\right\\rangle  & \\left\\langle {{u}_{3}},{{q}_{2}} \\right\\rangle   \\\\\n",
    "   0 & 0 & \\left\\langle {{u}_{3}},{{q}_{3}} \\right\\rangle   \\\\\n",
    "\\end{matrix} \\right]=\\left[ \\begin{matrix}\n",
    "   {-3} & {3} & {\\frac{-2}{3} }  \\\\\n",
    "   {0} & {-3} & {\\frac{-7}{3} }  \\\\\n",
    "   {0} & {0} & {\\frac{-1}{3}}  \\\\\n",
    "\\end{matrix} \\right]$$"
   ]
  },
  {
   "cell_type": "code",
   "execution_count": 20,
   "metadata": {},
   "outputs": [
    {
     "name": "stdout",
     "output_type": "stream",
     "text": [
      "Ma trận Q (sau khi được làm tròn 6 chữ số thập phân sau dấu phải)\n",
      "[[-0.333333 -0.666667  0.666667]\n",
      " [-0.666667 -0.333333 -0.666667]\n",
      " [ 0.666667 -0.666667 -0.333333]]\n",
      "\n",
      "Ma trận R (sau khi được làm tròn 6 chữ số thập phân sau dấu phải)\n",
      "[[-3.        3.       -0.666667]\n",
      " [ 0.       -3.       -2.333333]\n",
      " [ 0.        0.        0.333333]]\n",
      "Ta tính được ma trận QR = \n",
      "[[ 1.  1.  2.]\n",
      " [ 2. -1.  1.]\n",
      " [-2.  4.  1.]]\n"
     ]
    }
   ],
   "source": [
    "# Dùng thư viên thích hợp kiểm tra\n",
    "import numpy as np\n",
    "\n",
    "A = np.array([[1,1,2], [2, -1, 1], [-2, 4, 1]])  \n",
    "Q, R = np.linalg.qr(A)\n",
    "print(f\"Ma trận Q (sau khi được làm tròn 6 chữ số thập phân sau dấu phải)\\n{np.round(Q,decimals = 6)}\")\n",
    "print()\n",
    "print(f\"Ma trận R (sau khi được làm tròn 6 chữ số thập phân sau dấu phải)\\n{np.round(R,decimals = 6)}\")\n",
    "print(\"Ta tính được ma trận QR = \")\n",
    "print(Q@R)"
   ]
  },
  {
   "cell_type": "markdown",
   "metadata": {},
   "source": [
    "Dễ dàng thấy được ma trận $QR$ $=$ $A$ ban đầu\n",
    "\n",
    "**Vậy các bước kiểm tra trên đã thoả mãn yêu cầu bài toán**"
   ]
  },
  {
   "cell_type": "markdown",
   "metadata": {},
   "source": [
    "**Câu 4.** (2 điểm) Cho $A$ là ma trận vuông cấp $2$ có hai giá trị riêng là $1$ và $-2$, với hai vector riêng tương ứng là $(1,0)$ và $(1,-1)$.\n",
    "\n",
    "a) Tìm $A^{2024}$.\n",
    "\n",
    "b) Tìm các giá trị riêng của $A^{2024}$."
   ]
  },
  {
   "cell_type": "code",
   "execution_count": 16,
   "metadata": {},
   "outputs": [],
   "source": [
    "import numpy as np\n",
    "\n",
    "A = np.array([[1,0], [0, -2]])"
   ]
  },
  {
   "cell_type": "markdown",
   "metadata": {},
   "source": [
    "a) Để tính $A^{2024}$, ta có công thức:\n",
    "\n",
    "$$A = PDP^{-1}$$\n",
    "\n",
    "Với $P$ là ma trận đối xứng của $A$ và $D$ là tham trị riêng\n",
    "\n",
    "$$A^{2024} = PD^{2024}P^{-1}$$\n",
    "\n"
   ]
  },
  {
   "cell_type": "markdown",
   "metadata": {},
   "source": [
    "## --------------------------------------- Hết --------------------------------------"
   ]
  },
  {
   "cell_type": "markdown",
   "metadata": {},
   "source": [
    "### Lưu ý: sinh viên không được sử dụng internet. Giám thị không giải thích gì thêm."
   ]
  }
 ],
 "metadata": {
  "colab": {
   "provenance": []
  },
  "kernelspec": {
   "display_name": "Python 3 (ipykernel)",
   "language": "python",
   "name": "python3"
  },
  "language_info": {
   "codemirror_mode": {
    "name": "ipython",
    "version": 3
   },
   "file_extension": ".py",
   "mimetype": "text/x-python",
   "name": "python",
   "nbconvert_exporter": "python",
   "pygments_lexer": "ipython3",
   "version": "3.11.7"
  }
 },
 "nbformat": 4,
 "nbformat_minor": 1
}

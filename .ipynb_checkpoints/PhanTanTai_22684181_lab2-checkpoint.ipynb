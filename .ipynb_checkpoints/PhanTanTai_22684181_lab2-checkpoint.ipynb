{
 "cells": [
  {
   "cell_type": "markdown",
   "id": "a0fdff0f-5f77-4459-90de-912fd64cd2a4",
   "metadata": {},
   "source": [
    "### 1. Một số hàm về xử lý vector với Python"
   ]
  },
  {
   "cell_type": "code",
   "execution_count": 3,
   "id": "f6e80e9a-3834-4e90-92ab-7f12ef45b434",
   "metadata": {},
   "outputs": [
    {
     "data": {
      "text/plain": [
       "[30, 50, 70]"
      ]
     },
     "execution_count": 3,
     "metadata": {},
     "output_type": "execute_result"
    }
   ],
   "source": [
    "# Hàm tỉ số vector\n",
    "def scale(a, v):\n",
    "    return [a*vi for vi in v]\n",
    "# a = k -> v = (a, b) => kv = (ka, kb)\n",
    "v = [3, 5, 7]\n",
    "scale(10, v)"
   ]
  },
  {
   "cell_type": "code",
   "execution_count": 5,
   "id": "955c6b0a-b7cd-492c-8c5e-d6ccb0ee7c28",
   "metadata": {},
   "outputs": [
    {
     "data": {
      "text/plain": [
       "[5, 9, 13]"
      ]
     },
     "execution_count": 5,
     "metadata": {},
     "output_type": "execute_result"
    }
   ],
   "source": [
    "# Hàm tính tổng hai vector\n",
    "def sumvector(v, w):\n",
    "    return [vi + wi for (vi, wi) in zip(v, w)]\n",
    "\n",
    "v = [3, 5, 7]\n",
    "w = [2, 4, 6]\n",
    "sumvector(v, w)"
   ]
  },
  {
   "cell_type": "code",
   "execution_count": 12,
   "id": "231e4806-d56f-451e-8e88-6540cd09175f",
   "metadata": {},
   "outputs": [
    {
     "data": {
      "text/plain": [
       "83"
      ]
     },
     "execution_count": 12,
     "metadata": {},
     "output_type": "execute_result"
    }
   ],
   "source": [
    "# Hàm nhân 2 vector vô hướng\n",
    "def dotvector(v, w):\n",
    "    return sum([vi * wi for (vi, wi) in zip(v, w)])\n",
    "\n",
    "dotvector(v, v)"
   ]
  },
  {
   "cell_type": "code",
   "execution_count": 13,
   "id": "3a663d41-32ac-4247-aa1b-9f2ff7d08e2f",
   "metadata": {},
   "outputs": [
    {
     "data": {
      "text/plain": [
       "83"
      ]
     },
     "execution_count": 13,
     "metadata": {},
     "output_type": "execute_result"
    }
   ],
   "source": [
    "# Hàm tính chiều dài vector\n",
    "def lenvector(v):\n",
    "    return dotvector(v, v)\n",
    "\n",
    "lenvector(v)"
   ]
  },
  {
   "cell_type": "markdown",
   "id": "8c89ca41-721c-4667-a52e-2f33c3040d20",
   "metadata": {},
   "source": [
    "### 2. Bài toán ứng dụng 1 - Phân loại tuyến tính"
   ]
  },
  {
   "cell_type": "code",
   "execution_count": 15,
   "id": "263797b4-9d7a-496a-ab5a-1914891263aa",
   "metadata": {},
   "outputs": [],
   "source": [
    "import numpy as np"
   ]
  },
  {
   "cell_type": "code",
   "execution_count": 18,
   "id": "30605af5-582a-4636-8b02-b9079856f529",
   "metadata": {},
   "outputs": [
    {
     "name": "stdout",
     "output_type": "stream",
     "text": [
      "[-1  1  2 -3  5 -4]\n"
     ]
    }
   ],
   "source": [
    "# khởi tạo mảng\n",
    "scores = np.array([-1, 1, 2, -3, 5, -4])\n",
    "print(scores)"
   ]
  },
  {
   "cell_type": "code",
   "execution_count": 20,
   "id": "1e51a17f-3b99-4658-9de4-0059ebb1cbad",
   "metadata": {},
   "outputs": [
    {
     "name": "stdout",
     "output_type": "stream",
     "text": [
      "[False  True  True False  True False]\n"
     ]
    }
   ],
   "source": [
    "# so sánh từng phần tử của mảng với 0\n",
    "res = scores >= 0\n",
    "print(res)"
   ]
  },
  {
   "cell_type": "code",
   "execution_count": 22,
   "id": "b9e05aef-1eed-42a9-b0a5-6d3b9faf9a4e",
   "metadata": {},
   "outputs": [
    {
     "name": "stdout",
     "output_type": "stream",
     "text": [
      "[ True False False  True False  True]\n"
     ]
    }
   ],
   "source": [
    "res1 = scores < 0\n",
    "print(res1)"
   ]
  },
  {
   "cell_type": "code",
   "execution_count": 25,
   "id": "f670466e-a661-4d9d-9141-725772b646dc",
   "metadata": {},
   "outputs": [
    {
     "name": "stdout",
     "output_type": "stream",
     "text": [
      "['so am' 'so duong' 'so duong' 'so am' 'so duong' 'so am']\n"
     ]
    }
   ],
   "source": [
    "# np.select\n",
    "resCompareWith_0 = np.select([scores > 0, scores < 0], ['so duong', 'so am'])\n",
    "print(resCompareWith_0)"
   ]
  },
  {
   "cell_type": "markdown",
   "id": "a257cc16-d53a-45c9-b4f2-9303e5b562a7",
   "metadata": {},
   "source": [
    "### 3. Thực hành về xử lý của ma trận"
   ]
  },
  {
   "cell_type": "markdown",
   "id": "395dd775-6b39-4393-b47b-ab5ab87ce9fd",
   "metadata": {},
   "source": [
    "**3.1 Cơ bản về xử lý ma trận**"
   ]
  },
  {
   "cell_type": "code",
   "execution_count": 2,
   "id": "cae6c6d6-3dd7-42aa-99be-b2bdba2a00d3",
   "metadata": {},
   "outputs": [],
   "source": [
    "import numpy as np\n",
    "from scipy import linalg, sparse"
   ]
  },
  {
   "cell_type": "code",
   "execution_count": 3,
   "id": "f02877b7-bc6a-42f8-b839-2b886e7db866",
   "metadata": {},
   "outputs": [
    {
     "name": "stdout",
     "output_type": "stream",
     "text": [
      "[[3 4]\n",
      " [5 6]]\n"
     ]
    }
   ],
   "source": [
    "# khởi tạo ma trận trong numpy\n",
    "D = np.mat([[3,4], [5,6]])\n",
    "print(D)"
   ]
  },
  {
   "cell_type": "code",
   "execution_count": 4,
   "id": "6313ae26-8af2-4eb0-b20a-c0c6c398d368",
   "metadata": {},
   "outputs": [
    {
     "name": "stdout",
     "output_type": "stream",
     "text": [
      "[[3.72950039e-04 4.32766539e-01 6.33536883e-01 2.93659697e-01\n",
      "  2.08862604e-01 6.55662580e-01 8.93673582e-01]\n",
      " [3.76956874e-01 1.72516210e-01 6.38218412e-01 8.53328281e-01\n",
      "  6.66283765e-01 7.88611644e-01 6.47405337e-02]\n",
      " [8.96304789e-01 8.23595283e-01 8.81703914e-01 2.13463729e-01\n",
      "  4.29094036e-01 9.48950397e-01 2.48340222e-01]\n",
      " [2.09995106e-01 5.18031548e-01 3.61660872e-01 4.36893795e-01\n",
      "  4.82362860e-01 7.62695548e-01 5.52019288e-01]\n",
      " [2.19420932e-01 4.58001569e-01 9.18045261e-01 7.92628302e-02\n",
      "  2.25466616e-01 7.59179716e-01 1.95128175e-01]]\n"
     ]
    }
   ],
   "source": [
    "# sinh ma trận ngẫu nhiên\n",
    "C = np.mat(np.random.random((5, 7)))\n",
    "print(C)"
   ]
  },
  {
   "cell_type": "code",
   "execution_count": 5,
   "id": "54b1b42f-cff0-4859-b12b-321361a3485d",
   "metadata": {},
   "outputs": [
    {
     "name": "stdout",
     "output_type": "stream",
     "text": [
      "[[0.88340936 0.30352876]\n",
      " [0.85259448 0.9747877 ]]\n"
     ]
    }
   ],
   "source": [
    "A = np.mat(np.random.random((2, 2)))\n",
    "print(A)"
   ]
  },
  {
   "cell_type": "code",
   "execution_count": 6,
   "id": "9ce1b7b9-5d2c-4fbc-b803-55a48d421ab3",
   "metadata": {},
   "outputs": [
    {
     "name": "stdout",
     "output_type": "stream",
     "text": [
      "[[1.+5.j 0.+2.j 0.+3.j]\n",
      " [4.+0.j 5.+0.j 6.+0.j]]\n",
      "[[1.+5.j 0.+2.j 0.+3.j]\n",
      " [4.+0.j 5.+0.j 6.+0.j]]\n"
     ]
    }
   ],
   "source": [
    "b = np.array([(1 + 5j, 2j, 3j), (4, 5, 6)])\n",
    "# B = np.asmatrix(b)\n",
    "B = np.mat(b)\n",
    "print(b)\n",
    "print(B)"
   ]
  },
  {
   "cell_type": "code",
   "execution_count": 9,
   "id": "d4b7bf17-a10c-4635-9eea-5e5a31625e9b",
   "metadata": {},
   "outputs": [
    {
     "name": "stdout",
     "output_type": "stream",
     "text": [
      "[[0.88340936 0.85259448]\n",
      " [0.30352876 0.9747877 ]]\n"
     ]
    }
   ],
   "source": [
    "transpose_A = A.T\n",
    "print(transpose_A)"
   ]
  },
  {
   "cell_type": "code",
   "execution_count": 10,
   "id": "cdb2c3c6-2eef-4296-8420-58bc73597b27",
   "metadata": {},
   "outputs": [
    {
     "name": "stdout",
     "output_type": "stream",
     "text": [
      "[[ 1.61830877 -0.50390793]\n",
      " [-1.41544782  1.46660563]]\n"
     ]
    }
   ],
   "source": [
    "inversion_A = A.I\n",
    "print(inversion_A)"
   ]
  },
  {
   "cell_type": "code",
   "execution_count": 11,
   "id": "1978696a-33c9-496c-b8db-a3cf7cff3d25",
   "metadata": {},
   "outputs": [
    {
     "name": "stdout",
     "output_type": "stream",
     "text": [
      "[[-1  3  2]\n",
      " [ 0 -2  1]\n",
      " [ 0  0 -2]]\n",
      "\n",
      "[[-1  0  0]\n",
      " [ 0 -2  0]\n",
      " [ 1  5 -2]]\n"
     ]
    }
   ],
   "source": [
    "# Ma trận nghịch đảo\n",
    "linalg.inv(A)\n",
    "M = np.array([[-1,3,2], [0, -2, 1], [1,5,-2]])\n",
    "# Ma trận trên của M\n",
    "M_upper = np.triu(M)\n",
    "# Ma trận dưới của M\n",
    "M_lower = np.tril(M)\n",
    "print(M_upper, M_lower, sep = \"\\n\\n\")"
   ]
  },
  {
   "cell_type": "code",
   "execution_count": 13,
   "id": "c3859c35-fe5c-4934-be7a-cf962be7b3c4",
   "metadata": {},
   "outputs": [
    {
     "name": "stdout",
     "output_type": "stream",
     "text": [
      "[-1 -2 -2]\n",
      "\n",
      "[[-1  0  0]\n",
      " [ 0 -2  0]\n",
      " [ 0  0 -2]]\n"
     ]
    }
   ],
   "source": [
    "# Vector đường chéo\n",
    "v_diag = np.diag(M)\n",
    "print(v_diag)\n",
    "\n",
    "print()\n",
    "\n",
    "M_diag = np.diag(v_diag)\n",
    "print(M_diag)"
   ]
  },
  {
   "cell_type": "markdown",
   "id": "8b611fa4-46e5-491b-bc0b-13dcb7fecc30",
   "metadata": {},
   "source": [
    "### Thực hiện tính toán đơn giản trên ma trận"
   ]
  },
  {
   "cell_type": "code",
   "execution_count": 9,
   "id": "8e621f5c-5597-418b-9ab7-4bf0c0fe1677",
   "metadata": {},
   "outputs": [
    {
     "data": {
      "text/plain": [
       "[(2, 7, -1)]"
      ]
     },
     "execution_count": 9,
     "metadata": {},
     "output_type": "execute_result"
    }
   ],
   "source": [
    "# Giai he phuong trinh\n",
    "import sympy as sp\n",
    "x = sp.Symbol('x')\n",
    "y = sp.Symbol('y')\n",
    "z = sp.Symbol('z')\n",
    "\n",
    "sp.solve([x*x+2-6, y-1-6, x+z-1, 2*x*x-8, z*z+4-5, y-z-8], [x, y, z])"
   ]
  },
  {
   "cell_type": "markdown",
   "id": "1eadc1c8-40d0-4dfe-a5f1-5f1443f9f653",
   "metadata": {},
   "source": [
    "**3.2 các phép biển đổi sơ cấp trên ma trận**"
   ]
  },
  {
   "cell_type": "code",
   "execution_count": 10,
   "id": "3df93c36-97fa-41aa-9f6a-ed30fe77fcb4",
   "metadata": {},
   "outputs": [],
   "source": [
    "import numpy as np"
   ]
  },
  {
   "cell_type": "code",
   "execution_count": 11,
   "id": "68862063-c40a-4dca-8237-37d53df25b3a",
   "metadata": {},
   "outputs": [
    {
     "name": "stdout",
     "output_type": "stream",
     "text": [
      "[[ 0.  1.  2.  3.  4.  5.]\n",
      " [ 6.  7.  8.  9. 10. 11.]\n",
      " [12. 13. 14. 15. 16. 17.]\n",
      " [18. 19. 20. 21. 22. 23.]\n",
      " [24. 25. 26. 27. 28. 29.]\n",
      " [30. 31. 32. 33. 34. 35.]]\n",
      "[[1. 0. 0. 0. 0. 0.]\n",
      " [0. 1. 0. 0. 0. 0.]\n",
      " [0. 0. 1. 0. 0. 0.]\n",
      " [0. 0. 0. 1. 0. 0.]\n",
      " [0. 0. 0. 0. 1. 0.]\n",
      " [0. 0. 0. 0. 0. 1.]]\n"
     ]
    }
   ],
   "source": [
    "A = np.reshape(np.arange(36.0), (6,6))\n",
    "print(A)\n",
    "I6 = np.identity(6)\n",
    "print(I6)"
   ]
  },
  {
   "cell_type": "code",
   "execution_count": 12,
   "id": "0a298cb7-5ba8-44c5-a15d-1a20818e21d7",
   "metadata": {},
   "outputs": [
    {
     "name": "stdout",
     "output_type": "stream",
     "text": [
      "36\n"
     ]
    },
    {
     "data": {
      "text/plain": [
       "array([ 0.,  7., 14., 21., 28., 35.])"
      ]
     },
     "execution_count": 12,
     "metadata": {},
     "output_type": "execute_result"
    }
   ],
   "source": [
    "print(A.size)\n",
    "np.matrix.diagonal(A)"
   ]
  },
  {
   "cell_type": "code",
   "execution_count": 13,
   "id": "f8fd2fa6-4b08-4b8f-a820-5357bfbe0fc4",
   "metadata": {},
   "outputs": [
    {
     "name": "stdout",
     "output_type": "stream",
     "text": [
      "Ma trận mới: \n",
      "[[ 1.  1.  2.  3.  4.  5.]\n",
      " [ 6.  8.  8.  9. 10. 11.]\n",
      " [12. 13. 15. 15. 16. 17.]\n",
      " [18. 19. 20. 22. 22. 23.]\n",
      " [24. 25. 26. 27. 29. 29.]\n",
      " [30. 31. 32. 33. 34. 36.]]\n"
     ]
    }
   ],
   "source": [
    "A = A + I6\n",
    "print(\"Ma trận mới: \", A, sep =\"\\n\")"
   ]
  },
  {
   "cell_type": "code",
   "execution_count": 14,
   "id": "76753db1-fc00-4419-a511-0a3e52481965",
   "metadata": {},
   "outputs": [
    {
     "name": "stdout",
     "output_type": "stream",
     "text": [
      "[ 71. 198. 325. 452. 579. 706.]\n"
     ]
    }
   ],
   "source": [
    "vecB = np.array([1., 2., 3., 4., 5., 6.])\n",
    "C = A.dot(vecB)\n",
    "print(C)"
   ]
  },
  {
   "cell_type": "code",
   "execution_count": 15,
   "id": "62e8be3e-b714-4c9e-bc32-ff9ef1151b71",
   "metadata": {},
   "outputs": [
    {
     "name": "stdout",
     "output_type": "stream",
     "text": [
      "[[1. 2. 3. 4. 5. 6.]\n",
      " [1. 0. 1. 0. 1. 0.]]\n"
     ]
    }
   ],
   "source": [
    "D = np.array([[1., 2., 3., 4., 5., 6.], [1., 0., 1., 0., 1., 0.]])\n",
    "print(D)"
   ]
  },
  {
   "cell_type": "code",
   "execution_count": 16,
   "id": "87fdea7f-9694-4929-8706-68a0df5b264a",
   "metadata": {},
   "outputs": [
    {
     "ename": "ValueError",
     "evalue": "shapes (6,6) and (2,6) not aligned: 6 (dim 1) != 2 (dim 0)",
     "output_type": "error",
     "traceback": [
      "\u001b[1;31m---------------------------------------------------------------------------\u001b[0m",
      "\u001b[1;31mValueError\u001b[0m                                Traceback (most recent call last)",
      "Cell \u001b[1;32mIn[16], line 2\u001b[0m\n\u001b[0;32m      1\u001b[0m \u001b[38;5;66;03m# Tính tích ma trận A và D\u001b[39;00m\n\u001b[1;32m----> 2\u001b[0m E \u001b[38;5;241m=\u001b[39m \u001b[43mA\u001b[49m\u001b[38;5;241;43m.\u001b[39;49m\u001b[43mdot\u001b[49m\u001b[43m(\u001b[49m\u001b[43mD\u001b[49m\u001b[43m)\u001b[49m\n",
      "\u001b[1;31mValueError\u001b[0m: shapes (6,6) and (2,6) not aligned: 6 (dim 1) != 2 (dim 0)"
     ]
    }
   ],
   "source": [
    "# Tính tích ma trận A và D\n",
    "E = A.dot(D)"
   ]
  },
  {
   "cell_type": "code",
   "execution_count": 22,
   "id": "764be89a-6e54-48a2-ae4b-7475c6446c69",
   "metadata": {},
   "outputs": [
    {
     "name": "stdout",
     "output_type": "stream",
     "text": [
      "[[1. 1.]\n",
      " [2. 0.]\n",
      " [3. 1.]\n",
      " [4. 0.]\n",
      " [5. 1.]\n",
      " [6. 0.]]\n",
      "\n",
      "[[ 71.   7.]\n",
      " [198.  24.]\n",
      " [325.  43.]\n",
      " [452.  60.]\n",
      " [579.  79.]\n",
      " [706.  96.]]\n"
     ]
    }
   ],
   "source": [
    "F = np.array([[1., 1.], [2., 0.], [3., 1.], [4., 0], [5., 1], [6., 0.]])\n",
    "G = A.dot(F)\n",
    "print(F)\n",
    "print()\n",
    "print(G)"
   ]
  },
  {
   "cell_type": "code",
   "execution_count": 31,
   "id": "d7293356-6862-44fb-bbfd-151ebaff7445",
   "metadata": {},
   "outputs": [
    {
     "name": "stdout",
     "output_type": "stream",
     "text": [
      "[[ 1.  1.  2.  3.  4.  5.]\n",
      " [ 6.  8.  8.  9. 10. 11.]\n",
      " [12. 13. 15. 15. 16. 17.]\n",
      " [18. 19. 20. 22. 22. 23.]\n",
      " [24. 25. 26. 27. 29. 29.]\n",
      " [30. 31. 32. 33. 34. 36.]]\n",
      "Ma trận nghịch đảo của A: \n",
      "[[ 0.37022901 -0.45610687 -0.28244275 -0.10877863  0.0648855   0.23854962]\n",
      " [-0.44656489  0.65839695 -0.23664122 -0.13167939 -0.02671756  0.07824427]\n",
      " [-0.26335878 -0.22709924  0.80916031 -0.15458015 -0.11832061 -0.08206107]\n",
      " [-0.08015267 -0.11259542 -0.14503817  0.82251908 -0.20992366 -0.24236641]\n",
      " [ 0.10305344  0.0019084  -0.09923664 -0.20038168  0.69847328 -0.40267176]\n",
      " [ 0.28625954  0.11641221 -0.05343511 -0.22328244 -0.39312977  0.4370229 ]]\n"
     ]
    }
   ],
   "source": [
    "# Ma trận nghịch đảo\n",
    "print(A)\n",
    "\n",
    "print(\"Ma trận nghịch đảo của A: \", np.linalg.inv(A), sep =\"\\n\")\n"
   ]
  },
  {
   "cell_type": "code",
   "execution_count": 24,
   "id": "6e937c4f-4f4c-4895-8df8-5d1e76d55043",
   "metadata": {},
   "outputs": [
    {
     "data": {
      "text/plain": [
       "array([[ 1.,  1.,  2.,  3.,  4.,  5.],\n",
       "       [ 6.,  8.,  8.,  9., 10., 11.],\n",
       "       [12., 13., 15., 15., 16., 17.],\n",
       "       [18., 19., 20., 22., 22., 23.],\n",
       "       [24., 25., 26., 27., 29., 29.],\n",
       "       [30., 31., 32., 33., 34., 36.]])"
      ]
     },
     "execution_count": 24,
     "metadata": {},
     "output_type": "execute_result"
    }
   ],
   "source": [
    "np.linalg.inv(np.linalg.inv(A))"
   ]
  },
  {
   "cell_type": "markdown",
   "id": "64d02c3f-d7a7-42ec-a577-6124169b83e7",
   "metadata": {},
   "source": [
    "### 4. Bài toán ứng dụng 2 - Tính dãy FIBONACCI"
   ]
  },
  {
   "cell_type": "code",
   "execution_count": 36,
   "id": "0e0780ae-b1c7-4d20-97aa-a44d3a361d01",
   "metadata": {},
   "outputs": [
    {
     "name": "stdout",
     "output_type": "stream",
     "text": [
      "[1 1]\n",
      "[2 1]\n",
      "[3 2]\n",
      "[5 3]\n",
      "[8 5]\n",
      "[13  8]\n",
      "[21 13]\n",
      "[34 21]\n",
      "[55 34]\n",
      "[89 55]\n"
     ]
    }
   ],
   "source": [
    "# Tính toán dãy Fibo\n",
    "import numpy as np\n",
    "A = np.array([[1, 1], [1, 0]])\n",
    "b = np.array([1, 0])\n",
    "numOfFibo = 10 # 11 số fibo đầu tiên\n",
    "for i in range(numOfFibo):\n",
    "    b = A.dot(b)\n",
    "    print(b)"
   ]
  },
  {
   "cell_type": "markdown",
   "id": "d564f887-27d4-40d0-a801-d3ab5687f92c",
   "metadata": {},
   "source": [
    "### 5. Cơ bản về hệ phương trình tuyến tính và ứng dụng minh hoạ"
   ]
  },
  {
   "cell_type": "markdown",
   "id": "ae8e13b0-ac1e-4bc4-adda-0f8dc67df178",
   "metadata": {},
   "source": [
    "**5.2 Bài toán ứng dụng 3 - đếm số lượng xe vào khu vực trung tâm**"
   ]
  },
  {
   "cell_type": "markdown",
   "id": "afc2b85b-c9b1-4840-a791-7ceabdb25b3d",
   "metadata": {},
   "source": [
    "$$\\begin {align*}\r\n",
    "\\begin{cases}\r\n",
    "    x_4  + 610  = 450  + x_1\\\\\r\n",
    "    x_1  + 400  = x_2  + 640\\\\\r\n",
    "    x_2 + 600 = x_3\\\\\r\n",
    "    x_3 = x_4 + 520\\\\\r\n",
    "\\end{cases} \r\n",
    "\\end {align*}$$\r\n",
    "\r\n",
    "***Hoặc đương:***\n",
    "hệ tương $$\\begin {align*}\n",
    "\\begin{cases}\n",
    "    x_4 - x_1 = -160\\\\\r\n",
    "    x_1 - x_2 = 240\\\\\r\n",
    "    x_2 - x_3 = -600\\\\\r\n",
    "    x_3 -3 - x_4 &= 520\r\n",
    "\\end{case$$lign*}\r\n",
    "\\]\r\n",
    "gn*}$$"
   ]
  },
  {
   "cell_type": "markdown",
   "id": "54bb5251-469a-4955-8177-c13890b6071a",
   "metadata": {},
   "source": [
    "### Bài tập chương 2"
   ]
  },
  {
   "cell_type": "markdown",
   "id": "9f339dfd-e9cb-486c-821c-1521938ba5fa",
   "metadata": {},
   "source": [
    "### Câu 1: Hãy sử dụng numpy để giải các phương trình sau:\n",
    "\n",
    "- Vấn đề 1 (Problem 1): Tìm điểm giao giữa hai đường thẩng trong R"
   ]
  },
  {
   "cell_type": "code",
   "execution_count": null,
   "id": "39245997-f4b6-45c7-a047-c94cc2e18c05",
   "metadata": {},
   "outputs": [],
   "source": []
  }
 ],
 "metadata": {
  "kernelspec": {
   "display_name": "Python 3 (ipykernel)",
   "language": "python",
   "name": "python3"
  },
  "language_info": {
   "codemirror_mode": {
    "name": "ipython",
    "version": 3
   },
   "file_extension": ".py",
   "mimetype": "text/x-python",
   "name": "python",
   "nbconvert_exporter": "python",
   "pygments_lexer": "ipython3",
   "version": "3.11.7"
  }
 },
 "nbformat": 4,
 "nbformat_minor": 5
}

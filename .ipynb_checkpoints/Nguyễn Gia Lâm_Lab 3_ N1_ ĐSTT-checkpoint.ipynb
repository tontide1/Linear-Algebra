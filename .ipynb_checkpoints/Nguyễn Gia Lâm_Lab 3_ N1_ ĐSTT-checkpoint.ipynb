{
 "cells": [
  {
   "cell_type": "markdown",
   "id": "e6078c5c",
   "metadata": {},
   "source": [
    "## Bài 3: MA TRẬN VÀ HỆ PHƯƠNG TRÌNH TUYẾN TÍNH"
   ]
  },
  {
   "cell_type": "code",
   "execution_count": 39,
   "id": "e3a733dd",
   "metadata": {},
   "outputs": [
    {
     "name": "stdout",
     "output_type": "stream",
     "text": [
      "[[2 3]\n",
      " [1 4]]\n",
      "[[1.+9.j 0.+2.j 0.+3.j]\n",
      " [0.+4.j 0.+5.j 0.+6.j]]\n",
      "[[0.16144577 0.42690299 0.71958643 0.46295369 0.96920354]\n",
      " [0.36581652 0.57422838 0.91048675 0.29175081 0.40340101]\n",
      " [0.94576023 0.75268389 0.77120499 0.20077474 0.37170363]\n",
      " [0.42927632 0.9065385  0.02759715 0.30669775 0.458519  ]\n",
      " [0.85066875 0.86345666 0.11520822 0.22243627 0.74058969]\n",
      " [0.60142447 0.94417257 0.04615447 0.91365295 0.37735367]\n",
      " [0.84161186 0.91445084 0.91633155 0.72696397 0.39882267]\n",
      " [0.87667765 0.53563454 0.98828997 0.9229385  0.05700606]\n",
      " [0.80079382 0.84532157 0.29553163 0.09980237 0.72784496]\n",
      " [0.03075571 0.61993992 0.81133117 0.74252152 0.64563303]]\n",
      "[[4 3]\n",
      " [2 6]]\n",
      "[[0. 1. 0.]\n",
      " [0. 0. 1.]\n",
      " [0. 0. 0.]]\n",
      "[[1. 0. 0.]\n",
      " [0. 1. 0.]\n",
      " [0. 0. 1.]]\n",
      "[[0. 0. 0.]\n",
      " [1. 0. 0.]\n",
      " [0. 1. 0.]]\n",
      "[[1]\n",
      " [2]\n",
      " [3]]\n"
     ]
    },
    {
     "data": {
      "text/plain": [
       "array([[0.40235948, 1.20707843],\n",
       "       [0.40235948, 1.20707843]])"
      ]
     },
     "execution_count": 39,
     "metadata": {},
     "output_type": "execute_result"
    }
   ],
   "source": [
    "from scipy import linalg \n",
    "import numpy as np\n",
    "a = np.array([1,2,3])\n",
    "b = np.array([(1+9j, 2j, 3j), (4j, 5j, 6j)]) \n",
    "c = np.array([[ (0.5, 1.5, 10), (3,2,1) ] , [(6,5,4), (7,8,9)]]) \n",
    "A = np.matrix([[2,3],[1,4]])\n",
    "B = np.asmatrix(b)\n",
    "C = np.mat(np.random.random((10,5)))\n",
    "D = np.mat([[4,3],[2,6]])\n",
    "F = np.eye(3,k=1)\n",
    "print(A)\n",
    "print(B)\n",
    "print(C)\n",
    "print(D)\n",
    "print(F)\n",
    "F1 = np.eye(3,k=0)\n",
    "print(F1)\n",
    "F2 = np.eye(3,k=-1)\n",
    "print(F2)\n",
    "np.linalg.matrix_rank(C)\n",
    "A.I # lấy ma trận nghịch đảo của A\n",
    "linalg.inv(A)# lấy ma trận nghịch đảo của A\n",
    "A.T # Chuyen vi ma tran\n",
    "A.H # chuyển vị liên hợp\n",
    "linalg.solve(A,b)\n",
    "E =np.mat(a).T\n",
    "print(E)\n",
    "linalg.lstsq(E,E)\n",
    "np.add(A,D)\n",
    "np.subtract(A,D)\n",
    "np.divide(A,D)\n",
    "np.dot(A,D)\n",
    "A@D\n",
    "np.multiply(A,D)\n",
    "np.vdot(A,D)#tinh tich vo huong\n",
    "linalg.expm(A)# tinh e^A\n",
    "linalg.logm(A)"
   ]
  },
  {
   "cell_type": "markdown",
   "id": "2212b14f",
   "metadata": {},
   "source": [
    "**Câu 1:** Viết bài thu hoạch (làm từng bước như bài toán ứng dụng 1) về nội dung:\n",
    "\n",
    "Sinh viên hãy viết chương trình bằng Python hoặc sử dụng thư viện numpy/sympy để:\n",
    "\n",
    "a. Tự chọn một ma trận khả nghịch 3x3. Sinh viên chứng minh ma trận đó khả nghịch (tồn\n",
    "tại ma trận nghịch đảo)\n",
    "\n",
    "b. Nhập họ và tên hoặc mã số sinh viên (của sinh viên).\n",
    "\n",
    "c. Mã hóa họ và tên hoặc mã số sinh viên (của sinh viên).\n",
    "\n",
    "d. Thực hiện giải mã với ma trận được chọn.\n"
   ]
  },
  {
   "cell_type": "code",
   "execution_count": 3,
   "id": "16933195",
   "metadata": {},
   "outputs": [
    {
     "name": "stdout",
     "output_type": "stream",
     "text": [
      "Ma tran A kha nghich\n",
      "Ma tran nghich dao cua A la:\n",
      "[[ 2.25  -1.25   0.5  ]\n",
      " [ 1.625 -1.125  0.75 ]\n",
      " [-3.     2.    -1.   ]]\n"
     ]
    }
   ],
   "source": [
    "#a\n",
    "import numpy as np\n",
    "A = np.mat([[3,2,3],[5,6,7],[1,6,4]])\n",
    "x = np.linalg.det(A)\n",
    "# Kiểm tra xem giá trị định thức của ma trận A có khác 0 không? Nếu có thì\n",
    "# A khả nghịch và tồn taị ma trận nghịch đảo và ngược lại.\n",
    "if x == 0:\n",
    "    print(\"Ma tran A khong kha nghich\")\n",
    "else:\n",
    "    print(\"Ma tran A kha nghich\")\n",
    "    print(\"Ma tran nghich dao cua A la:\")\n",
    "    print(np.linalg.inv(A)) #A.I\n"
   ]
  },
  {
   "cell_type": "code",
   "execution_count": 44,
   "id": "4a45d46f",
   "metadata": {},
   "outputs": [
    {
     "name": "stdout",
     "output_type": "stream",
     "text": [
      "Nhập họ và tên hoặc mã số sinh viên: NGUYÊ?N GIA LÂM\n",
      "Chuỗi số tương ứng là:  [21, 15, 30, 34, 14, 2, 21, 5, 15, 17, 6, 5, 19, 8, 20]\n",
      "[[21, 15, 30], [34, 14, 2], [21, 5, 15], [17, 6, 5], [19, 8, 20]]\n",
      "[matrix([[168, 312, 288]]), matrix([[174, 164, 208]]), matrix([[103, 162, 158]]), matrix([[ 86, 100, 113]]), matrix([[117, 206, 193]])]\n",
      "[[168 312 288]\n",
      " [174 164 208]\n",
      " [103 162 158]\n",
      " [ 86 100 113]\n",
      " [117 206 193]]\n",
      "Giải mã\n",
      "[[21. 15. 30.]\n",
      " [34. 14.  2.]\n",
      " [21.  5. 15.]\n",
      " [17.  6.  5.]\n",
      " [19.  8. 20.]]\n"
     ]
    }
   ],
   "source": [
    "#b\n",
    "sv = input(\"Nhập họ và tên hoặc mã số sinh viên: \")\n",
    "\n",
    "#c\n",
    "bangmahoa = {' ': 5, 'D': 11, 'I': 17, 'Ơ': 23, 'T': 29, 'U': 30, 'A': 6, 'Đ': 12, 'K': 18, 'Ô': 24,\n",
    "            'Ă': 7, 'E': 13, 'L': 19, 'P': 25, 'Ư': 31, 'Â': 8, 'Ê': 14, 'M': 20, 'Q': 26, 'V': 32,\n",
    "            'B': 9, 'G': 15, 'N': 21, 'R': 27, 'X': 33, 'C': 10, 'H': 16, 'O': 22, 'S': 28, 'Y': 34,\n",
    "            '‘': 0, '`': 1, '?': 2, '~': 3, '.': 4}\n",
    "input_str = sv\n",
    "#Tạo ma trận từ đoạn tin\n",
    "num_string = [bangmahoa[i] for i in input_str]\n",
    "print(\"Chuỗi số tương ứng là: \", num_string)\n",
    "#d\n",
    "mat_size = 3\n",
    "#Phân tích thành các ma trận con\n",
    "B = [num_string[i:i+mat_size] for i in range(0,len(num_string),mat_size)]\n",
    "print(B)\n",
    "#Nhân các ma trận con với ma trận ban đầu để được ma trận mới\n",
    "New=[row@A for row in B]\n",
    "print(\"Ma trận mới: \")\n",
    "print(New)\n",
    "#Gộp các ma trận con thành ma trận hoàn chỉnh\n",
    "Encoded=np.vstack(New)\n",
    "print(Encoded)\n",
    "#Thực hiện giải mã bằng cách nhân cho ma trận đã hóa với ma trận nghịch đảo của A\n",
    "A1 = Encoded*(A.I)\n",
    "print(\"Giải mã\")\n",
    "print(A1)"
   ]
  },
  {
   "cell_type": "markdown",
   "id": "453665c9",
   "metadata": {},
   "source": [
    "Câu 2: Tính toán phân số từ liên phân số (continued fractions)\n",
    "Với một phân số $\\frac{p_n}{q_n}$$$$$được biểu diễn dưới dạng liên phân số như sau:\n",
    "$$\\frac{p_n}{q_n} = c_0 + \\frac{1}{c_1+\\frac{1}{c_2+...+\\frac{1}{c_n}}}$$\n",
    "Người ta chứng minh được rằng có một cách xác định $𝑝_𝑛$ và $𝑞_𝑛$ như sau:\n",
    "$$\\left(\\begin{matrix}c_0&1\\\\1&0\\end{matrix}\\right)\\left(\\begin{matrix}c_1&1\\\\1&0\\end{matrix}\\right)...\\left(\\begin{matrix}c_n&1\\\\1&0\\end{matrix}\\right)=\\left(\\begin{matrix}p_n&q_{n-1}\\\\q_n&q_{n-1}\\end{matrix}\\right),n=0,1,2,...$$\n",
    "a. Xây dựng chương trình tính 𝑝𝑛 và 𝑞𝑛 khi có danh sách 𝑛 giá trị $𝑐_0$, $𝑐_1$, … , $𝑐_𝑛$.\n",
    "\n",
    "b. Hãy chứng minh điều trên.\n"
   ]
  },
  {
   "cell_type": "code",
   "execution_count": 15,
   "id": "a4fe9e07",
   "metadata": {},
   "outputs": [
    {
     "name": "stdout",
     "output_type": "stream",
     "text": [
      "Nhập n: 2\n",
      "[18, 3]\n",
      "[matrix([[18,  1],\n",
      "        [ 1,  0]]), matrix([[3, 1],\n",
      "        [1, 0]])]\n",
      "[[55 18]\n",
      " [ 3  1]]\n",
      "Giá trị p_n là 55\n",
      "Giá trị q_n là 3\n"
     ]
    }
   ],
   "source": [
    "#Tạo 1 danh sách gồm n phần tử ngẫu nhiên từ 0 đến 20\n",
    "import numpy as np\n",
    "import random\n",
    "n = int(input(\"Nhập n: \"))\n",
    "A = [random.randint(0,21) for _ in range(n)]\n",
    "print(A)\n",
    "#tạo ma trận\n",
    "def create_matrix(ds):\n",
    "    ds_moi=[]\n",
    "    for i in range(len(ds)):\n",
    "        ds_moi.append(np.mat([[ds[i],1],[1,0]]))\n",
    "    return ds_moi\n",
    "newlist = create_matrix(A)\n",
    "print(newlist)\n",
    "#Hàm nhân ma trận\n",
    "def multiply_matrices(matrix_list):\n",
    "    result_matrix = None\n",
    "\n",
    "    for matrix in matrix_list:\n",
    "        if result_matrix is None:\n",
    "            result_matrix = matrix\n",
    "        else:\n",
    "            result_matrix = np.dot(result_matrix, matrix)\n",
    "\n",
    "    return result_matrix\n",
    "tich=multiply_matrices(newlist)\n",
    "print(tich)\n",
    "# Lấy giá trị p_n và q_n\n",
    "p_n = tich[0,0]\n",
    "q_n = tich[1,0]\n",
    "print(f\"Giá trị p_n là {p_n}\")\n",
    "print(f\"Giá trị q_n là {q_n}\")"
   ]
  },
  {
   "cell_type": "markdown",
   "id": "821f158e",
   "metadata": {},
   "source": [
    "Để chứng minh điều trên, chúng ta có thể sử dụng phương pháp quy nạp. Đặt ma trận được nhân là A và giả sử biểu thức trên đúng với n = k:\n",
    "\n",
    "\\$[ A_k = \\begin{bmatrix} c_k & 1 \\\\ 1 & 0 \\end{bmatrix} \\begin{bmatrix} c_{k-1} & 1 \\\\ 1 & 0 \\end{bmatrix} \\dotsm \\begin{bmatrix} c_1 & 1 \\\\ 1 & 0 \\end{bmatrix} = \\begin{bmatrix} p_k & p_{k-1} \\\\ q_k & q_{k-1} \\end{bmatrix} \\]$\n",
    "\n",
    "Bây giờ, chúng ta sẽ chứng minh biểu thức cho n = k + 1:\n",
    "\n",
    "\\$[ A_{k+1} = \\begin{bmatrix} c_{k+1} & 1 \\\\ 1 & 0 \\end{bmatrix} \\begin{bmatrix} p_k & p_{k-1} \\\\ q_k & q_{k-1} \\end{bmatrix} \\]$\n",
    "\n",
    "\\$[ A_{k+1} = \\begin{bmatrix} c_{k+1}p_k + p_{k-1} & c_{k+1}p_{k-1} + p_k \\\\ c_{k+1}q_k + q_{k-1} & c_{k+1}q_{k-1} + q_k \\end{bmatrix} \\]$\n",
    "\n",
    "Từ giả sử, chúng ta biết rằng \\$( A_k = \\begin{bmatrix} p_k & p_{k-1} \\\\ q_k & q_{k-1} \\end{bmatrix} \\)$. Đặt \\$( p_{k+1} = c_{k+1}p_k + p_{k-1} \\$) và \\$( q_{k+1} = c_{k+1}q_k + q_{k-1} \\$), chúng ta có thể thấy rằng \\$( A_{k+1} = \\begin{bmatrix} p_{k+1} & p_k \\\\ q_{k+1} & q_k \\end{bmatrix} \\$).\n",
    "\n",
    "Do đó, biểu thức trên đúng với mọi n bằng cách sử dụng quy nạp.\n"
   ]
  }
 ],
 "metadata": {
  "kernelspec": {
   "display_name": "Python 3 (ipykernel)",
   "language": "python",
   "name": "python3"
  },
  "language_info": {
   "codemirror_mode": {
    "name": "ipython",
    "version": 3
   },
   "file_extension": ".py",
   "mimetype": "text/x-python",
   "name": "python",
   "nbconvert_exporter": "python",
   "pygments_lexer": "ipython3",
   "version": "3.11.5"
  }
 },
 "nbformat": 4,
 "nbformat_minor": 5
}

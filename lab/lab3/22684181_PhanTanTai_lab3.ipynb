{
 "cells": [
  {
   "cell_type": "markdown",
   "id": "2be3abcf-cb50-474f-a95e-b906775c844d",
   "metadata": {},
   "source": [
    "## Câu 1:\n",
    "\n",
    "Sinh viên hãy viết chương trình bằng Python hoặc sử dụng thư viện numpy/sympy để:\n",
    "\n",
    "**a.** Tự chọn một ma trận khả nghịch 3x3. Sinh viên chứng minh ma trận đó khả nghịch (tồn\n",
    "tại ma trận nghịch đảo)\n",
    "\n",
    "**b.** Nhập họ và tên hoặc mã số sinh viên (của sinh viên).\n",
    "\n",
    "**c.** Mã hóa họ và tên hoặc mã số sinh viên (của sinh viên).\n",
    "\n",
    "**d.** Thực hiện giải mã với ma trận được chọn."
   ]
  },
  {
   "cell_type": "code",
   "execution_count": 18,
   "id": "16632171-4bec-4309-ab27-68ed8624c627",
   "metadata": {},
   "outputs": [],
   "source": [
    "import numpy as np"
   ]
  },
  {
   "cell_type": "code",
   "execution_count": 21,
   "id": "bb1d7f68-a785-41f1-9331-ab5ca68204a5",
   "metadata": {},
   "outputs": [
    {
     "name": "stdout",
     "output_type": "stream",
     "text": [
      "[[1 4 9]\n",
      " [9 1 3]\n",
      " [0 9 0]]\n",
      "\n",
      "[[-0.03846154  0.11538462  0.0042735 ]\n",
      " [ 0.          0.          0.11111111]\n",
      " [ 0.11538462 -0.01282051 -0.04985755]]\n"
     ]
    }
   ],
   "source": [
    "# a) Tự chọn một ma trận khả nghịch 3x3. Sinh viên chứng minh ma trận đó khả nghịch (tồn tại ma trận nghịch đảo)\n",
    "def generate_invertible_matrix():\n",
    "    while True:\n",
    "        m = np.random.randint(0, 10, (3, 3))\n",
    "        if np.linalg.det(matrix) != 0:\n",
    "            return m\n",
    "\n",
    "matrix = generate_invertible_matrix()\n",
    "linalg_Matrix = np.linalg.inv(matrix)\n",
    "print(matrix, linalg_Matrix, sep = '\\n\\n')"
   ]
  },
  {
   "cell_type": "code",
   "execution_count": 31,
   "id": "8af0db0a-6b5a-4835-b241-2197666ee14f",
   "metadata": {},
   "outputs": [
    {
     "name": "stdin",
     "output_type": "stream",
     "text": [
      "Ho va ten hoac MSSV:  TAN TAI\n"
     ]
    },
    {
     "name": "stdout",
     "output_type": "stream",
     "text": [
      "Chuỗi số tương ứng là:  [29, 6, 21, 5, 29, 6, 17]\n",
      "Chuỗi số đã được mã hóa:  [29, 7, 22, 5, 29, 7, 17]\n",
      "Chuỗi số đã được giải mã:  [29, 6, 21, 5, 29, 6, 17]\n"
     ]
    }
   ],
   "source": [
    "# b) Nhập họ và tên hoặc mã số sinh viên (của sinh viên).\n",
    "input_name_id = input(\"Ho va ten hoac MSSV: \")\n",
    "\n",
    "# Bảng mã\n",
    "table_encoded = {' ': 5, 'D': 11, 'I': 17, 'Ơ': 23, 'T': 29, 'U': 30, 'A': 6, 'Đ': 12, 'K': 18, 'Ô': 24,\n",
    "                 'Ă': 7, 'E': 13, 'L': 19, 'P': 25, 'Ư': 31, 'Â': 8, 'Ê': 14, 'M': 20, 'Q': 26, 'V': 32,\n",
    "                 'B': 9, 'G': 15, 'N': 21, 'R': 27, 'X': 33, 'C': 10, 'H': 16, 'O': 22, 'S': 28, 'Y': 34,\n",
    "                 '‘': 0, '`': 1, '?': 2, '~': 3, '.': 4}\n",
    "\n",
    "# Chuyển đổi thông tin thành chuỗi số tương ứng\n",
    "num_string = []\n",
    "for char in input_name_id:\n",
    "    if char in table_encoded:\n",
    "        num_string.append(table_encoded[char])\n",
    "    else:\n",
    "        print(\"Kí tự '{}' không được hỗ trợ và sẽ bị bỏ qua.\".format(char))\n",
    "\n",
    "print(\"Chuỗi số tương ứng là: \", num_string)\n",
    "\n",
    "# Bước c: Mã hóa họ và tên hoặc mã số sinh viên\n",
    "encoded_info = []\n",
    "for num in num_string:\n",
    "    encoded_num = num + matrix[num % 3, num % 3]  # Thêm giá trị mã vào từng phần tử\n",
    "    if encoded_num > 34:  # Xoay vòng nếu giá trị vượt quá 34\n",
    "        encoded_num -= 35\n",
    "    encoded_info.append(encoded_num)\n",
    "print(\"Chuỗi số đã được mã hóa: \", encoded_info)\n",
    "\n",
    "# Bước d: Thực hiện giải mã với ma trận được chọn\n",
    "decoded_info = []\n",
    "for encoded_num in encoded_info:\n",
    "    decoded_num = encoded_num - matrix[encoded_num % 3, encoded_num % 3]  # Trừ đi giá trị mã từng phần tử\n",
    "    if decoded_num < 0:  # Xoay vòng nếu giá trị nhỏ hơn 0\n",
    "        decoded_num += 35\n",
    "    decoded_info.append(decoded_num)\n",
    "print(\"Chuỗi số đã được giải mã: \", decoded_info)\n"
   ]
  },
  {
   "cell_type": "markdown",
   "id": "ff703a90-2bcb-41f6-b3cb-9120ab370f9a",
   "metadata": {},
   "source": [
    "## Câu 2:\r\n",
    "Với một phân số $\\frac{p_n}{q_n}$$$$$được biểu diễn dưới dạng liên phân số như sau:\r\n",
    "$$\\frac{p_n}{q_n} = c_0 + \\frac{1}{c_1+\\frac{1}{c_2+...+\\frac{1}{c_n}}}$$\r\n",
    "Người ta chứng minh được rằng có một cách xác định $𝑝_𝑛$ và $𝑞_𝑛$ như sau:\r\n",
    "$$\\left(\\begin{matrix}c_0&1\\\\1&0\\end{matrix}\\right)\\left(\\begin{matrix}c_1&1\\\\1&0\\end{matrix}\\right)...\\left(\\begin{matrix}c_n&1\\\\1&0\\end{matrix}\\right)=\\left(\\begin{matrix}p_n&q_{n-1}\\\\q_n&q_{n-1}\\end{matrix}\\right),n=0,1,2,...$$\r\n",
    "a. Xây dựng chương trình tính 𝑝𝑛 và 𝑞𝑛 khi có danh sách 𝑛 giá trị $𝑐_0$, $𝑐_1$, … , $𝑐_𝑛$.\r\n",
    "\r\n",
    "b. Hãy chứng minh điều trên.\r\n"
   ]
  },
  {
   "cell_type": "code",
   "execution_count": null,
   "id": "0d1c1446-5ce3-4ff5-bc34-47cbab862e9d",
   "metadata": {},
   "outputs": [],
   "source": [
    "import numpy as np\n",
    "import random"
   ]
  },
  {
   "cell_type": "code",
   "execution_count": 39,
   "id": "3fb3591a-0f87-4fff-88e3-797023deca86",
   "metadata": {},
   "outputs": [
    {
     "name": "stdin",
     "output_type": "stream",
     "text": [
      "Nhập n:  20\n"
     ]
    },
    {
     "name": "stdout",
     "output_type": "stream",
     "text": [
      "Danh sách ngẫu nhiên:  [19, 13, 7, 14, 20, 4, 10, 19, 9, 4, 16, 4, 13, 7, 15, 0, 6, 11, 3, 17]\n",
      "Ma trận tạo từ danh sách: \n",
      "[array([[19,  1],\n",
      "       [ 1,  0]]), array([[13,  1],\n",
      "       [ 1,  0]]), array([[7, 1],\n",
      "       [1, 0]]), array([[14,  1],\n",
      "       [ 1,  0]]), array([[20,  1],\n",
      "       [ 1,  0]]), array([[4, 1],\n",
      "       [1, 0]]), array([[10,  1],\n",
      "       [ 1,  0]]), array([[19,  1],\n",
      "       [ 1,  0]]), array([[9, 1],\n",
      "       [1, 0]]), array([[4, 1],\n",
      "       [1, 0]]), array([[16,  1],\n",
      "       [ 1,  0]]), array([[4, 1],\n",
      "       [1, 0]]), array([[13,  1],\n",
      "       [ 1,  0]]), array([[7, 1],\n",
      "       [1, 0]]), array([[15,  1],\n",
      "       [ 1,  0]]), array([[0, 1],\n",
      "       [1, 0]]), array([[6, 1],\n",
      "       [1, 0]]), array([[11,  1],\n",
      "       [ 1,  0]]), array([[3, 1],\n",
      "       [1, 0]]), array([[17,  1],\n",
      "       [ 1,  0]])]\n",
      "Kết quả: p_n = -1565660313, q_n = -208151265\n"
     ]
    }
   ],
   "source": [
    "# Tạo danh sách ngẫu nhiên \n",
    "def generate_random_list(n, a, b):\n",
    "  return [random.randint(a, b) for _ in range(n)]\n",
    "\n",
    "# Tạo ma trận từ danh sách\n",
    "def create_matrix(lst):\n",
    "  return [np.array([[x, 1], [1, 0]]) for x in lst]\n",
    "\n",
    "# Nhân ma trận  \n",
    "def multiply(matrices):\n",
    "  result = None\n",
    "  for m in matrices:\n",
    "    result = np.dot(result, m) if result is not None else m\n",
    "  return result\n",
    "\n",
    "# Lấy kết quả\n",
    "def get_pn_qn(matrices):\n",
    "  result = multiply(matrices)  \n",
    "  return result[0,0], result[1,0]\n",
    "\n",
    "\n",
    "n = int(input(\"Nhập n: \"))\n",
    "\n",
    "a = generate_random_list(n, 0, 20) \n",
    "print(\"Danh sách ngẫu nhiên: \", a)\n",
    "\n",
    "m = create_matrix(a)\n",
    "print(\"Ma trận tạo từ danh sách: \", m, sep = '\\n')\n",
    "p_n, q_n = get_pn_qn(m)\n",
    "print(f\"Kết quả: p_n = {p_n}, q_n = {q_n}\")"
   ]
  },
  {
   "cell_type": "markdown",
   "id": "c1d55e72-cecb-4a4f-a295-5c1a9289f1d6",
   "metadata": {},
   "source": [
    "Để chứng minh điều trên, chúng ta có thể sử dụng phương pháp quy nạp. Đặt ma trận được nhân là A và giả sử biểu thức trên đúng với n = k:\r\n",
    "\r\n",
    "\\$[ A_k = \\begin{bmatrix} c_k & 1 \\\\ 1 & 0 \\end{bmatrix} \\begin{bmatrix} c_{k-1} & 1 \\\\ 1 & 0 \\end{bmatrix} \\dotsm \\begin{bmatrix} c_1 & 1 \\\\ 1 & 0 \\end{bmatrix} = \\begin{bmatrix} p_k & p_{k-1} \\\\ q_k & q_{k-1} \\end{bmatrix} \\]$\r\n",
    "\r\n",
    "Bây giờ, chúng ta sẽ chứng minh biểu thức cho n = k + 1:\r\n",
    "\r\n",
    "\\$[ A_{k+1} = \\begin{bmatrix} c_{k+1} & 1 \\\\ 1 & 0 \\end{bmatrix} \\begin{bmatrix} p_k & p_{k-1} \\\\ q_k & q_{k-1} \\end{bmatrix} \\]$\r\n",
    "\r\n",
    "\\$[ A_{k+1} = \\begin{bmatrix} c_{k+1}p_k + p_{k-1} & c_{k+1}p_{k-1} + p_k \\\\ c_{k+1}q_k + q_{k-1} & c_{k+1}q_{k-1} + q_k \\end{bmatrix} \\]$\r\n",
    "\r\n",
    "Từ giả sử, chúng ta biết rằng \\$( A_k = \\begin{bmatrix} p_k & p_{k-1} \\\\ q_k & q_{k-1} \\end{bmatrix} \\)$. Đặt \\$( p_{k+1} = c_{k+1}p_k + p_{k-1} \\$) và \\$( q_{k+1} = c_{k+1}q_k + q_{k-1} \\$), chúng ta có thể thấy rằng \\$( A_{k+1} = \\begin{bmatrix} p_{k+1} & p_k \\\\ q_{k+1} & q_k \\end{bmatrix} \\$).\r\n",
    "\r\n",
    "Do đó, biểu thức trên đúng với mọi n bằng cách sử dụng quy nạp.\r\n",
    "dụng quy nạp.\r\n",
    " \\) bằng cách sử dụng quy nạp.\r\n",
    "dụng quy nạp.\r\n"
   ]
  }
 ],
 "metadata": {
  "kernelspec": {
   "display_name": "Python 3 (ipykernel)",
   "language": "python",
   "name": "python3"
  },
  "language_info": {
   "codemirror_mode": {
    "name": "ipython",
    "version": 3
   },
   "file_extension": ".py",
   "mimetype": "text/x-python",
   "name": "python",
   "nbconvert_exporter": "python",
   "pygments_lexer": "ipython3",
   "version": "3.11.7"
  }
 },
 "nbformat": 4,
 "nbformat_minor": 5
}

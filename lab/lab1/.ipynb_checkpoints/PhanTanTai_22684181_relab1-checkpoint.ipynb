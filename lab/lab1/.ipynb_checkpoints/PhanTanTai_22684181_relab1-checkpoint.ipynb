{
 "cells": [
  {
   "cell_type": "markdown",
   "metadata": {},
   "source": [
    "### Bài 1. Điểm môn học của một nhóm SV được cho như bên dưới:\n",
    "\n",
    "|SV|BTCN|Báo cáo|GK|CK|\n",
    "|:-:|:-:|:-:|:-:|:-:|\n",
    "|A|7|8|9|5|\n",
    "|B|8|7|4|6|\n",
    "|C|7|5|8|6|\n",
    "|D|6|8|5|4|\n",
    "|E|9|9|8|7|\n",
    "|F|10|8|9|8|\n",
    "\n",
    "**Tỷ lệ % điểm**:\n",
    "\n",
    "|BTCN|Báo cáo|GK|CK|\n",
    "|:-:|:-:|:-:|:-:|\n",
    "|10%|20%|30%|40%|\n",
    "\n",
    "Hãy nhập dữ liệu điểm vào ở dạng ma trận, tính ra điểm trung bình của từng HS và cho \r\n",
    "biết SV nào qua môn (điểm TB >= 5.0)."
   ]
  },
  {
   "cell_type": "code",
   "execution_count": 27,
   "metadata": {},
   "outputs": [
    {
     "name": "stdout",
     "output_type": "stream",
     "text": [
      "sinh vien A đã đậu với đtb = 7.0\n",
      "sinh vien B đã đậu với đtb = 5.8\n",
      "sinh vien C đã đậu với đtb = 6.5\n",
      "sinh vien D đã đậu với đtb = 5.3\n",
      "sinh vien E đã đậu với đtb = 7.9\n",
      "sinh vien F đã đậu với đtb = 8.5\n"
     ]
    }
   ],
   "source": [
    "import numpy as np\n",
    "bang_diem = np.array([[7, 8, 9, 5],\n",
    "                     [8, 7, 4, 6],\n",
    "                      [7, 5, 8, 6],\n",
    "                      [6, 8, 5, 4],\n",
    "                      [9, 9, 8, 7],\n",
    "                      [10, 8, 9, 8]])\n",
    "\n",
    "ten_sv = np.array([\"A\",\"B\",\"C\",\"D\",\"E\",\"F\"])\n",
    "\n",
    "def tinh_diem_tb(a,b,c,d):\n",
    "    return a*0.1 + b*0.2 + c*0.3 + d*0.4\n",
    "\n",
    "so_hang = bang_diem.shape[0]\n",
    "\n",
    "# shape() trả về 1 tuple chứa 2 phần tử là (số hàng, số cột)\n",
    "# để lấy ra được số hàng ta thực hiện so_hang = bang_diem.shape[0]\n",
    "\n",
    "for i in range(so_hang):\n",
    "    res = tinh_diem_tb(*bang_diem[i]) # Dấu * trước diemSinhVien[i] được gọi là toán tử unpacking (rã các phần tử của mảng).\n",
    "    #Nó giúp truyền các phần tử của hàng như các tham số riêng lẻ vào hàm diemTrungBinh.\n",
    "    if res > 5.0:\n",
    "        print(f\"sinh vien {ten_sv[i]} đã đậu với đtb = {round(res, 3)}\")\n",
    "    else:\n",
    "        print(f\"sinh vien {ten_sv[i]} đã rớt với đtb = {round(res, 3)}\")\n",
    "        "
   ]
  },
  {
   "cell_type": "code",
   "execution_count": 49,
   "metadata": {},
   "outputs": [
    {
     "name": "stdout",
     "output_type": "stream",
     "text": [
      "[[10  1  1]\n",
      " [10  2  1]\n",
      " [ 3  8  6]]\n",
      "[[ 9  9  5]\n",
      " [ 4  4  9]\n",
      " [ 7  0 10]]\n",
      "tong m1: 42\n",
      "tong m2: 57\n",
      "Ma trận C:\n",
      "[[19 10  6]\n",
      " [14  6 10]\n",
      " [10  8 16]]\n",
      "Ma trận D:\n",
      "[[ 1 -8 -4]\n",
      " [ 6 -2 -8]\n",
      " [-4  8 -4]]\n",
      "Ma trận E:\n",
      "[[101  94  69]\n",
      " [105  98  78]\n",
      " [101  59 147]]\n",
      "Ma trận E:\n",
      "[[101  94  69]\n",
      " [105  98  78]\n",
      " [101  59 147]]\n"
     ]
    }
   ],
   "source": [
    "m1 = np.random.randint(0, 11, size = (3, 3))\n",
    "m2 = np.random.randint(0, 11, size = (3, 3))\n",
    "\n",
    "print(m1)\n",
    "print(m2)\n",
    "\n",
    "tong_m1 = np.sum(m1)\n",
    "tong_m2 = np.sum(m2)\n",
    "\n",
    "print(f\"tong m1: {tong_m1}\")\n",
    "print(f\"tong m2: {tong_m2}\")\n",
    "\n",
    "m1_h1 = np.linalg.norm(m1[0])\n",
    "m1_h3 = np.linalg.norm(m2[2])\n",
    "m2_h1 = np.linalg.norm(m2[0])\n",
    "m2_h3 = np.linalg.norm(m2[2])\n",
    "\n",
    "print(f\"Ma trận C:\",  m1+m2, sep =\"\\n\")\n",
    "print(f\"Ma trận D:\",  m1-m2, sep =\"\\n\")\n",
    "print(f\"Ma trận E:\",  m1@m2, sep =\"\\n\")\n",
    "print(f\"Ma trận E:\",  np.dot(m1, m2), sep =\"\\n\")"
   ]
  },
  {
   "cell_type": "code",
   "execution_count": 61,
   "metadata": {},
   "outputs": [
    {
     "name": "stdout",
     "output_type": "stream",
     "text": [
      "[  0.   5.  10.  15.  20.  25.  30.  35.  40.  45.  50.  55.  60.  65.\n",
      "  70.  75.  80.  85.  90.  95. 100.]\n",
      "[ 0.  5. 10. 15. 20. 25. 30.]\n",
      "[35. 40. 45. 50. 55. 60. 65.]\n",
      "[ 70.  75.  80.  85.  90.  95. 100.]\n",
      "[   0.  200.  450.  750. 1100. 1500. 1950.]\n",
      "30450.0\n",
      "(7,) (7,)\n"
     ]
    }
   ],
   "source": [
    "new_vec = np.linspace(0, 100, 21)\n",
    "print(new_vec)\n",
    "u, v, w = np.split(new_vec, 3)\n",
    "print(u)\n",
    "print(v)\n",
    "print(w)\n",
    "print(u*v)\n",
    "print(v.dot(w))\n",
    "\n",
    "print(np.shape(u), np.shape(np.transpose(u)))"
   ]
  }
 ],
 "metadata": {
  "kernelspec": {
   "display_name": "Python 3 (ipykernel)",
   "language": "python",
   "name": "python3"
  },
  "language_info": {
   "codemirror_mode": {
    "name": "ipython",
    "version": 3
   },
   "file_extension": ".py",
   "mimetype": "text/x-python",
   "name": "python",
   "nbconvert_exporter": "python",
   "pygments_lexer": "ipython3",
   "version": "3.11.7"
  }
 },
 "nbformat": 4,
 "nbformat_minor": 4
}

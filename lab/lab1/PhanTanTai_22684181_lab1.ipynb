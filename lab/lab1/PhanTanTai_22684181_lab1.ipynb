{
 "cells": [
  {
   "cell_type": "markdown",
   "metadata": {},
   "source": [
    "# BÀI 1: GIỚI THIỆU VỀ PYTHON VÀ CÁC THƯ VIỆN TÍNH TOÁN"
   ]
  },
  {
   "cell_type": "markdown",
   "metadata": {},
   "source": [
    "## 1. Bài tập trên lớp"
   ]
  },
  {
   "cell_type": "markdown",
   "metadata": {},
   "source": [
    "* Lệnh: >>> `mat1 = np.zeros([5,5])`\n",
    "\n",
    "\\begin{equation}\n",
    "    \\text {mat1 = }\n",
    "    \\begin{pmatrix}\n",
    "      0 & 0 & 0 & 0 & 0 \\\\\n",
    "      0 & 0 & 0 & 0 & 0 \\\\\n",
    "      0 & 0 & 0 & 0 & 0 \\\\\n",
    "      0 & 0 & 0 & 0 & 0 \\\\\n",
    "      0 & 0 & 0 & 0 & 0 \\\\\n",
    "    \\end{pmatrix}\n",
    "\\end{equation}\n"
   ]
  },
  {
   "cell_type": "code",
   "execution_count": 2,
   "metadata": {},
   "outputs": [],
   "source": [
    "import numpy as np"
   ]
  },
  {
   "cell_type": "code",
   "execution_count": 4,
   "metadata": {},
   "outputs": [
    {
     "name": "stdout",
     "output_type": "stream",
     "text": [
      "[[0. 0. 0. 0. 0.]\n",
      " [0. 0. 0. 0. 0.]\n",
      " [0. 0. 0. 0. 0.]\n",
      " [0. 0. 0. 0. 0.]\n",
      " [0. 0. 0. 0. 0.]]\n"
     ]
    }
   ],
   "source": [
    "mat1 = np.zeros([5,5])\n",
    "print(mat1)"
   ]
  },
  {
   "cell_type": "markdown",
   "metadata": {},
   "source": [
    "* Lệnh: >>> `mat2 = np.ones([5,5])`\n",
    "\n",
    "\\begin{equation}\n",
    "    \\text{mat2 =} \n",
    "    \\begin{pmatrix}\n",
    "        1 & 1 & 1 & 1 & 1 \\\\\n",
    "        1 & 1 & 1 & 1 & 1 \\\\\n",
    "        1 & 1 & 1 & 1 & 1 \\\\\n",
    "        1 & 1 & 1 & 1 & 1 \\\\\n",
    "        1 & 1 & 1 & 1 & 1 \\\\\n",
    "    \\end{pmatrix}\n",
    "\\end{equation}"
   ]
  },
  {
   "cell_type": "code",
   "execution_count": 6,
   "metadata": {},
   "outputs": [
    {
     "name": "stdout",
     "output_type": "stream",
     "text": [
      "[[1. 1. 1. 1. 1.]\n",
      " [1. 1. 1. 1. 1.]\n",
      " [1. 1. 1. 1. 1.]\n",
      " [1. 1. 1. 1. 1.]\n",
      " [1. 1. 1. 1. 1.]]\n"
     ]
    }
   ],
   "source": [
    "mat2 = np.ones([5,5])\n",
    "print(mat2)"
   ]
  },
  {
   "cell_type": "markdown",
   "metadata": {},
   "source": [
    "* Lệnh: >>> `mat3 = mat1 + 2* mat2`\n",
    "\n",
    "\\begin{equation}\n",
    "    \\text{mat3 = } \n",
    "    \\begin{pmatrix}\n",
    "        2 & 2 & 2 & 2 & 2\\\\\n",
    "        2 & 2 & 2 & 2 & 2\\\\\n",
    "        2 & 2 & 2 & 2 & 2\\\\\n",
    "        2 & 2 & 2 & 2 & 2\\\\\n",
    "        2 & 2 & 2 & 2 & 2\\\\\n",
    "    \\end{pmatrix}\n",
    "\\end{equation}"
   ]
  },
  {
   "cell_type": "code",
   "execution_count": 8,
   "metadata": {},
   "outputs": [
    {
     "name": "stdout",
     "output_type": "stream",
     "text": [
      "[[2. 2. 2. 2. 2.]\n",
      " [2. 2. 2. 2. 2.]\n",
      " [2. 2. 2. 2. 2.]\n",
      " [2. 2. 2. 2. 2.]\n",
      " [2. 2. 2. 2. 2.]]\n"
     ]
    }
   ],
   "source": [
    "mat3 = mat1 + 2* mat2\n",
    "print(mat3)"
   ]
  },
  {
   "cell_type": "markdown",
   "metadata": {},
   "source": [
    "* Lệnh: >>> `mat4 = mat3`\n",
    "\n",
    "* Lệnh: >>> `mat3[3][2] = 10`\n",
    "\n",
    "\\begin{equation}\n",
    "    \\text{mat3 =}\n",
    "    \\begin{pmatrix}\n",
    "        2 & 2 & 2 & 2 & 2\\\\\n",
    "        2 & 2 & 2 & 2 & 2\\\\\n",
    "        2 & 2 & 2 & 2 & 2\\\\\n",
    "        2 & 2 & 10 & 2 & 2\\\\\n",
    "        2 & 2 & 2 & 2 & 2\\\\\n",
    "    \\end{pmatrix}\n",
    "\\end{equation}\n",
    "\n",
    "\\begin{equation}\n",
    "    \\text{mat4 =} \n",
    "    \\begin{pmatrix}\n",
    "        2 & 2 & 2 & 2 & 2\\\\\n",
    "        2 & 2 & 2 & 2 & 2\\\\\n",
    "        2 & 2 & 2 & 2 & 2\\\\\n",
    "        2 & 2 & 10 & 2 & 2\\\\\n",
    "        2 & 2 & 2 & 2 & 2\\\\\n",
    "    \\end{pmatrix}\n",
    "\\end{equation}\n",
    "\n",
    "&rarr; **mat4 có thay đổi vì mat4 là được gán bằng với mat3**"
   ]
  },
  {
   "cell_type": "code",
   "execution_count": 13,
   "metadata": {},
   "outputs": [
    {
     "name": "stdout",
     "output_type": "stream",
     "text": [
      "[[ 2.  2.  2.  2.  2.]\n",
      " [ 2.  2.  2.  2.  2.]\n",
      " [ 2.  2.  2.  2.  2.]\n",
      " [ 2.  2. 10.  2.  2.]\n",
      " [ 2.  2.  2.  2.  2.]]\n",
      "\n",
      "[[ 2.  2.  2.  2.  2.]\n",
      " [ 2.  2.  2.  2.  2.]\n",
      " [ 2.  2.  2.  2.  2.]\n",
      " [ 2.  2. 10.  2.  2.]\n",
      " [ 2.  2.  2.  2.  2.]]\n"
     ]
    }
   ],
   "source": [
    "mat4 = mat3\n",
    "mat3[3][2] = 10\n",
    "print(mat4, mat3, sep = \"\\n\\n\")"
   ]
  },
  {
   "cell_type": "markdown",
   "metadata": {},
   "source": [
    "* Lệnh: >>> `mat5 = np.copy(mat3)`\n",
    "\n",
    "* Lệnh: >>> `mat3[3][2] = 10`\n",
    "\n",
    "\\begin{equation}\n",
    "    \\text{mat3 =} \n",
    "    \\begin{pmatrix}\n",
    "        2 & 2 & 2 & 2 & 2\\\\\n",
    "        2 & 2 & 2 & 2 & 2\\\\\n",
    "        2 & 2 & 2 & 2 & 2\\\\\n",
    "        2 & 2 & 10 & 2 & 2\\\\\n",
    "        2 & 2 & 2 & 2 & 2\\\\\n",
    "    \\end{pmatrix}\n",
    "\\end{equation}\n",
    "\n",
    "\\begin{equation}\n",
    "    \\text{mat4 =} \n",
    "    \\begin{pmatrix}\n",
    "        2 & 2 & 2 & 2 & 2\\\\\n",
    "        2 & 2 & 2 & 2 & 2\\\\\n",
    "        2 & 2 & 2 & 2 & 2\\\\\n",
    "        2 & 2 & 10 & 2 & 2\\\\\n",
    "        2 & 2 & 2 & 2 & 2\\\\\n",
    "    \\end{pmatrix}\n",
    "\\end{equation}\n",
    "\n",
    "\\begin{equation}\n",
    "    \\text{mat5 =}\n",
    "    \\begin{pmatrix}\n",
    "        2 & 2 & 2 & 2 & 2\\\\\n",
    "        2 & 2 & 2 & 2 & 2\\\\\n",
    "        2 & 2 & 2 & 2 & 2\\\\\n",
    "        2 & 2 & 2 & 2 & 2\\\\\n",
    "        2 & 2 & 2 & 2 & 2\\\\\n",
    "    \\end{pmatrix}\n",
    "\\end{equation}\n",
    "\n",
    "&rarr; **mat3 thay đổi  thì chỉ có mat4 thay đổi còn mat5 không thay đổi. Bởi vì mat5 là một bản sao mới được tạo từ mat3 còn mat4 là được gán bằng với mat3.**"
   ]
  },
  {
   "cell_type": "code",
   "execution_count": 20,
   "metadata": {},
   "outputs": [
    {
     "name": "stdout",
     "output_type": "stream",
     "text": [
      "[[ 2.  2.  2.  2.  2.]\n",
      " [ 2.  2.  2.  2.  2.]\n",
      " [ 2.  2.  2.  2.  2.]\n",
      " [ 2.  2. 10.  2.  2.]\n",
      " [ 2.  2.  2.  2.  2.]]\n",
      "\n",
      "[[ 2.  2.  2.  2.  2.]\n",
      " [ 2.  2.  2.  2.  2.]\n",
      " [ 2.  2.  2.  2.  2.]\n",
      " [ 2.  2. 10.  2.  2.]\n",
      " [ 2.  2.  2.  2.  2.]]\n",
      "\n",
      "[[2. 2. 2. 2. 2.]\n",
      " [2. 2. 2. 2. 2.]\n",
      " [2. 2. 2. 2. 2.]\n",
      " [2. 2. 2. 2. 2.]\n",
      " [2. 2. 2. 2. 2.]]\n"
     ]
    }
   ],
   "source": [
    "# Dua mat3 ve gia tri ban dau\n",
    "mat3[3][2] = 2\n",
    "\n",
    "mat5 = np.copy(mat3)\n",
    "mat3[3][2] = 10\n",
    "print(mat3, mat4, mat5, sep = \"\\n\\n\")"
   ]
  },
  {
   "cell_type": "markdown",
   "metadata": {},
   "source": [
    "* Lệnh: >>> `mat6 = np.empty([4, 5])`\n",
    "\n",
    "\\begin{equation}\n",
    "    \\text{mat6 =} \n",
    "    \\begin{pmatrix}\n",
    "    9.01096911e-312 & 5.68175493e-322 & 0.00000000e+000 & 0.00000000e+000 &  9.34598924e-30\\\\]     [1.16095484e-0 & 8 2.87926253e-0 & 4 9.10434209e+2 &76 4.07177685e+2 & \n",
    "  1.29541836e+\\\\3    \n",
    " [1.17688986e &+136 6.74421134e &+217 3.99255467e &+252 1.00443548e & 5\n",
    "  5.90148570\\\\+    5]\n",
    " [1.7653915 &6e+137 8.9316868 &9e+271 4.9813153 &6e+151 1.9492067 & 153\n",
    "  3.242499\\\\e-086]]\n",
    "    \\end{pmatrix}\n",
    "\\end{equation}"
   ]
  },
  {
   "cell_type": "code",
   "execution_count": 22,
   "metadata": {},
   "outputs": [
    {
     "name": "stdout",
     "output_type": "stream",
     "text": [
      "[[9.01096911e-312 5.68175493e-322 0.00000000e+000 0.00000000e+000\n",
      "  9.34598924e-307]\n",
      " [1.16095484e-028 2.87926253e-014 9.10434209e+276 4.07177685e+223\n",
      "  1.29541836e+132]\n",
      " [1.17688986e+136 6.74421134e+217 3.99255467e+252 1.00443548e-095\n",
      "  5.90148570e+135]\n",
      " [1.76539156e+137 8.93168689e+271 4.98131536e+151 1.94920670e-153\n",
      "  3.24249977e-086]]\n"
     ]
    }
   ],
   "source": [
    "mat6 = np.empty([4, 5])\n",
    "print(mat6)"
   ]
  },
  {
   "cell_type": "markdown",
   "metadata": {},
   "source": [
    "* Lệnh: >>> `mat7 = np.identity(4)`\n",
    "\n",
    "  \\begin{equation}\n",
    "    \\text{mat7 =} \n",
    "    \\begin{pmatrix}\n",
    "      1 & 0 & 0 & 0\\\\\n",
    "      0 & 1 & 0 & 0\\\\\n",
    "      0 & 0 & 1 & 0\\\\\n",
    "      0 & 0 & 0 & 1\\\\\n",
    "    \\end{pmatrix}\n",
    "\\end{equation}"
   ]
  },
  {
   "cell_type": "code",
   "execution_count": 24,
   "metadata": {},
   "outputs": [
    {
     "name": "stdout",
     "output_type": "stream",
     "text": [
      "[[1. 0. 0. 0.]\n",
      " [0. 1. 0. 0.]\n",
      " [0. 0. 1. 0.]\n",
      " [0. 0. 0. 1.]]\n"
     ]
    }
   ],
   "source": [
    "mat7 = np.identity(4)\n",
    "print(mat7)"
   ]
  },
  {
   "cell_type": "markdown",
   "metadata": {},
   "source": [
    "* Lệnh: >>> `mat8 = np.random.random([4,5])`\n",
    "\n",
    "\n",
    "\\begin{equation}\n",
    "    \\text{mat8 =} \n",
    "    \\begin{pmatrix}\n",
    "        0.39028529 & 0.75540465 & 0.01568219 & 0.29453656 & 0.91118005\\\\\n",
    "        0.03844021 & 0.51781229 & 0.97992382 & 0.12070719 & 0.35404779\\\\\n",
    "        0.07206803 & 0.84809791 & 0.49324525 & 0.92903231 & 0.81489341\\\\\n",
    "        0.78460077 & 0.44073672 & 0.24756567 & 0.11936058 & 0.7039666\\\\\n",
    "    \\end{pmatrix}\n",
    "\\end{equation}"
   ]
  },
  {
   "cell_type": "code",
   "execution_count": 28,
   "metadata": {},
   "outputs": [
    {
     "ename": "AttributeError",
     "evalue": "module 'numpy' has no attribute 'rand'",
     "output_type": "error",
     "traceback": [
      "\u001b[1;31m---------------------------------------------------------------------------\u001b[0m",
      "\u001b[1;31mAttributeError\u001b[0m                            Traceback (most recent call last)",
      "Cell \u001b[1;32mIn[28], line 1\u001b[0m\n\u001b[1;32m----> 1\u001b[0m mat8 \u001b[38;5;241m=\u001b[39m \u001b[43mnp\u001b[49m\u001b[38;5;241;43m.\u001b[39;49m\u001b[43mrand\u001b[49m([\u001b[38;5;241m4\u001b[39m,\u001b[38;5;241m5\u001b[39m])\n\u001b[0;32m      2\u001b[0m \u001b[38;5;28mprint\u001b[39m(mat8)\n",
      "File \u001b[1;32m~\\AppData\\Local\\Programs\\Python\\Python312\\Lib\\site-packages\\numpy\\__init__.py:347\u001b[0m, in \u001b[0;36m__getattr__\u001b[1;34m(attr)\u001b[0m\n\u001b[0;32m    344\u001b[0m     \u001b[38;5;124m\"\u001b[39m\u001b[38;5;124mRemoved in NumPy 1.25.0\u001b[39m\u001b[38;5;124m\"\u001b[39m\n\u001b[0;32m    345\u001b[0m     \u001b[38;5;28;01mraise\u001b[39;00m \u001b[38;5;167;01mRuntimeError\u001b[39;00m(\u001b[38;5;124m\"\u001b[39m\u001b[38;5;124mTester was removed in NumPy 1.25.\u001b[39m\u001b[38;5;124m\"\u001b[39m)\n\u001b[1;32m--> 347\u001b[0m \u001b[38;5;28;01mraise\u001b[39;00m \u001b[38;5;167;01mAttributeError\u001b[39;00m(\u001b[38;5;124m\"\u001b[39m\u001b[38;5;124mmodule \u001b[39m\u001b[38;5;132;01m{!r}\u001b[39;00m\u001b[38;5;124m has no attribute \u001b[39m\u001b[38;5;124m\"\u001b[39m\n\u001b[0;32m    348\u001b[0m                      \u001b[38;5;124m\"\u001b[39m\u001b[38;5;132;01m{!r}\u001b[39;00m\u001b[38;5;124m\"\u001b[39m\u001b[38;5;241m.\u001b[39mformat(\u001b[38;5;18m__name__\u001b[39m, attr))\n",
      "\u001b[1;31mAttributeError\u001b[0m: module 'numpy' has no attribute 'rand'"
     ]
    }
   ],
   "source": [
    "mat8 = np.rand([4,5])\n",
    "print(mat8)"
   ]
  },
  {
   "cell_type": "code",
   "execution_count": 3,
   "metadata": {},
   "outputs": [
    {
     "name": "stdout",
     "output_type": "stream",
     "text": [
      "[[0.39028529 0.75540465 0.01568219 0.29453656 0.91118005]\n",
      " [0.03844021 0.51781229 0.97992382 0.12070719 0.35404779]\n",
      " [0.07206803 0.84809791 0.49324525 0.92903231 0.81489341]\n",
      " [0.78460077 0.44073672 0.24756567 0.11936058 0.7039666 ]]\n"
     ]
    }
   ],
   "source": [
    "# mat8 = np.rand([4,5])\n",
    "mat8 = np.random.random([4,5])\n",
    "print(mat8)"
   ]
  },
  {
   "cell_type": "markdown",
   "metadata": {},
   "source": [
    "## 2. Bài tập về nhà"
   ]
  },
  {
   "cell_type": "markdown",
   "metadata": {},
   "source": [
    "### Bài 1. Điểm môn học của một nhóm SV được cho như bên dưới:\n",
    "\n",
    "| Sinh Viên| BT cá nhân | Báo cáo | Giữa kỳ | Cuối Kỳ |\n",
    "|:--------:|:----------:|:-------:|:-------:|:-------:|\n",
    "|     A    |      7     |    8    |    9    |    5    |\n",
    "|     B    |      8     |    7    |    4    |    6    |\n",
    "|     C    |      7     |    5    |    8    |    6    |\n",
    "|     D    |      6     |    8    |    5    |    4    |\n",
    "|     E    |      9     |    9    |    8    |    7    |\n",
    "|     F    |     10     |    8    |    9    |    8    |\n",
    "\n",
    "**Tỷ lệ % điểm:**\n",
    "\n",
    "| BT cá nhân | 10% |\n",
    "|:---:|:---:|\n",
    "| Báo cáo    | 20% |\n",
    "| Giữ kỳ     | 30% |\n",
    "| Cuối kỳ    | 40% |\n"
   ]
  },
  {
   "cell_type": "code",
   "execution_count": 2,
   "metadata": {},
   "outputs": [
    {
     "name": "stdout",
     "output_type": "stream",
     "text": [
      "Sinh viên A có điểm là 7.0 và có kết quả: Đạt\n",
      "Sinh viên B có điểm là 5.8 và có kết quả: Đạt\n",
      "Sinh viên C có điểm là 6.5 và có kết quả: Đạt\n",
      "Sinh viên D có điểm là 5.3 và có kết quả: Đạt\n",
      "Sinh viên E có điểm là 7.9 và có kết quả: Đạt\n",
      "Sinh viên F có điểm là 8.5 và có kết quả: Đạt\n"
     ]
    }
   ],
   "source": [
    "import numpy as np\n",
    "\n",
    "def diemTrungBinh(a, b, c, d):\n",
    "     return a * 0.1 + b * 0.2 + c * 0.3 + d * 0.4\n",
    "\n",
    "diemSinhVien = np.array([[7, 8, 9, 5],\n",
    "                        [8, 7, 4, 6],\n",
    "                        [7, 5, 8, 6],\n",
    "                        [6, 8, 5, 4],\n",
    "                        [9, 9, 8, 7],\n",
    "                        [10, 8, 9, 8]])\n",
    "\n",
    "tenSinhVien = np.array(['A', 'B', 'C', 'D', 'E', 'F'])\n",
    "\n",
    "for i in range(6):\n",
    "    res = diemTrungBinh(*diemSinhVien[i])\n",
    "    if res >= 5.0:\n",
    "        print(f\"Sinh viên {tenSinhVien[i]} có điểm là {round(res, 3)} và có kết quả: Đạt\")\n",
    "    else:\n",
    "        print(f\"Sinh viên {tenSinhVien[i]} có điểm là {round(res, 3)} và có kết quả: Không Đạt\")"
   ]
  },
  {
   "cell_type": "markdown",
   "metadata": {},
   "source": [
    "### Bài 2:\n",
    "Sinh ngẫu nhiên ra 2 ma trận kích thước 3 x 3 và có các phần từ nguyên từ 0 đến 10\n",
    "\n",
    "a) Tính tổng phần tử của mỗi ma trận\n",
    "\n",
    "b) So sánh norm của vector hàng 1 và vector hàng 3 của hai ma trận\n",
    "\n",
    "c) Tìm ma trận C, D, E là tổng, hiệu, tích, của hai ma trận trên\n",
    "\n",
    "gợi ý: sử dụng lệnh np.randoom.radint(?, size = (?, ?))"
   ]
  },
  {
   "cell_type": "code",
   "execution_count": 32,
   "metadata": {},
   "outputs": [
    {
     "name": "stdout",
     "output_type": "stream",
     "text": [
      "[[8 9 2]\n",
      " [3 5 8]\n",
      " [2 4 2]]\n",
      "\n",
      "[[4 4 7]\n",
      " [5 9 9]\n",
      " [0 7 9]]\n"
     ]
    }
   ],
   "source": [
    "mat1 = np.random.randint(0,10,size=(3,3))\n",
    "mat2 = np.random.randint(0,10,size=(3,3))\n",
    "print(matrix1)\n",
    "print()\n",
    "print(matrix2)"
   ]
  },
  {
   "cell_type": "code",
   "execution_count": 33,
   "metadata": {},
   "outputs": [
    {
     "name": "stdout",
     "output_type": "stream",
     "text": [
      "tong cua cac phan tu trong matrix1 la: 36\n",
      "tong cua cac phan tu trong matrix2 la: 42\n"
     ]
    }
   ],
   "source": [
    "#a) tính tổng các phần tử của mỗi ma trận\n",
    "def sumMatrix(list):\n",
    "    tong = 0\n",
    "    for i in list:\n",
    "        tong += i\n",
    "    return sum(tong)\n",
    "sum1= summatrix(mat1)\n",
    "sum2= summatrix(mat2)\n",
    "print(f\"tong cua cac phan tu trong matrix1 la: {sum1}\")\n",
    "print(f\"tong cua cac phan tu trong matrix2 la: {sum2}\")"
   ]
  },
  {
   "cell_type": "code",
   "execution_count": 34,
   "metadata": {},
   "outputs": [
    {
     "name": "stdout",
     "output_type": "stream",
     "text": [
      "norm cua vector hang 1 cua matrix1 la: 12.206555615733702\n",
      "norm cua vector hang 3 cua matrix1 la: 4.898979485566356\n",
      "norm cua vector hang 1 cua matrix2 la: 9.0\n",
      "norm cua vector hang 3 cua matrix2 la: 11.40175425099138\n",
      "Ket qua so sanh cua mat1\n",
      "norm cua vector hang 1 lon hon norm cua vector hang 3\n",
      "Ket qua so sanh cua mat2\n",
      "norm cua vector hang 1 nho hon norm cua vector hang 3\n"
     ]
    }
   ],
   "source": [
    "#b) So sánh norm của vector hàng 1 và vector hàng 3 của hai ma trận\n",
    "normRow_11 = np.linalg.norm(matrix1[0])\n",
    "normRow_13 = np.linalg.norm(matrix1[2])\n",
    "normRow_21 = np.linalg.norm(matrix2[0])\n",
    "normRow_23 = np.linalg.norm(matrix2[2])\n",
    "print(f\"norm cua vector hang 1 cua matrix1 la: {normRow_11}\")\n",
    "print(f\"norm cua vector hang 3 cua matrix1 la: {normRow_13}\")\n",
    "print(f\"norm cua vector hang 1 cua matrix2 la: {normRow_21}\")\n",
    "print(f\"norm cua vector hang 3 cua matrix2 la: {normRow_23}\")\n",
    "# Ham so sanh\n",
    "def compare(a,b):\n",
    "    if a > b:\n",
    "        print(\"norm cua vector hang 1 lon hon norm cua vector hang 3\")\n",
    "    elif a == b:\n",
    "        print(\"norm cua vector hang 1 bang norm cua vector hang 3\")\n",
    "    elif a < b:\n",
    "        print(\"norm cua vector hang 1 nho hon norm cua vector hang 3\")\n",
    "\n",
    "print(\"Ket qua so sanh cua mat1\")\n",
    "compare(normRow_11,normRow_13)\n",
    "print(\"Ket qua so sanh cua mat2\")\n",
    "compare(normRow_21,normRow_23)"
   ]
  },
  {
   "cell_type": "code",
   "execution_count": 47,
   "metadata": {},
   "outputs": [
    {
     "name": "stdout",
     "output_type": "stream",
     "text": [
      "Tong cua matrix1 va matrix2 la:\n",
      "[[10 16 10]\n",
      " [12 10 10]\n",
      " [ 2  5  3]]\n",
      "Hieu cua matrix1 va matrix2 la:\n",
      "[[-4  0 -6]\n",
      " [ 2  4 -4]\n",
      " [ 0  3 -1]]\n",
      "Tich cua matrix1 va matrix2 la:\n",
      "[[ 63  50  84]\n",
      " [ 87  80 111]\n",
      " [ 28  21  38]]\n"
     ]
    }
   ],
   "source": [
    "#c) Tìm ma trận C, D, E là tổng, hiệu, tích, của hai ma trận trên\n",
    "print(f\"Tong cua matrix1 va matrix2 la:\")\n",
    "print(mat1+mat2)\n",
    "print(f\"Hieu cua matrix1 va matrix2 la:\")\n",
    "print(mat1-mat2)\n",
    "print(f\"Tich cua matrix1 va matrix2 la:\")\n",
    "print(mat1.dot(mat2))"
   ]
  },
  {
   "cell_type": "markdown",
   "metadata": {},
   "source": [
    "### Bài Tập 3 Hãy dùng lệnh để sinh ra vector độ dài 21 với các phần tử từ a đến b nào đó. Chẳng hạn: \n",
    "\n",
    "a = 0, b = 100 hoặc a = 10.5, b = 50.\n",
    "\n",
    "a) Dùng lệnh split, chia nhỏ vector kia ra thành 3 vector con, đặt là u, v, w.\n",
    "\n",
    "b) Tính u*v và v.dot(w)\n",
    "\n",
    "c) Tính shape của u trước và sau khi transpose, nhận xét.\n",
    "\n",
    "*Gợi ý: lệnh np.linspace(a, b, c) với a, b là các số thực và c là số nguyên dương cho biết \n",
    "số phần tử cách đều nhau trong [a;b]*"
   ]
  },
  {
   "cell_type": "code",
   "execution_count": 3,
   "metadata": {},
   "outputs": [
    {
     "name": "stdout",
     "output_type": "stream",
     "text": [
      "[ 10.5    14.975  19.45   23.925  28.4    32.875  37.35   41.825  46.3\n",
      "  50.775  55.25   59.725  64.2    68.675  73.15   77.625  82.1    86.575\n",
      "  91.05   95.525 100.   ]\n"
     ]
    }
   ],
   "source": [
    "vector = np.linspace(10.5,100,21)\n",
    "print(vector)"
   ]
  },
  {
   "cell_type": "code",
   "execution_count": 4,
   "metadata": {},
   "outputs": [
    {
     "name": "stdout",
     "output_type": "stream",
     "text": [
      "[10.5   14.975 19.45  23.925 28.4   32.875 37.35 ]\n",
      "[41.825 46.3   50.775 55.25  59.725 64.2   68.675]\n",
      "[ 73.15   77.625  82.1    86.575  91.05   95.525 100.   ]\n"
     ]
    }
   ],
   "source": [
    "#a) Dùng lệnh split, chia nhỏ vector kia ra thành 3 vector con, đặt là u, v, w.\n",
    "u , v, w = np.split(vector,[7,14])\n",
    "print(u)\n",
    "print(v)\n",
    "print(w)"
   ]
  },
  {
   "cell_type": "code",
   "execution_count": 5,
   "metadata": {},
   "outputs": [
    {
     "name": "stdout",
     "output_type": "stream",
     "text": [
      "Ket qua cua u*v la: \n",
      "[ 439.1625   693.3425   987.57375 1321.85625 1696.19    2110.575\n",
      " 2565.01125]\n",
      "Ket qua cua v.dot(w) la: \n",
      "34043.59874999999\n"
     ]
    }
   ],
   "source": [
    "#b) Tính u*v và v.dot(w)\n",
    "print(\"Ket qua cua u*v la: \")\n",
    "print(u*v)\n",
    "print(\"Ket qua cua v.dot(w) la: \")\n",
    "print(v.dot(w))"
   ]
  },
  {
   "cell_type": "code",
   "execution_count": 6,
   "metadata": {},
   "outputs": [
    {
     "name": "stdout",
     "output_type": "stream",
     "text": [
      "Shape cua u truoc khi transpose la:  (7,)\n",
      "Shape cua u sau khi transpose la:  (7, 1)\n"
     ]
    },
    {
     "data": {
      "text/plain": [
       "'Trước khi transpose, vector có kích thước (7,) tượng trưng cho vector hàng với 7 phần tử. Sau khi transpose, vector có kích thước (7, 1) biểu thị vector cột với 7 hàng và 1 cột.'"
      ]
     },
     "execution_count": 6,
     "metadata": {},
     "output_type": "execute_result"
    }
   ],
   "source": [
    "#c)Tính shape của u trước và sau khi transpose, nhận xét.\n",
    "print(\"Shape cua u truoc khi transpose la: \",u.shape)\n",
    "u1 = u.reshape((u.shape[0], 1))\n",
    "print(\"Shape cua u sau khi transpose la: \",u1.shape)\n",
    "'''Trước khi transpose, vector có kích thước (7,) tượng trưng cho vector hàng với 7 phần tử. Sau khi transpose, vector có kích thước (7, 1) biểu thị vector cột với 7 hàng và 1 cột.'''"
   ]
  },
  {
   "cell_type": "code",
   "execution_count": 8,
   "metadata": {},
   "outputs": [
    {
     "name": "stdout",
     "output_type": "stream",
     "text": [
      "[(2, 'ToanCC', 10), (3, 'DSTT', 9), (4, 'ToanRR', 8), (1, 'LaptrinhCB', 7)]\n"
     ]
    }
   ],
   "source": [
    "mon_hoc = [\"ToanCC\", \"DSTT\", \"ToanRR\", \"LaptrinhCB\"]\n",
    "thu_tu = [2, 3, 4, 1]\n",
    "diem_so = [10, 9, 8, 7]\n",
    "anh_xa = zip(thu_tu, mon_hoc, diem_so)\n",
    "print(list(anh_xa))"
   ]
  },
  {
   "cell_type": "markdown",
   "metadata": {},
   "source": [
    "\\begin{split}\\mathbf{A}=\\begin{bmatrix} a_{11} & a_{12} & \\cdots & a_{1n} \\ a_{21} & a_{22} & \\cdots & a_{2n} \\ \\vdots & \\vdots & \\ddots & \\vdots \\ a_{m1} & a_{m2} & \\cdots & a_{mn} \\ \\end{bmatrix}.\\end{split}"
   ]
  }
 ],
 "metadata": {
  "kernelspec": {
   "display_name": "Python 3 (ipykernel)",
   "language": "python",
   "name": "python3"
  },
  "language_info": {
   "codemirror_mode": {
    "name": "ipython",
    "version": 3
   },
   "file_extension": ".py",
   "mimetype": "text/x-python",
   "name": "python",
   "nbconvert_exporter": "python",
   "pygments_lexer": "ipython3",
   "version": "3.11.7"
  }
 },
 "nbformat": 4,
 "nbformat_minor": 4
}

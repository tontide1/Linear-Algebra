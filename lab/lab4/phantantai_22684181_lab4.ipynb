{
 "cells": [
  {
   "cell_type": "markdown",
   "metadata": {},
   "source": [
    "### Câu 1: Hãy viết chương trình để tính các ma trận:\n",
    "\n",
    "a. Ma trận hệ số kép (confactor matrix)\n",
    "\n",
    "b. Ma trận liên hợp (adjoint matrix)\n",
    "\n",
    "-> Từ một ma trận $A$ $n\\times n$ cho trước"
   ]
  },
  {
   "cell_type": "code",
   "execution_count": 16,
   "metadata": {},
   "outputs": [],
   "source": [
    "import numpy as np"
   ]
  },
  {
   "cell_type": "code",
   "execution_count": 11,
   "metadata": {},
   "outputs": [
    {
     "name": "stdout",
     "output_type": "stream",
     "text": [
      "ma tran ban dau:\n",
      "[[1 2]\n",
      " [3 4]]\n",
      "\n",
      "ma tran he so kep:\n",
      "[[4, -3], [-2, 1]]\n"
     ]
    }
   ],
   "source": [
    "#a)\n",
    "def dele(matrix, row, col):\n",
    "    return np.delete(np.delete(matrix, row, axis=0), col, axis=1)\n",
    "\n",
    "def det_matrix(matrix):\n",
    "    if len(matrix) == 1:\n",
    "        return matrix[0][0]\n",
    "    elif len(matrix) == 2:\n",
    "        return matrix[0][0]*matrix[1][1] - matrix[0][1]*matrix[1][0]\n",
    "    else:\n",
    "        det = 0\n",
    "        for i in range(len(matrix)):\n",
    "            sign = (-1) ** i\n",
    "            det += sign * matrix[0][i] * det_matrix(dele(matrix, 0, i))\n",
    "        return det\n",
    "\n",
    "# ma tran he so kep\n",
    "def cofactor_matrix(matrix):\n",
    "    size = len(matrix)\n",
    "    cofactor_mat = []\n",
    "    for i in range(size):\n",
    "        row = []\n",
    "        for j in range(size):\n",
    "            sign = (-1) ** (i + j)\n",
    "            minor_det = det_matrix(dele(matrix, i, j))\n",
    "            row.append(sign * minor_det)\n",
    "        cofactor_mat.append(row)\n",
    "    return cofactor_mat\n",
    "\n",
    "\n",
    "matrix = np.array([[1, 2],\n",
    "            [3, 4]])\n",
    "\n",
    "print(\"ma tran ban dau:\")\n",
    "print(matrix)\n",
    "\n",
    "print(\"\\nma tran he so kep:\")\n",
    "cofactor_mat = cofactor_matrix(matrix)\n",
    "\n",
    "print(cofactor_mat)\n"
   ]
  },
  {
   "cell_type": "code",
   "execution_count": 14,
   "metadata": {},
   "outputs": [
    {
     "name": "stdout",
     "output_type": "stream",
     "text": [
      "[[ 4 -2]\n",
      " [-3  1]]\n"
     ]
    }
   ],
   "source": [
    "#b)\n",
    "adjoint_mat = np.transpose(cofactor_mat)\n",
    "print(adjoint_mat)"
   ]
  },
  {
   "cell_type": "markdown",
   "metadata": {},
   "source": [
    "### Câu 2: Hãy xây dựng ma trận tĩnh quỹ đạo của một vật thể xoay theo quý đạo đường trờn\n",
    "\n",
    "Viết minh họa bằng một chương trình sử dụng gói Sympy (sinh viên tự viết) để tìm các phương trình từ các điểm biết được của đường tròn.\n",
    "\n",
    "\\begin{bmatrix}\n",
    "x^2 + y^2 & x & y & 1\\\\\n",
    "x_1^2 + y_1^2 & x_1 & y_1 & 1\\\\\n",
    "x_2^2 + y_2^2 & x_2 & y_2 & 1\\\\\n",
    "x_3^2 + y_3^2 & x_3 & y_3 & 1\\\\\n",
    "\\end{bmatrix}"
   ]
  },
  {
   "cell_type": "code",
   "execution_count": 7,
   "metadata": {},
   "outputs": [
    {
     "name": "stdout",
     "output_type": "stream",
     "text": [
      "64*x**2 - 544*x + 64*y**2 - 768*y + 1760\n"
     ]
    }
   ],
   "source": [
    "import sympy as sp\n",
    "\n",
    "def phuong_trinh(diem):\n",
    "    x, y = sp.symbols('x,y')\n",
    "    \n",
    "    x1, y1 = diem[0]\n",
    "    x2, y2 = diem[1]\n",
    "    x3, y3 = diem[2]\n",
    "    \n",
    "    maTran = sp.Matrix([[x**2 + y**2, x, y, 1],\n",
    "                        [x1**2 + y1**2, x1, y1, 1],\n",
    "                        [x2**2 + y2**2, x2, y2, 1],\n",
    "                        [x3**2 + y3**2, x3, y3, 1]])\n",
    "    \n",
    "    det_maTran = maTran.det()\n",
    "    \n",
    "    return det_maTran\n",
    "\n",
    "diem = [(1,2), (9, 8), (1, 10)]\n",
    "\n",
    "print(phuong_trinh(diem))    "
   ]
  }
 ],
 "metadata": {
  "kernelspec": {
   "display_name": "Python 3",
   "language": "python",
   "name": "python3"
  },
  "language_info": {
   "codemirror_mode": {
    "name": "ipython",
    "version": 3
   },
   "file_extension": ".py",
   "mimetype": "text/x-python",
   "name": "python",
   "nbconvert_exporter": "python",
   "pygments_lexer": "ipython3",
   "version": "3.11.7"
  }
 },
 "nbformat": 4,
 "nbformat_minor": 2
}

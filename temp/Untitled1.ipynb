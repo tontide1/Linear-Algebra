{
 "cells": [
  {
   "cell_type": "markdown",
   "id": "49c6eba5-1806-4222-bba8-011bd47f9faf",
   "metadata": {},
   "source": [
    "# BÀI TẬP CHƯƠNG 3"
   ]
  },
  {
   "cell_type": "markdown",
   "id": "b9e56fec-efcf-4e21-a4ad-ce6215235ead",
   "metadata": {},
   "source": [
    "## Câu 1: Viết ba thu hoạch (làm từng bước như bài toán ứng dụng 1) về nội dung:"
   ]
  },
  {
   "cell_type": "code",
   "execution_count": 2,
   "id": "bf978acd-fc33-448d-a015-36a91f4dffad",
   "metadata": {},
   "outputs": [],
   "source": [
    "import numpy as np\n",
    "import sympy as sp"
   ]
  },
  {
   "cell_type": "code",
   "execution_count": null,
   "id": "d189b563-8de8-4243-a2ba-de67b4512dd8",
   "metadata": {},
   "outputs": [],
   "source": [
    "a = np.array([1, 2, 3])\n"
   ]
  },
  {
   "cell_type": "code",
   "execution_count": 3,
   "id": "2812b085-fdea-4f7d-bd09-08520f241e1a",
   "metadata": {},
   "outputs": [
    {
     "ename": "NameError",
     "evalue": "name 'b' is not defined",
     "output_type": "error",
     "traceback": [
      "\u001b[1;31m---------------------------------------------------------------------------\u001b[0m",
      "\u001b[1;31mNameError\u001b[0m                                 Traceback (most recent call last)",
      "Cell \u001b[1;32mIn[3], line 2\u001b[0m\n\u001b[0;32m      1\u001b[0m A \u001b[38;5;241m=\u001b[39m np\u001b[38;5;241m.\u001b[39mmatrix(np\u001b[38;5;241m.\u001b[39mrandom\u001b[38;5;241m.\u001b[39mrandom( (\u001b[38;5;241m2\u001b[39m,\u001b[38;5;241m2\u001b[39m) ) )\n\u001b[1;32m----> 2\u001b[0m B \u001b[38;5;241m=\u001b[39m np\u001b[38;5;241m.\u001b[39masmatrix(\u001b[43mb\u001b[49m)\n\u001b[0;32m      3\u001b[0m C \u001b[38;5;241m=\u001b[39m np\u001b[38;5;241m.\u001b[39mmat(np\u001b[38;5;241m.\u001b[39mrandom\u001b[38;5;241m.\u001b[39mrandom( (\u001b[38;5;241m10\u001b[39m,\u001b[38;5;241m5\u001b[39m) ) )\n\u001b[0;32m      4\u001b[0m D \u001b[38;5;241m=\u001b[39m np\u001b[38;5;241m.\u001b[39mmat([ [\u001b[38;5;241m4\u001b[39m, \u001b[38;5;241m3\u001b[39m], [\u001b[38;5;241m2\u001b[39m, \u001b[38;5;241m6\u001b[39m] ])\n",
      "\u001b[1;31mNameError\u001b[0m: name 'b' is not defined"
     ]
    }
   ],
   "source": [
    "A = np.matrix(np.random.random( (2,2) ) )\n",
    "B = np.asmatrix(b)\n",
    "C = np.mat(np.random.random( (10,5) ) )\n",
    "D = np.mat([ [4, 3], [2, 6] ])\n",
    "F = np.eye(3, k=1)"
   ]
  }
 ],
 "metadata": {
  "kernelspec": {
   "display_name": "Python 3 (ipykernel)",
   "language": "python",
   "name": "python3"
  },
  "language_info": {
   "codemirror_mode": {
    "name": "ipython",
    "version": 3
   },
   "file_extension": ".py",
   "mimetype": "text/x-python",
   "name": "python",
   "nbconvert_exporter": "python",
   "pygments_lexer": "ipython3",
   "version": "3.11.7"
  }
 },
 "nbformat": 4,
 "nbformat_minor": 5
}

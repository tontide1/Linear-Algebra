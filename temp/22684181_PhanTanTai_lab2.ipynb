{
 "cells": [
  {
   "cell_type": "markdown",
   "metadata": {},
   "source": [
    "## Bài tập 2"
   ]
  },
  {
   "cell_type": "markdown",
   "metadata": {},
   "source": [
    "Câu 1: Hãy sử dụng numpy để giải các phương trình sau:\n",
    "\n",
    "- Vấn đề 1 (Problem 1): Tìm điểm giao giữa hai đường thẳng trong $\\mathbb{R}^2$.\n",
    "\n",
    "- Vấn đề 2 (Problem 2): Tìm giao điểm giữa ba mặt phẳng trong $\\mathbb{R}^3$.\n",
    "\n",
    "- Vấn đề 3 (Problem 3): Tìm các hệ số đa thức để đa thức thỏa các nghiệm.\n",
    "\n",
    "- Vấn đề 4 (Problem 4)Tìm các hệ đa thức khi phân rã để tính tích phân.\n",
    "\n"
   ]
  },
  {
   "cell_type": "code",
   "execution_count": 2,
   "metadata": {},
   "outputs": [],
   "source": [
    "import numpy as np "
   ]
  },
  {
   "cell_type": "markdown",
   "metadata": {},
   "source": [
    "**vấn đề 1:** Tìm điểm giao giữa hai đường thẳng trong  $\\mathbb{R}^{2} $.\n",
    "$$ \\begin{align*}\n",
    "\\begin{cases}\n",
    "x -y &=-2 \\\\ \n",
    "2x + 3y &=6 \n",
    "\\end{cases}\n",
    "\\end{align*} $$\n",
    "\n",
    " "
   ]
  },
  {
   "cell_type": "code",
   "execution_count": 6,
   "metadata": {},
   "outputs": [
    {
     "name": "stdout",
     "output_type": "stream",
     "text": [
      "[0. 2.]\n"
     ]
    }
   ],
   "source": [
    "A = np.array ([[1,-1],[2,3]])\n",
    "B= np.array ([-2,6])\n",
    "x = np.linalg.solve(A,B)\n",
    "print (x)"
   ]
  },
  {
   "cell_type": "markdown",
   "metadata": {},
   "source": [
    "=> vậy X = (0,2)"
   ]
  },
  {
   "cell_type": "markdown",
   "metadata": {},
   "source": [
    "**vấn đề 2:** Tìm giao điểm giữa ba mặt phẳng trong $\\mathbb{R}^{3} $\n",
    "\n",
    "$$ \\begin {align*}\n",
    "\\begin {cases}\n",
    "x - y & =2 \\\\\n",
    "2x - y - z & = 3\\\\\n",
    "x + y + z & 6\n",
    "\\end {cases}\n",
    "\\end {align*} $$"
   ]
  },
  {
   "cell_type": "code",
   "execution_count": 7,
   "metadata": {},
   "outputs": [
    {
     "name": "stdout",
     "output_type": "stream",
     "text": [
      "[3. 1. 2.]\n"
     ]
    }
   ],
   "source": [
    "a = np.array ([[1,-1,0],[2,-1,-1],[1,1,1]])\n",
    "b = np.array([2,3,6])\n",
    "c = np.linalg.solve(a,b)\n",
    "print(c)\n"
   ]
  },
  {
   "cell_type": "markdown",
   "metadata": {},
   "source": [
    "=> KQ : 3 , 1 ,2"
   ]
  },
  {
   "cell_type": "markdown",
   "metadata": {},
   "source": [
    "**VẤN ĐỀ 3** tìm các hệ thức để đa thức thoả các nghiệm\n",
    "$$ \\begin {align*}\n",
    "\\begin {cases}\n",
    "a + b + c & = 4\\\\\n",
    "4a + 2b + c & = 3 \\\\\n",
    "9a + 3b + c & = 4 \n",
    "\\end {cases}\n",
    "\\end {align*}$$"
   ]
  },
  {
   "cell_type": "code",
   "execution_count": 3,
   "metadata": {},
   "outputs": [
    {
     "name": "stdout",
     "output_type": "stream",
     "text": [
      "[[ 1.]\n",
      " [-4.]\n",
      " [ 7.]]\n"
     ]
    }
   ],
   "source": [
    "A = np.matrix([[1,1,1],[4,2,1],[9,3,1]])\n",
    "b = np.matrix([[4],[3],[4]])\n",
    "x =np.linalg.solve(A,b)\n",
    "print(x)"
   ]
  },
  {
   "cell_type": "markdown",
   "metadata": {},
   "source": [
    "=> Vậy hệ số đa thức thoả mãn các nghiệm: 1,-4,7"
   ]
  },
  {
   "cell_type": "markdown",
   "metadata": {},
   "source": [
    "**vấn đề 4** Tìm các hệ đa thức khi phân rã để tính tích phân\n",
    "$$ \\int_{0}^{1} \\frac{x(x-3)}{(x-1)^{2}(x+2)} dx $$\n"
   ]
  },
  {
   "cell_type": "code",
   "execution_count": 8,
   "metadata": {},
   "outputs": [
    {
     "name": "stdout",
     "output_type": "stream",
     "text": [
      "[[-0.11111111]\n",
      " [-0.66666667]\n",
      " [ 1.11111111]]\n"
     ]
    }
   ],
   "source": [
    "import numpy as np\n",
    "from fractions import Fraction as f\n",
    "\n",
    "A = np.matrix([[1, 0, 1], [1, 1, -2], [-2, 2, 1]])\n",
    "b = np.matrix([[1], [-3], [0]])\n",
    "\n",
    "x = np.linalg.solve(A, b)\n",
    "\n",
    "\n",
    "\n",
    "print(x)\n"
   ]
  },
  {
   "cell_type": "markdown",
   "metadata": {},
   "source": [
    "KQ: $\\text{R(x)}=\\frac{-1}{9(x-1)}+\\frac{-2}{3(x-1)^2}+\\frac{10}{9(x+2)}$"
   ]
  },
  {
   "cell_type": "markdown",
   "metadata": {},
   "source": [
    "# **CÂU 2**  \n",
    "*Viết các câu lệnh của Sympy để giải các phương trình ở Câu 1*"
   ]
  },
  {
   "cell_type": "code",
   "execution_count": 10,
   "metadata": {},
   "outputs": [],
   "source": [
    "import sympy as sp "
   ]
  },
  {
   "cell_type": "markdown",
   "metadata": {},
   "source": [
    "**vấn đề 1.** Tìm điểm giao giữa hai đường thẳng trong  $\\mathbb{R}^2$\n",
    "\n",
    "$$ \\begin {align*}\n",
    "\\begin {cases}\n",
    "x & - & y & = & -2 \\\\\n",
    "2x & + & 3y & = & 6\n",
    "\\end {cases}\n",
    "\\end {align*}$$\n"
   ]
  },
  {
   "cell_type": "code",
   "execution_count": 11,
   "metadata": {},
   "outputs": [
    {
     "name": "stdout",
     "output_type": "stream",
     "text": [
      "{x: 0, y: 2}\n"
     ]
    }
   ],
   "source": [
    "x = sp.Symbol('x')\n",
    "y = sp.Symbol ('y')\n",
    "res = sp.solve((x-y+2, 2*x+3*y-6),(x,y))\n",
    "print(res)"
   ]
  },
  {
   "cell_type": "markdown",
   "metadata": {},
   "source": [
    "**vấn đê 2** Tìm giao điểm giữa ba mặt phẳng trong $\\mathbb {R}^{3}$\n",
    "$$ \\begin {align*}\n",
    "\\begin{cases}\n",
    "x & - & y & = & 2\\\\\n",
    "2x & - & y & - & z & = & 3\\\\\n",
    "x & + & y & + & z & = & 6\n",
    "\\end {cases}\n",
    "\\end {align*}$$"
   ]
  },
  {
   "cell_type": "code",
   "execution_count": 12,
   "metadata": {},
   "outputs": [
    {
     "name": "stdout",
     "output_type": "stream",
     "text": [
      "{x: 3, y: 1, z: 2}\n"
     ]
    }
   ],
   "source": [
    "x = sp.symbols('x')\n",
    "y = sp.symbols('y')\n",
    "z = sp.symbols('z')\n",
    "res = sp.solve((x-y-0-2,2*x-y-z-3, x+y+z-6),(x,y,z))\n",
    "\n",
    "print(res)"
   ]
  },
  {
   "cell_type": "markdown",
   "metadata": {},
   "source": [
    "**vấn đề 3** Tìm các hệ số đa thức để đa thức thoả các nghiệm \n",
    "$$\\begin {align*}\n",
    "\\begin{cases}\n",
    "a & + & b & + & c & = &4\\\\\n",
    "4a & + & 2b & + & c & = &3\\\\\n",
    "9a & + & 3b & + & c & = & 4\n",
    "\\end{cases} \n",
    "\\end {align*}$$"
   ]
  },
  {
   "cell_type": "code",
   "execution_count": 13,
   "metadata": {},
   "outputs": [
    {
     "name": "stdout",
     "output_type": "stream",
     "text": [
      "{a: 1, b: -4, c: 7}\n"
     ]
    }
   ],
   "source": [
    "a = sp.symbols ('a')\n",
    "b = sp.symbols ('b')\n",
    "c  = sp.symbols('c')\n",
    "res = sp.solve ((a+b+c-4,4*a+2*b+c-3,9*a+3*b+c-4),(a,b,c))\n",
    "print(res)"
   ]
  },
  {
   "cell_type": "markdown",
   "metadata": {},
   "source": [
    "**vấn đề 4** tìm các hệ đa thức khi phân rã để tính tích phân\n",
    "$$ \\int_{0}^{1} \\frac{x(x-3)}{(x-2^2)(x=2)} dx $$"
   ]
  },
  {
   "cell_type": "code",
   "execution_count": 15,
   "metadata": {},
   "outputs": [
    {
     "name": "stdout",
     "output_type": "stream",
     "text": [
      "{x: -1/9, y: -2/3, z: 10/9}\n"
     ]
    }
   ],
   "source": [
    "import sympy as sp\n",
    "a = sp.Symbol('x')\n",
    "b = sp.Symbol('y')\n",
    "c = sp.Symbol('z')\n",
    "res = sp.solve((x+z-1,x+y-2*z+3,-2*x+2*y+z),(x,y,z))\n",
    "print(res)"
   ]
  },
  {
   "cell_type": "markdown",
   "metadata": {},
   "source": [
    "## **CÂU 3**\n",
    "Tính luỹ thừa bậc k của ma trận $𝑭_k = \\left( \\begin{matrix} 1&1 \\\\ 1&0 \\end{matrix}\\right)^\\text{k}$ và chứng minh ma trânh **F_k** chứa 3 phần tử của $\\text{𝐹𝑖𝑏𝑜}_{𝑘+1}$, $\\text{𝐹𝑖𝑏𝑜}_𝑘$ và $\\text{𝐹𝑖𝑏𝑜}_{𝑘−1}$ của dãy Fibonacci (bắt đầu bằng 0 từ phần tử 0)"
   ]
  },
  {
   "cell_type": "code",
   "execution_count": 2,
   "metadata": {},
   "outputs": [
    {
     "name": "stdout",
     "output_type": "stream",
     "text": [
      "F_11 = 89\n",
      "F_10 = 55\n",
      "F_9 = 34\n"
     ]
    }
   ],
   "source": [
    "import numpy as np\n",
    "def fibonacci_matrix_power(k):\n",
    "    F = np.array([[1, 1], [1, 0]])\n",
    "    F_k = np.linalg.matrix_power(F, k)\n",
    "    return F_k\n",
    "\n",
    "def fibonacci_sequence_elements(k):\n",
    "    F_k = fibonacci_matrix_power(k)\n",
    "    F_iplus1 = F_k[0, 0]\n",
    "    F_i = F_k[1, 0]\n",
    "    F_iminus1 = F_k[1, 1]\n",
    "    return F_iplus1, F_i, F_iminus1\n",
    "\n",
    "k = int (input(\"nhập phần tử thứ k: \"))\n",
    "F_iplus1, F_i, F_iminus1 = fibonacci_sequence_elements(k)\n",
    "\n",
    "print(f\"F_{k+1} =\", F_iplus1)\n",
    "print(f\"F_{k} =\", F_i)\n",
    "print(f\"F_{k-1} =\", F_iminus1)\n"
   ]
  },
  {
   "cell_type": "markdown",
   "metadata": {},
   "source": []
  }
 ],
 "metadata": {
  "kernelspec": {
   "display_name": "Python 3",
   "language": "python",
   "name": "python3"
  },
  "language_info": {
   "codemirror_mode": {
    "name": "ipython",
    "version": 3
   },
   "file_extension": ".py",
   "mimetype": "text/x-python",
   "name": "python",
   "nbconvert_exporter": "python",
   "pygments_lexer": "ipython3",
   "version": "3.11.7"
  }
 },
 "nbformat": 4,
 "nbformat_minor": 2
}

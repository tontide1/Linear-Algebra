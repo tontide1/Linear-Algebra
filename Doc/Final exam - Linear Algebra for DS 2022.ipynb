{
 "cells": [
  {
   "cell_type": "markdown",
   "id": "9ae044c1",
   "metadata": {},
   "source": [
    "# Đề thi cuối kỳ Đại số tuyến tính tính toán trong Khoa học dữ liệu\n",
    "## Trường ĐH Công nghiệp TPHCM - Khoa CNTT"
   ]
  },
  {
   "cell_type": "markdown",
   "id": "0e1d7961",
   "metadata": {},
   "source": [
    "> Ngày $29/5/2022$, tiết $4-6$. Thời gian làm bài: $90$ phút. SV được dùng tài liệu và Internet."
   ]
  },
  {
   "cell_type": "markdown",
   "id": "8d248e75",
   "metadata": {},
   "source": [
    "### Bài 1. (2đ)\n",
    "Cho hai ma trận vuông $3 \\times 3$ sau đây:\n",
    "$$A=\\left( \\begin{matrix}\n",
    "   2 & 2 & 1  \\\\\n",
    "   2 & 5 & 3  \\\\\n",
    "   2 & 3 & 5  \\\\\n",
    "\\end{matrix} \\right) \\text{ và } B=\\left( \\begin{matrix}\n",
    "   3 & 1 & 2  \\\\\n",
    "   -1 & 2 & 4  \\\\\n",
    "   2 & 6 & 3  \\\\\n",
    "\\end{matrix} \\right).$$\n",
    "- **a)** Hỏi trong các đẳng thức sau có bao nhiêu đẳng thức đúng, hãy kiểm chứng bằng code: $$(A+B)^T = A^T+B^T, \\, AB=BA, \\,(AB)^{-1} = B^{-1}A^{-1}.$$\n",
    "- **b)** Tìm ma trận $C$ thỏa mãn $AC - C = B$. *Gợi ý:* $C = CI = IC$ với $I$ là ma trận đơn vị.\n",
    "- **c)** Tìm vector $\\textbf{x}$ thỏa mãn $A\\textbf{x} = B \\textbf{b}$ với $\\textbf{x}^T = (x_1,x_2,x_3)$ và $\\textbf{b}^T = (1,-2,-3)?$ Hỏi có tồn tại vector $\\textbf{x}$ để cho $A\\textbf{x} = \\textbf{b}B$ hay không? Vì sao?"
   ]
  },
  {
   "cell_type": "markdown",
   "id": "fca2f378",
   "metadata": {},
   "source": [
    "### Bài 2. (2đ)\n",
    "\n",
    "Trong lĩnh vực xử lý ngôn ngữ tự nhiên $NLP$, với danh sách từ vựng $\\mathcal{L}$ độ dài $\\ell$, mỗi câu văn có thể được mô tả bởi 1 vector $v\\in\\mathbb{R}^{\\ell}$ mà thành phần thứ $i$ cho biết số lần mà từ $d_i \\in \\mathcal{L}$ xuất hiện trong câu, còn được gọi là tọa độ của câu văn trong $\\mathcal{L}$. Xét các câu văn sau đây:\n",
    "> * $D_1$: *tôi là An*.\n",
    "> * $D_2$: *tôi thích đi xem phim*.\n",
    "> * $D_3$: *An rất thích xem tôi du lịch*.\n",
    "> * $D_4$: *tôi rất rất thích đi du lịch, An là tên tôi*.\n",
    "\n",
    "Giả sử rằng $\\mathcal{L} =$ (*An, du, đi, là, lịch, phim, rất, tên, thích, tôi, xem*) với $|\\mathcal{L}| = 11$ thì chẳng hạn câu văn $D_0$ = *tôi rất thích An An* sẽ có tọa độ là $$d_0 = (2,0,0,0,0,0,1,0,1,1,0).$$\n",
    "- **a)** Viết toạ độ của các câu văn $D_1,D_2,D_3,D_4$ ở dạng vector trong không gian $11$ chiều ứng với từ vựng $\\mathcal{L}$.\n",
    "- **b)** Tính khoảng cách Euclid đôi một giữa các câu văn trên sử dụng thư viện *numpy.linalg*.\n",
    "- **c)** Ở trên ta dùng thư viện, vậy hãy cho biết công thức Toán học cụ thể để tính khoảng cách Euclid giữa hai vector bên dưới là gì:\n",
    "$$d = (x_1,x_2,...,x_{11}) \\text{ và } d' = (y_1,y_2,...,y_{11})?$$"
   ]
  },
  {
   "cell_type": "code",
   "execution_count": 1,
   "id": "82361e98",
   "metadata": {},
   "outputs": [
    {
     "ename": "TypeError",
     "evalue": "'ellipsis' object cannot be interpreted as an integer",
     "output_type": "error",
     "traceback": [
      "\u001b[1;31m---------------------------------------------------------------------------\u001b[0m",
      "\u001b[1;31mTypeError\u001b[0m                                 Traceback (most recent call last)",
      "\u001b[1;32m<ipython-input-1-79be1d261043>\u001b[0m in \u001b[0;36m<module>\u001b[1;34m\u001b[0m\n\u001b[0;32m      7\u001b[0m \u001b[0mD\u001b[0m \u001b[1;33m=\u001b[0m \u001b[0mnp\u001b[0m\u001b[1;33m.\u001b[0m\u001b[0mvstack\u001b[0m\u001b[1;33m(\u001b[0m\u001b[1;33m[\u001b[0m\u001b[0md1\u001b[0m\u001b[1;33m,\u001b[0m\u001b[0md2\u001b[0m\u001b[1;33m,\u001b[0m\u001b[0md3\u001b[0m\u001b[1;33m,\u001b[0m\u001b[0md4\u001b[0m\u001b[1;33m]\u001b[0m\u001b[1;33m)\u001b[0m\u001b[1;33m\u001b[0m\u001b[1;33m\u001b[0m\u001b[0m\n\u001b[0;32m      8\u001b[0m \u001b[0ml\u001b[0m \u001b[1;33m=\u001b[0m \u001b[0mlen\u001b[0m\u001b[1;33m(\u001b[0m\u001b[0mD\u001b[0m\u001b[1;33m)\u001b[0m\u001b[1;33m\u001b[0m\u001b[1;33m\u001b[0m\u001b[0m\n\u001b[1;32m----> 9\u001b[1;33m \u001b[1;32mfor\u001b[0m \u001b[0mi\u001b[0m \u001b[1;32min\u001b[0m \u001b[0mrange\u001b[0m\u001b[1;33m(\u001b[0m\u001b[1;33m...\u001b[0m\u001b[1;33m)\u001b[0m\u001b[1;33m:\u001b[0m\u001b[1;33m\u001b[0m\u001b[1;33m\u001b[0m\u001b[0m\n\u001b[0m\u001b[0;32m     10\u001b[0m     \u001b[1;32mfor\u001b[0m \u001b[0mj\u001b[0m \u001b[1;32min\u001b[0m \u001b[0mrange\u001b[0m\u001b[1;33m(\u001b[0m\u001b[1;33m...\u001b[0m\u001b[1;33m)\u001b[0m\u001b[1;33m:\u001b[0m\u001b[1;33m\u001b[0m\u001b[1;33m\u001b[0m\u001b[0m\n\u001b[0;32m     11\u001b[0m         \u001b[0mprint\u001b[0m\u001b[1;33m(\u001b[0m\u001b[1;34m'Khoảng cách giữa d{} & d{} là'\u001b[0m\u001b[1;33m.\u001b[0m\u001b[0mformat\u001b[0m\u001b[1;33m(\u001b[0m\u001b[0mi\u001b[0m\u001b[1;33m+\u001b[0m\u001b[1;36m1\u001b[0m\u001b[1;33m,\u001b[0m\u001b[0mj\u001b[0m\u001b[1;33m+\u001b[0m\u001b[1;36m1\u001b[0m\u001b[1;33m)\u001b[0m\u001b[1;33m,\u001b[0m \u001b[0mround\u001b[0m\u001b[1;33m(\u001b[0m\u001b[1;33m...\u001b[0m\u001b[1;33m,\u001b[0m \u001b[1;36m2\u001b[0m\u001b[1;33m)\u001b[0m\u001b[1;33m)\u001b[0m\u001b[1;33m\u001b[0m\u001b[1;33m\u001b[0m\u001b[0m\n",
      "\u001b[1;31mTypeError\u001b[0m: 'ellipsis' object cannot be interpreted as an integer"
     ]
    }
   ],
   "source": [
    "#hãy giải câu a), b) bằng cách hoàn thành đoạn code sau đây (điền vào dấu ...)\n",
    "import numpy as np\n",
    "d1 = np.array([...])\n",
    "d2 = np.array([...])\n",
    "d3 = np.array([...])\n",
    "d4 = np.array([...])\n",
    "D = np.vstack([d1,d2,d3,d4])\n",
    "l = len(D)\n",
    "for i in range(...):\n",
    "    for j in range(...):\n",
    "        print('Khoảng cách giữa d{} & d{} là'.format(i+1,j+1), round(..., 2))"
   ]
  },
  {
   "cell_type": "markdown",
   "id": "ec621c6a",
   "metadata": {},
   "source": [
    "### Bài 3. (2.5đ)\n",
    "Một thí nghiệm xét mối liên hệ giữa độ giảm trọng lượng của hợp chất ($y$, tính bằng gam) và khoảng thời gian mà hợp chất tiếp xúc với không khí ($x$, tính bằng năm), trong đó số âm có thể hiểu là giai đoạn xử lý nguyên liệu, trước khi điều chế ra hợp chất. Ta có bảng dữ liệu như sau:"
   ]
  },
  {
   "cell_type": "markdown",
   "id": "b2fe4308",
   "metadata": {},
   "source": [
    "| $x$    | $-2$ | $0$   | $1$  | $2$  | $4$   |\n",
    "|--------|------|-------|------|------|-------|\n",
    "| $y$    | $-1$ | $1.5$ | $3.1$| $6.3$| $11.1$| "
   ]
  },
  {
   "cell_type": "markdown",
   "id": "5180a309",
   "metadata": {},
   "source": [
    "- **a)** Giả sử $x,y$ thỏa mãn mô hình $y=a+bx+c \\ln(x^2+1).$ Hãy sử dụng phương pháp bình phương cực tiểu, ước lượng các tham số $a,b,c.$ <br>\n",
    "- **b)** Vẽ đồ thị cho dữ liệu. Sử dụng kết quả trên để dự đoán $y$ khi $x = 6.5$. <br>\n",
    "- **c)** Hỏi có nên dùng mô hình $y=a+bx+c \\ln(x)$ hoặc $y = a+bx+\\frac{c}{x}$ để xấp xỉ dữ liệu trên không? Vì sao?"
   ]
  },
  {
   "cell_type": "code",
   "execution_count": null,
   "id": "72aa58fe",
   "metadata": {},
   "outputs": [],
   "source": [
    "#Hàm logarit nepe trong Python là np.log(x), khởi tạo ma trận hệ số\n",
    "A = np.array([[...],[...],[...],[...],[...]])\n",
    "b = np.array([...])\n",
    "#dùng công thức tính ma trận giả nghịch đảo:\n",
    "...\n",
    "...\n",
    "...\n",
    "#code để vẽ đồ thị\n",
    "from matplotlib import pyplot as plt\n",
    "plt.plot(..., marker=\".\", color=\"red\")\n",
    "... #plot các điểm khác tương tự\n",
    "x = ...\n",
    "y = ...\n",
    "plt.plot(x,y)\n",
    "plt.show()"
   ]
  },
  {
   "cell_type": "markdown",
   "id": "0025988b",
   "metadata": {},
   "source": [
    "### Bài 4. (2.5đ)\n",
    "Theo khảo sát trong sinh viên của ĐH Công nghiệp TPHCM đối với ba quán cafe $A,B,C$ trước cổng trường thì người ta có thông tin về sự thay đổi lượng khách đến quán sau mỗi tuần như bên dưới, cho biết thêm rằng ban đầu, hai quán $A,B$ chưa mở nên $100\\%$ khách đều đến $C$:\n",
    " * + Trong những SV đến quán cafe $A$, sẽ có $20\\%$ người tiếp tục đến $A$, có $60\\%$ người sang $B$ và $20\\%$ người sang $C$.\n",
    " * + Trong những SV đến quán cafe $B$, sẽ có $10\\%$ người sang $A$, có $40\\%$ người tiếp tục đến $B$ và $50\\%$ người sang $C$.\n",
    " * + Trong những SV đến quán cafe $C$, sẽ có $70\\%$ người sang $A$, có $20\\%$ người sang $B$ và $10\\%$ người tiếp tục đến $C$.\n",
    "\n",
    "- **a)** Hãy lập ma trận chuyển trạng thái Markov $X$ kích thước $3 \\times 3$ mô tả cho sự thay đổi của lượng người đến các quán. Từ đó tính tỷ lệ phần trăm những người đến quán $A,B,C$ sau $1$ tháng ($4$ tuần).\n",
    "- **b)** Bằng cách khảo sát các lũy thừa ma trận với số mũ lớn, hãy cho biết thị phần ổn định của các quán sau khi hoạt động trong thời gian đủ lâu. Hãy thực hiện việc này bằng $2$ cách sau: dùng vòng lặp for, dùng thư viện của numpy.linalg."
   ]
  },
  {
   "cell_type": "code",
   "execution_count": 3,
   "id": "4dc137ee",
   "metadata": {},
   "outputs": [
    {
     "name": "stdout",
     "output_type": "stream",
     "text": [
      "Tỉ lệ phần trăm người đến quán A, B, C sau 1 tháng (4 tuần) là:  [0.3259 0.3884 0.2857]\n",
      "Thị phần ổn định sau 1 khoảng thời gian 100 tuần:\n",
      "Theo cách 1:\n",
      "[[0.30555556 0.30555556 0.30555556]\n",
      " [0.40277778 0.40277778 0.40277778]\n",
      " [0.29166667 0.29166667 0.29166667]]\n",
      "Theo cách 2:\n",
      "[0.30555556 0.40277778 0.29166667]\n"
     ]
    }
   ],
   "source": [
    "#Gợi ý code mẫu như sau\n",
    "X = np.array([...]) # ma trận chuyển trạng thái\n",
    "v = np.array([...]) # vector mô tả tỷ lệ khách ban đầu của A, B, C\n",
    "#a) sau khi hoạt động một tháng\n",
    "...\n",
    "#b) Chọn lũy thừa thích hợp đến khi ma trận hội tụ thì nêu đáp số\n",
    "#Cách 1: dùng thư viện\n",
    "X1 = ...\n",
    "#Cách 2: dùng vòng lặp:\n",
    "X2 = X\n",
    "for _ in range(...):\n",
    "    ...\n",
    "..."
   ]
  },
  {
   "cell_type": "markdown",
   "id": "a422dba2",
   "metadata": {},
   "source": [
    "### Bài 5. (1đ)\n",
    "- **a)** Hãy tải về một ảnh bất kỳ, đặt tên là *picture.jpg*, hiển thị lên notebook và cho biết tỷ lệ giữa chiều dài, rộng của nó.\n",
    "- **b)** Hãy chỉnh sửa ra một ảnh mới với tên *new_pic.jpg* từ ảnh ở trên với kích thước mới có tỷ lệ chiều dài, rộng bằng tỷ lệ của giấy in, tức là $1 : \\sqrt{2}$. Hãy cho biết cơ sở nào của đại số tuyến tính được sử dụng trong các thao tác xử lý ảnh này?"
   ]
  },
  {
   "cell_type": "code",
   "execution_count": null,
   "id": "f1cb8303",
   "metadata": {},
   "outputs": [],
   "source": [
    "#Gợi ý code mẫu như sau\n",
    "from PIL import Image\n",
    "img = Image.open(r'C:\\Users\\Admin\\Desktop\\picture.jpg') #có thể đổi tên đường dẫn thích hợp\n",
    "#a) Hiển thị ảnh và kích thước dài - rộng\n",
    "...\n",
    "...\n",
    "#b) Điều chỉnh kích thước và hiển thị lại ảnh mới\n",
    "new_width = ...\n",
    "new_height = ...\n",
    "new_img = ...\n",
    "new_img.save(r'C:\\Users\\Admin\\Desktop\\new_pic.jpg') #có thể đổi tên đường dẫn thích hợp\n",
    "..."
   ]
  }
 ],
 "metadata": {
  "kernelspec": {
   "display_name": "Python 3",
   "language": "python",
   "name": "python3"
  },
  "language_info": {
   "codemirror_mode": {
    "name": "ipython",
    "version": 3
   },
   "file_extension": ".py",
   "mimetype": "text/x-python",
   "name": "python",
   "nbconvert_exporter": "python",
   "pygments_lexer": "ipython3",
   "version": "3.8.8"
  }
 },
 "nbformat": 4,
 "nbformat_minor": 5
}

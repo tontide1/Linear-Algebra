{
 "cells": [
  {
   "cell_type": "markdown",
   "metadata": {},
   "source": [
    "# Đề thi Giữa kỳ Đại số tuyến tính cho Khoa học dữ liệu\n",
    "## Khoa CNTT - trường ĐH Công nghiệp.\n",
    "### Nhóm thực hành 1 & 2. Ngày 01/04/2022. Thời gian làm bài: 15h30' - 17h15'."
   ]
  },
  {
   "cell_type": "code",
   "execution_count": 1,
   "metadata": {},
   "outputs": [],
   "source": [
    "import numpy as np\n",
    "from sympy import *"
   ]
  },
  {
   "cell_type": "markdown",
   "metadata": {},
   "source": [
    "## Bài 1. (4 điểm)\n",
    "Cho hai ma trận sau đây"
   ]
  },
  {
   "cell_type": "markdown",
   "metadata": {},
   "source": [
    "$$A=\\left( \\begin{matrix}\n",
    "   1 & 0 & 2 & a  \\\\\n",
    "   1 & 2 & 4 & b  \\\\\n",
    "   -1 & 2 & 0 & c  \\\\\n",
    "   3 & -1 & 3 & d  \\\\\n",
    "\\end{matrix} \\right), B=\\left( \\begin{matrix}\n",
    "   4 & 5 & 1 & -2  \\\\\n",
    "   0 & 1 & 2 & 1  \\\\\n",
    "   0 & -2 & -3 & 1  \\\\\n",
    "   a & b & c & d  \\\\\n",
    "\\end{matrix} \\right)$$\n",
    "trong đó $a,b,c,d$ là $4$ số cuối trong $MSSV$ (viết theo thứ tự từ trái sang phải). Khi làm bài, $SV$ chủ động thay các mã số đó vào đề bài trên."
   ]
  },
  {
   "cell_type": "markdown",
   "metadata": {},
   "source": [
    "Bằng cách dùng các thư viện có hỗ trợ sẵn của Python, hãy thực hiện các yêu cầu sau:\n",
    "* a) Tính $B+A$, $B{{A}^{T}}$, $2A-3B$.\n",
    "* b) Tính $\\det (A)$ , $\\det ({{B}^{T}}+2I)$, $rank(AB).$ \n",
    "* c) Tính norm của vector hàng $1$ của $A,$ tính norm của vector cột $3$ của $B,$ tính tổng các phần tử trên đường chéo của $A.$\n",
    "* d) Kiểm tra công thức ${{(AB)}^{T}}={{B}^{T}}{{A}^{T}}$ dựa trên hai ma trận đã cho.\n",
    "* e) Kiểm tra công thức $det(AB) = det(A)det(B)$ dựa trên hai ma trận đã cho.\n",
    "* f) Sinh ngẫu nhiên một ma trận $C$ có kích thước $4\\times 4$ với các phần tử là số nguyên trong miền từ $-9\\to 9$, từ đó in ra các phần tử nằm phía dưới đường chéo của $A+BC.$ "
   ]
  },
  {
   "cell_type": "code",
   "execution_count": 2,
   "metadata": {},
   "outputs": [],
   "source": [
    "A = np.matrix([[1, 0, 2, 5], [1, 2, 4, 3], [-1, 2, 0, 9], [3, -1, 3, 1]])\n",
    "B = np.matrix([[4, 5, 1, -2], [0, 1, 2, 1], [0, -2, -3, 1], [5, 3, 9, 1]])"
   ]
  },
  {
   "cell_type": "code",
   "execution_count": 3,
   "metadata": {},
   "outputs": [
    {
     "data": {
      "text/plain": [
       "matrix([[ 5,  5,  3,  3],\n",
       "        [ 1,  3,  6,  4],\n",
       "        [-1,  0, -3, 10],\n",
       "        [ 8,  2, 12,  2]])"
      ]
     },
     "execution_count": 3,
     "metadata": {},
     "output_type": "execute_result"
    }
   ],
   "source": [
    "# a.\n",
    "B+A"
   ]
  },
  {
   "cell_type": "code",
   "execution_count": 4,
   "metadata": {},
   "outputs": [
    {
     "data": {
      "text/plain": [
       "matrix([[ -4,  12, -12,   8],\n",
       "        [  9,  13,  11,   6],\n",
       "        [ -1, -13,   5,  -6],\n",
       "        [ 28,  50,  10,  40]])"
      ]
     },
     "execution_count": 4,
     "metadata": {},
     "output_type": "execute_result"
    }
   ],
   "source": [
    "B@A.T"
   ]
  },
  {
   "cell_type": "code",
   "execution_count": 5,
   "metadata": {},
   "outputs": [
    {
     "data": {
      "text/plain": [
       "matrix([[-10, -15,   1,  16],\n",
       "        [  2,   1,   2,   3],\n",
       "        [ -2,  10,   9,  15],\n",
       "        [ -9, -11, -21,  -1]])"
      ]
     },
     "execution_count": 5,
     "metadata": {},
     "output_type": "execute_result"
    }
   ],
   "source": [
    "2*A-3*B"
   ]
  },
  {
   "cell_type": "code",
   "execution_count": 6,
   "metadata": {},
   "outputs": [
    {
     "data": {
      "text/plain": [
       "64.00000000000003"
      ]
     },
     "execution_count": 6,
     "metadata": {},
     "output_type": "execute_result"
    }
   ],
   "source": [
    "# b.\n",
    "#  det(A)\n",
    "np.linalg.det(A)"
   ]
  },
  {
   "cell_type": "code",
   "execution_count": 29,
   "metadata": {},
   "outputs": [
    {
     "data": {
      "text/plain": [
       "-237.99999999999986"
      ]
     },
     "execution_count": 29,
     "metadata": {},
     "output_type": "execute_result"
    }
   ],
   "source": [
    "np.linalg.det(B.T + 2*np.identity(B.shape[0]))"
   ]
  },
  {
   "cell_type": "code",
   "execution_count": 30,
   "metadata": {},
   "outputs": [
    {
     "data": {
      "text/plain": [
       "4"
      ]
     },
     "execution_count": 30,
     "metadata": {},
     "output_type": "execute_result"
    }
   ],
   "source": [
    "np.linalg.matrix_rank(A@B)"
   ]
  },
  {
   "cell_type": "code",
   "execution_count": 32,
   "metadata": {},
   "outputs": [
    {
     "data": {
      "text/plain": [
       "5.477225575051661"
      ]
     },
     "execution_count": 32,
     "metadata": {},
     "output_type": "execute_result"
    }
   ],
   "source": [
    "# c.\n",
    "#  norm của vector hàng  1  của  𝐴\n",
    "np.linalg.norm(A[0])"
   ]
  },
  {
   "cell_type": "code",
   "execution_count": 33,
   "metadata": {},
   "outputs": [
    {
     "data": {
      "text/plain": [
       "9.746794344808963"
      ]
     },
     "execution_count": 33,
     "metadata": {},
     "output_type": "execute_result"
    }
   ],
   "source": [
    "# norm của vector cột  3  của  𝐵\n",
    "np.linalg.norm(B[:, 2])"
   ]
  },
  {
   "cell_type": "code",
   "execution_count": 34,
   "metadata": {},
   "outputs": [
    {
     "data": {
      "text/plain": [
       "4"
      ]
     },
     "execution_count": 34,
     "metadata": {},
     "output_type": "execute_result"
    }
   ],
   "source": [
    "#tổng các phần tử trên đường chéo của  𝐴.\n",
    "np.trace(A)"
   ]
  },
  {
   "cell_type": "code",
   "execution_count": 39,
   "metadata": {},
   "outputs": [
    {
     "data": {
      "text/plain": [
       "matrix([[ True,  True,  True,  True],\n",
       "        [ True,  True,  True,  True],\n",
       "        [ True,  True,  True,  True],\n",
       "        [ True,  True,  True,  True]])"
      ]
     },
     "execution_count": 39,
     "metadata": {},
     "output_type": "execute_result"
    }
   ],
   "source": [
    "# d.\n",
    "# (𝐴𝐵)𝑇\n",
    "(A@B).T == B.T@A.T"
   ]
  },
  {
   "cell_type": "code",
   "execution_count": 40,
   "metadata": {},
   "outputs": [
    {
     "data": {
      "text/plain": [
       "True"
      ]
     },
     "execution_count": 40,
     "metadata": {},
     "output_type": "execute_result"
    }
   ],
   "source": [
    "# e.\n",
    "round(np.linalg.det(A@B), 3) == round(np.linalg.det(A)*np.linalg.det(B), 3)"
   ]
  },
  {
   "cell_type": "code",
   "execution_count": 42,
   "metadata": {},
   "outputs": [
    {
     "data": {
      "text/plain": [
       "array([[-4, -3, -8,  9],\n",
       "       [-6,  7,  3, -6],\n",
       "       [ 5,  2,  9, -5],\n",
       "       [ 3, -4, -4, -9]])"
      ]
     },
     "execution_count": 42,
     "metadata": {},
     "output_type": "execute_result"
    }
   ],
   "source": [
    "# f.\n",
    "C = np.random.randint(-9, 10, size=(4, 4))\n",
    "C"
   ]
  },
  {
   "cell_type": "code",
   "execution_count": 46,
   "metadata": {},
   "outputs": [
    {
     "data": {
      "text/plain": [
       "array([[-46,   0,   0],\n",
       "       [  8,   9,   0],\n",
       "       [ -1, -22, -37]])"
      ]
     },
     "execution_count": 46,
     "metadata": {},
     "output_type": "execute_result"
    }
   ],
   "source": [
    "np.tril((A + B@C)[:-1, :-1])"
   ]
  },
  {
   "cell_type": "markdown",
   "metadata": {},
   "source": [
    "## Bài 2. (2 điểm)\n",
    "Kết quả học tập của một nhóm sinh viên ở môn Đại số tuyến tính cho Khoa học dữ liệu được cho trong bảng bên dưới. Sinh viên chỉ qua môn nếu điểm tổng kết không dưới $5.0$."
   ]
  },
  {
   "cell_type": "markdown",
   "metadata": {},
   "source": [
    "|Sinh viên | BT cá nhân  | Báo cáo   | Giữa kỳ   | Cuối kỳ   |\n",
    "|----------|-------------|-----------|-----------|-----------|\n",
    "|  A       |     8       |    7      |    6      |    4      |\n",
    "|  B       |     0       |    7      |    5      |    6      |\n",
    "|  C       |     3       |    9      |    4      |    5      |\n",
    "|  D       |     7       |    8      |    3      |    5      |\n",
    "|  E       |     10      |    10     |    10     |    9      |\n",
    "|  F       |     6       |    0      |    6      |    5      |"
   ]
  },
  {
   "cell_type": "markdown",
   "metadata": {},
   "source": [
    "Giảng viên đang cân nhắc cho các điểm theo trọng số nào để có lợi cho các sinh viên nhất (ít người rớt nhất), có $3$ phương án:\n",
    "* $0.2, 0.2, 0.2, 0.4$.\n",
    "* $0.1, 0.1, 0.3, 0.5.$\n",
    "* $0.1, 0.2, 0.3, 0.4.$\n",
    "\n",
    "Hãy giúp giảng viên lựa chọn phương án thích hợp."
   ]
  },
  {
   "cell_type": "code",
   "execution_count": 136,
   "metadata": {},
   "outputs": [],
   "source": [
    "T = np.array([[0.2, 0.2, 0.2, 0.4], [0.1, 0.1, 0.3, 0.5], [0.1, 0.2, 0.3, 0.4]])\n",
    "M = np.array([[8, 7, 6, 4], [0, 7, 5, 6], [3, 9, 4, 5], [7, 8, 3, 5], [10, 10, 10, 9], [6, 0, 6, 5]]).transpose()"
   ]
  },
  {
   "cell_type": "code",
   "execution_count": 137,
   "metadata": {},
   "outputs": [
    {
     "data": {
      "text/plain": [
       "array([2, 3, 1])"
      ]
     },
     "execution_count": 137,
     "metadata": {},
     "output_type": "execute_result"
    }
   ],
   "source": [
    "# đếm só học sinh không qua cho mỗi phương án\n",
    "check = ((T@M) < 5)\n",
    "check.sum(axis=1)"
   ]
  },
  {
   "cell_type": "markdown",
   "metadata": {},
   "source": [
    "Từ các số ở trên ta thấy phương án 3 là phương án thích hợp nhất"
   ]
  },
  {
   "cell_type": "markdown",
   "metadata": {},
   "source": [
    "## Bài 3. (2  điểm)\n",
    "Cho bài toán sau, hãy bằng cách lập hệ phương trình thích hợp và giải bằng Python theo **ít nhất $2$ cách khác nhau**: <br>\n",
    "\n",
    "Trong đợt dịch cúm Covid-19, sinh viên của một trường Đại học có nhận được trợ cấp từ nhà trường, từ địa phương và từ hội cựu sinh viên. Khảo sát trong một lớp học có ba nhóm: đang ở quê, đang ở trọ tại TPHCM và đang ở KTX trường. Biết rằng mức tiền hỗ trợ tiền:\n",
    "* Của trường cho các nhóm trên lần lượt là: $200k, 600k, 400k$; \n",
    "* Của địa phương là: $500k, 500k, 500k$; \n",
    "* Của hội cựu sinh viên là: $0k, 700k, 300k.$\n",
    "\n",
    "Biết rằng tổng tiền mà sinh viên được từ nhà trường là $21$ triệu, từ địa phương là $50$ triệu và từ hội cựu sinh viên là $32$ triệu. Tính tổng sinh viên của lớp."
   ]
  },
  {
   "cell_type": "code",
   "execution_count": 152,
   "metadata": {},
   "outputs": [],
   "source": [
    "# C1:\n",
    "T = np.array([[200, 600, 400, 37000], [500, 500, 500, 50000], [0, 700, 300, 29000]])\n",
    "x = np.array([Symbol('x{:d}'.format(i)) for i in range(3)])\n",
    "t = np.hstack((x, -1))"
   ]
  },
  {
   "cell_type": "code",
   "execution_count": 157,
   "metadata": {},
   "outputs": [
    {
     "data": {
      "text/latex": [
       "$\\displaystyle 100$"
      ],
      "text/plain": [
       "100"
      ]
     },
     "execution_count": 157,
     "metadata": {},
     "output_type": "execute_result"
    }
   ],
   "source": [
    "kq = solve(T.dot(t))\n",
    "values = list(kq.values())\n",
    "np.sum(values)"
   ]
  },
  {
   "cell_type": "code",
   "execution_count": 158,
   "metadata": {},
   "outputs": [],
   "source": [
    "# C2:\n",
    "T1 = np.matrix([[200, 600, 400], [500, 500, 500], [0, 700, 300]])\n",
    "b1 = np.array([37000, 50000, 29000])"
   ]
  },
  {
   "cell_type": "code",
   "execution_count": 159,
   "metadata": {},
   "outputs": [
    {
     "data": {
      "text/plain": [
       "100.0"
      ]
     },
     "execution_count": 159,
     "metadata": {},
     "output_type": "execute_result"
    }
   ],
   "source": [
    "round((T1.I).dot(b1).sum(), 2)"
   ]
  },
  {
   "cell_type": "markdown",
   "metadata": {},
   "source": [
    "Vậy có tổng cộng 100 sinh viên"
   ]
  },
  {
   "cell_type": "markdown",
   "metadata": {},
   "source": [
    "## Bài 4. (2 điểm)\n",
    "Cho ma trận: $M=\\left( \\begin{matrix}\n",
    "   2 & a & -2  \\\\\n",
    "   0 & 3 & 0  \\\\\n",
    "   0 & 0 & 3  \\\\\n",
    "\\end{matrix} \\right)$ trong đó $a$ là tham số thực.\n",
    "* a) Cho $a=1,$ hãy chéo hóa ma trận này để thu được ma trận $D$ bằng cách dùng thư viện của Python và kiểm chứng lại bằng việc tính toán từng bước để tìm đa thức đặc trưng và các giá trị riêng của $M$. Từ đó hãy nêu cách tính ${{M}^{99}}$.\n",
    "* b) Ma trận chéo hóa $D$ của $M$ luôn không đổi với mọi giá trị $a$ tùy ý, hãy kiểm chứng với vài giá trị cụ thể của $a$ và giải thích lý do.\n"
   ]
  },
  {
   "cell_type": "code",
   "execution_count": 142,
   "metadata": {},
   "outputs": [],
   "source": [
    "# a.\n",
    "a = 1\n",
    "M = np.matrix([[2, a, -2], [0, 3, 0], [0, 0, 3]])"
   ]
  },
  {
   "cell_type": "code",
   "execution_count": 143,
   "metadata": {},
   "outputs": [],
   "source": [
    "D, P = np.linalg.eigh(M)\n",
    "D = np.diag(D)\n",
    "P = np.matrix(P)"
   ]
  },
  {
   "cell_type": "markdown",
   "metadata": {},
   "source": [
    "Ma trận đương chéo các trị riêng $D$ là:"
   ]
  },
  {
   "cell_type": "code",
   "execution_count": 144,
   "metadata": {},
   "outputs": [
    {
     "data": {
      "text/latex": [
       "$\\displaystyle \\left[\\begin{matrix}2.0 & 0.0 & 0.0\\\\0.0 & 3.0 & 0.0\\\\0.0 & 0.0 & 3.0\\end{matrix}\\right]$"
      ],
      "text/plain": [
       "Matrix([\n",
       "[2.0, 0.0, 0.0],\n",
       "[0.0, 3.0, 0.0],\n",
       "[0.0, 0.0, 3.0]])"
      ]
     },
     "execution_count": 144,
     "metadata": {},
     "output_type": "execute_result"
    }
   ],
   "source": [
    "Matrix(D)"
   ]
  },
  {
   "cell_type": "markdown",
   "metadata": {},
   "source": [
    "### Tính tay:\n",
    "Ta có: $Mv = \\lambda v$<br>\n",
    "$-> (M-\\lambda I)v = 0$ <br>\n",
    "Từ đó ta có: $det(M - \\lambda I) = 0$"
   ]
  },
  {
   "cell_type": "code",
   "execution_count": 145,
   "metadata": {},
   "outputs": [],
   "source": [
    "lamb = Symbol('lambda')\n",
    "M1 = Matrix(M - lamb*np.identity(3))"
   ]
  },
  {
   "cell_type": "markdown",
   "metadata": {},
   "source": [
    "Đa thức đặc trưng của M là:"
   ]
  },
  {
   "cell_type": "code",
   "execution_count": 146,
   "metadata": {},
   "outputs": [
    {
     "data": {
      "text/latex": [
       "$\\displaystyle - 1.0 \\lambda^{3} + 8.0 \\lambda^{2} - 21.0 \\lambda + 18$"
      ],
      "text/plain": [
       "-1.0*lambda**3 + 8.0*lambda**2 - 21.0*lambda + 18"
      ]
     },
     "execution_count": 146,
     "metadata": {},
     "output_type": "execute_result"
    }
   ],
   "source": [
    "M1.det()"
   ]
  },
  {
   "cell_type": "markdown",
   "metadata": {},
   "source": [
    "Các trị riêng là:"
   ]
  },
  {
   "cell_type": "code",
   "execution_count": 147,
   "metadata": {},
   "outputs": [
    {
     "data": {
      "text/plain": [
       "[2.00000000000000, 3.00000000000000]"
      ]
     },
     "execution_count": 147,
     "metadata": {},
     "output_type": "execute_result"
    }
   ],
   "source": [
    "solve(M1.det())"
   ]
  },
  {
   "cell_type": "markdown",
   "metadata": {},
   "source": [
    "Ta có: $M = PDP^{-1} \\rightarrow M^{99}=PD^{99}P^{-1}$"
   ]
  },
  {
   "cell_type": "code",
   "execution_count": 148,
   "metadata": {},
   "outputs": [],
   "source": [
    "M99 = P@np.power(D, 99)@P.I"
   ]
  },
  {
   "cell_type": "markdown",
   "metadata": {},
   "source": [
    "Ma trận $M^{99}$ là:"
   ]
  },
  {
   "cell_type": "code",
   "execution_count": 149,
   "metadata": {},
   "outputs": [
    {
     "data": {
      "text/latex": [
       "$\\displaystyle \\left[\\begin{matrix}6.33825300114115 \\cdot 10^{29} & 0.0 & 0.0\\\\0.0 & 1.7179250691067 \\cdot 10^{47} & 0.0\\\\0.0 & 0.0 & 1.7179250691067 \\cdot 10^{47}\\end{matrix}\\right]$"
      ],
      "text/plain": [
       "Matrix([\n",
       "[6.33825300114115e+29,                 0.0,                 0.0],\n",
       "[                 0.0, 1.7179250691067e+47,                 0.0],\n",
       "[                 0.0,                 0.0, 1.7179250691067e+47]])"
      ]
     },
     "execution_count": 149,
     "metadata": {},
     "output_type": "execute_result"
    }
   ],
   "source": [
    "Matrix(M99)"
   ]
  },
  {
   "cell_type": "code",
   "execution_count": 162,
   "metadata": {},
   "outputs": [],
   "source": [
    "# b.\n",
    "M2 = lambda a: np.matrix([[2, a, -2], [0, 3, 0], [0, 0, 3]])"
   ]
  },
  {
   "cell_type": "code",
   "execution_count": 167,
   "metadata": {},
   "outputs": [
    {
     "data": {
      "text/plain": [
       "array([2., 3., 3.])"
      ]
     },
     "execution_count": 167,
     "metadata": {},
     "output_type": "execute_result"
    }
   ],
   "source": [
    "# Với a = 2:\n",
    "D, P = np.linalg.eigh(M2(2))\n",
    "D"
   ]
  },
  {
   "cell_type": "code",
   "execution_count": 169,
   "metadata": {},
   "outputs": [
    {
     "data": {
      "text/plain": [
       "array([2., 3., 3.])"
      ]
     },
     "execution_count": 169,
     "metadata": {},
     "output_type": "execute_result"
    }
   ],
   "source": [
    "# Với a = 3:\n",
    "D, P = np.linalg.eigh(M2(3))\n",
    "D"
   ]
  },
  {
   "cell_type": "code",
   "execution_count": 170,
   "metadata": {},
   "outputs": [
    {
     "data": {
      "text/plain": [
       "array([2., 3., 3.])"
      ]
     },
     "execution_count": 170,
     "metadata": {},
     "output_type": "execute_result"
    }
   ],
   "source": [
    "# Với a = 4\n",
    "D, P = np.linalg.eigh(M2(4))\n",
    "D"
   ]
  },
  {
   "cell_type": "markdown",
   "metadata": {},
   "source": [
    "Ta thấy các trị riêng không thay đổi khi thay $a$"
   ]
  },
  {
   "cell_type": "code",
   "execution_count": 171,
   "metadata": {},
   "outputs": [
    {
     "data": {
      "text/latex": [
       "$\\displaystyle \\left[\\begin{matrix}2 & a & -2\\\\0 & 3 & 0\\\\0 & 0 & 3\\end{matrix}\\right]$"
      ],
      "text/plain": [
       "Matrix([\n",
       "[2, a, -2],\n",
       "[0, 3,  0],\n",
       "[0, 0,  3]])"
      ]
     },
     "execution_count": 171,
     "metadata": {},
     "output_type": "execute_result"
    }
   ],
   "source": [
    "a = Symbol('a')\n",
    "M2 = Matrix([[2, a, -2], [0, 3, 0], [0, 0, 3]])\n",
    "M2"
   ]
  },
  {
   "cell_type": "code",
   "execution_count": 172,
   "metadata": {},
   "outputs": [
    {
     "data": {
      "text/latex": [
       "$\\displaystyle - 1.0 \\lambda^{3} + 8.0 \\lambda^{2} - 21.0 \\lambda + 18$"
      ],
      "text/plain": [
       "-1.0*lambda**3 + 8.0*lambda**2 - 21.0*lambda + 18"
      ]
     },
     "execution_count": 172,
     "metadata": {},
     "output_type": "execute_result"
    }
   ],
   "source": [
    "(M2-lamb*np.identity(3)).det() "
   ]
  },
  {
   "cell_type": "markdown",
   "metadata": {},
   "source": [
    "Ta dễ dàng nhận thấy $a$ không nằm trong phương trình đặc trưng"
   ]
  },
  {
   "cell_type": "markdown",
   "metadata": {},
   "source": [
    "### Giải thích: \n",
    "Ma trận $M$ là ma trận tam giác trên nên $det(M)$ sẽ bằng tích của các phần tử nằm trên đường chéo chính, từ đó $det(M - \\lambda I)$ cũng sẽ bằng tích tích của các phần tử nằm trên đường chéo chính, mà $a$ không nằm trên đường chéo chính nên sẽ không ảnh hưởng đến các trị riêng của $M$ $\\rightarrow$ ma trận đường chéo $D$ của $M$ luôn không đôi với mọi $a$ tùy ý  "
   ]
  },
  {
   "cell_type": "code",
   "execution_count": null,
   "metadata": {},
   "outputs": [],
   "source": []
  }
 ],
 "metadata": {
  "kernelspec": {
   "display_name": "Python 3",
   "language": "python",
   "name": "python3"
  },
  "language_info": {
   "codemirror_mode": {
    "name": "ipython",
    "version": 3
   },
   "file_extension": ".py",
   "mimetype": "text/x-python",
   "name": "python",
   "nbconvert_exporter": "python",
   "pygments_lexer": "ipython3",
   "version": "3.11.7"
  }
 },
 "nbformat": 4,
 "nbformat_minor": 5
}
